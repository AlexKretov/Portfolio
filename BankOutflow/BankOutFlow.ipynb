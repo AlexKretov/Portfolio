{
 "cells": [
  {
   "cell_type": "markdown",
   "metadata": {},
   "source": [
    "# Описание проекта"
   ]
  },
  {
   "cell_type": "markdown",
   "metadata": {},
   "source": [
    "Из «Бета-Банка» стали уходить клиенты. Каждый месяц. Немного, но заметно. Банковские маркетологи посчитали: сохранять текущих клиентов дешевле, чем привлекать новых.\n",
    "Нужно спрогнозировать, уйдёт клиент из банка в ближайшее время или нет. Вам предоставлены исторические данные о поведении клиентов и расторжении договоров с банком. "
   ]
  },
  {
   "cell_type": "markdown",
   "metadata": {},
   "source": [
    "# Инструменты\n",
    "Matplotlib  \n",
    "Pandas  \n",
    "Scikit-learn\n",
    "seaborn\n",
    "numpy"
   ]
  },
  {
   "cell_type": "markdown",
   "metadata": {},
   "source": [
    "# Цель проекта\n",
    "\n",
    "Построить модель с предельно большим значением F1-меры. (но не менее 0.59). Дополнительно измерить AUC-ROC, сравнивить её значение с F1-мерой."
   ]
  },
  {
   "cell_type": "markdown",
   "metadata": {
    "toc": true
   },
   "source": [
    "<h1>Содержание<span class=\"tocSkip\"></span></h1>\n",
    "<div class=\"toc\"><ul class=\"toc-item\"><li><span><a href=\"#Подготовка-данных\" data-toc-modified-id=\"Подготовка-данных-1\"><span class=\"toc-item-num\">1&nbsp;&nbsp;</span>Подготовка данных</a></span></li><li><span><a href=\"#Загружаем-датасет\" data-toc-modified-id=\"Загружаем-датасет-2\"><span class=\"toc-item-num\">2&nbsp;&nbsp;</span>Загружаем датасет</a></span><ul class=\"toc-item\"><li><span><a href=\"#Работа-с-пропусками\" data-toc-modified-id=\"Работа-с-пропусками-2.1\"><span class=\"toc-item-num\">2.1&nbsp;&nbsp;</span>Работа с пропусками</a></span></li><li><span><a href=\"#Работа-с-аномалиями\" data-toc-modified-id=\"Работа-с-аномалиями-2.2\"><span class=\"toc-item-num\">2.2&nbsp;&nbsp;</span>Работа с аномалиями</a></span></li></ul></li><li><span><a href=\"#Исследование-задачи\" data-toc-modified-id=\"Исследование-задачи-3\"><span class=\"toc-item-num\">3&nbsp;&nbsp;</span>Исследование задачи</a></span><ul class=\"toc-item\"><li><span><a href=\"#Построим-классификатор-без-учёта-дисбаланса-классов\" data-toc-modified-id=\"Построим-классификатор-без-учёта-дисбаланса-классов-3.1\"><span class=\"toc-item-num\">3.1&nbsp;&nbsp;</span>Построим классификатор без учёта дисбаланса классов</a></span></li><li><span><a href=\"#Подберём-модель-с-хорошей-метрикой-F1\" data-toc-modified-id=\"Подберём-модель-с-хорошей-метрикой-F1-3.2\"><span class=\"toc-item-num\">3.2&nbsp;&nbsp;</span>Подберём модель с хорошей метрикой F1</a></span></li></ul></li><li><span><a href=\"#Борьба-с-дисбалансом\" data-toc-modified-id=\"Борьба-с-дисбалансом-4\"><span class=\"toc-item-num\">4&nbsp;&nbsp;</span>Борьба с дисбалансом</a></span><ul class=\"toc-item\"><li><span><a href=\"#Обучение-модели-со-взвешиванием-классов\" data-toc-modified-id=\"Обучение-модели-со-взвешиванием-классов-4.1\"><span class=\"toc-item-num\">4.1&nbsp;&nbsp;</span>Обучение модели со взвешиванием классов</a></span></li><li><span><a href=\"#Применим-увеличение-выборки\" data-toc-modified-id=\"Применим-увеличение-выборки-4.2\"><span class=\"toc-item-num\">4.2&nbsp;&nbsp;</span>Применим увеличение выборки</a></span></li><li><span><a href=\"#Применим-уменьшение-выборки\" data-toc-modified-id=\"Применим-уменьшение-выборки-4.3\"><span class=\"toc-item-num\">4.3&nbsp;&nbsp;</span>Применим уменьшение выборки</a></span></li><li><span><a href=\"#Оптимизация-гипер-параметров\" data-toc-modified-id=\"Оптимизация-гипер-параметров-4.4\"><span class=\"toc-item-num\">4.4&nbsp;&nbsp;</span>Оптимизация гипер-параметров</a></span></li></ul></li><li><span><a href=\"#Тестирование-модели\" data-toc-modified-id=\"Тестирование-модели-5\"><span class=\"toc-item-num\">5&nbsp;&nbsp;</span>Тестирование модели</a></span></li><li><span><a href=\"#Чек-лист-готовности-проекта\" data-toc-modified-id=\"Чек-лист-готовности-проекта-6\"><span class=\"toc-item-num\">6&nbsp;&nbsp;</span>Чек-лист готовности проекта</a></span></li></ul></div>"
   ]
  },
  {
   "cell_type": "markdown",
   "metadata": {},
   "source": [
    "# Отток клиентов"
   ]
  },
  {
   "cell_type": "markdown",
   "metadata": {},
   "source": [
    "## Подготовка данных"
   ]
  },
  {
   "cell_type": "code",
   "execution_count": 1,
   "metadata": {},
   "outputs": [],
   "source": [
    "from sklearn.model_selection import GridSearchCV\n",
    "import pandas as pd\n",
    "import numpy as np\n",
    "import matplotlib.pyplot as plt\n",
    "from sklearn.model_selection import train_test_split\n",
    "from sklearn.linear_model import LogisticRegression\n",
    "from sklearn.linear_model import LogisticRegression\n",
    "from sklearn.svm import SVC\n",
    "from sklearn.neighbors import KNeighborsClassifier\n",
    "from sklearn import tree\n",
    "from sklearn.neural_network import MLPClassifier\n",
    "from sklearn.neighbors import KNeighborsClassifier\n",
    "from sklearn.ensemble import GradientBoostingClassifier\n",
    "from sklearn.ensemble import RandomForestClassifier\n",
    "from sklearn.naive_bayes import GaussianNB\n",
    "from sklearn.dummy import DummyClassifier\n",
    "from sklearn. metrics import classification_report\n",
    "from sklearn.metrics import roc_curve \n",
    "import seaborn as sns\n",
    "\n",
    "from sklearn.metrics import r2_score\n",
    "from sklearn.metrics import mean_absolute_error\n",
    "from sklearn.metrics import roc_auc_score\n",
    "from sklearn.metrics import confusion_matrix\n",
    "from sklearn.metrics import recall_score\n",
    "from sklearn.metrics import precision_score\n",
    "from sklearn.metrics import f1_score\n",
    "from sklearn import linear_model\n",
    "import warnings\n",
    "warnings.filterwarnings('ignore')\n",
    "import time\n",
    "from sklearn.preprocessing import OrdinalEncoder\n",
    "from sklearn.metrics import confusion_matrix, ConfusionMatrixDisplay\n",
    "from sklearn.utils import shuffle"
   ]
  },
  {
   "cell_type": "markdown",
   "metadata": {},
   "source": [
    "## Загружаем датасет"
   ]
  },
  {
   "cell_type": "code",
   "execution_count": 2,
   "metadata": {},
   "outputs": [
    {
     "data": {
      "text/html": [
       "<div>\n",
       "<style scoped>\n",
       "    .dataframe tbody tr th:only-of-type {\n",
       "        vertical-align: middle;\n",
       "    }\n",
       "\n",
       "    .dataframe tbody tr th {\n",
       "        vertical-align: top;\n",
       "    }\n",
       "\n",
       "    .dataframe thead th {\n",
       "        text-align: right;\n",
       "    }\n",
       "</style>\n",
       "<table border=\"1\" class=\"dataframe\">\n",
       "  <thead>\n",
       "    <tr style=\"text-align: right;\">\n",
       "      <th></th>\n",
       "      <th>RowNumber</th>\n",
       "      <th>CustomerId</th>\n",
       "      <th>Surname</th>\n",
       "      <th>CreditScore</th>\n",
       "      <th>Geography</th>\n",
       "      <th>Gender</th>\n",
       "      <th>Age</th>\n",
       "      <th>Tenure</th>\n",
       "      <th>Balance</th>\n",
       "      <th>NumOfProducts</th>\n",
       "      <th>HasCrCard</th>\n",
       "      <th>IsActiveMember</th>\n",
       "      <th>EstimatedSalary</th>\n",
       "      <th>Exited</th>\n",
       "    </tr>\n",
       "  </thead>\n",
       "  <tbody>\n",
       "    <tr>\n",
       "      <th>0</th>\n",
       "      <td>1</td>\n",
       "      <td>15634602</td>\n",
       "      <td>Hargrave</td>\n",
       "      <td>619</td>\n",
       "      <td>France</td>\n",
       "      <td>Female</td>\n",
       "      <td>42</td>\n",
       "      <td>2.0</td>\n",
       "      <td>0.00</td>\n",
       "      <td>1</td>\n",
       "      <td>1</td>\n",
       "      <td>1</td>\n",
       "      <td>101348.88</td>\n",
       "      <td>1</td>\n",
       "    </tr>\n",
       "    <tr>\n",
       "      <th>1</th>\n",
       "      <td>2</td>\n",
       "      <td>15647311</td>\n",
       "      <td>Hill</td>\n",
       "      <td>608</td>\n",
       "      <td>Spain</td>\n",
       "      <td>Female</td>\n",
       "      <td>41</td>\n",
       "      <td>1.0</td>\n",
       "      <td>83807.86</td>\n",
       "      <td>1</td>\n",
       "      <td>0</td>\n",
       "      <td>1</td>\n",
       "      <td>112542.58</td>\n",
       "      <td>0</td>\n",
       "    </tr>\n",
       "    <tr>\n",
       "      <th>2</th>\n",
       "      <td>3</td>\n",
       "      <td>15619304</td>\n",
       "      <td>Onio</td>\n",
       "      <td>502</td>\n",
       "      <td>France</td>\n",
       "      <td>Female</td>\n",
       "      <td>42</td>\n",
       "      <td>8.0</td>\n",
       "      <td>159660.80</td>\n",
       "      <td>3</td>\n",
       "      <td>1</td>\n",
       "      <td>0</td>\n",
       "      <td>113931.57</td>\n",
       "      <td>1</td>\n",
       "    </tr>\n",
       "    <tr>\n",
       "      <th>3</th>\n",
       "      <td>4</td>\n",
       "      <td>15701354</td>\n",
       "      <td>Boni</td>\n",
       "      <td>699</td>\n",
       "      <td>France</td>\n",
       "      <td>Female</td>\n",
       "      <td>39</td>\n",
       "      <td>1.0</td>\n",
       "      <td>0.00</td>\n",
       "      <td>2</td>\n",
       "      <td>0</td>\n",
       "      <td>0</td>\n",
       "      <td>93826.63</td>\n",
       "      <td>0</td>\n",
       "    </tr>\n",
       "    <tr>\n",
       "      <th>4</th>\n",
       "      <td>5</td>\n",
       "      <td>15737888</td>\n",
       "      <td>Mitchell</td>\n",
       "      <td>850</td>\n",
       "      <td>Spain</td>\n",
       "      <td>Female</td>\n",
       "      <td>43</td>\n",
       "      <td>2.0</td>\n",
       "      <td>125510.82</td>\n",
       "      <td>1</td>\n",
       "      <td>1</td>\n",
       "      <td>1</td>\n",
       "      <td>79084.10</td>\n",
       "      <td>0</td>\n",
       "    </tr>\n",
       "    <tr>\n",
       "      <th>5</th>\n",
       "      <td>6</td>\n",
       "      <td>15574012</td>\n",
       "      <td>Chu</td>\n",
       "      <td>645</td>\n",
       "      <td>Spain</td>\n",
       "      <td>Male</td>\n",
       "      <td>44</td>\n",
       "      <td>8.0</td>\n",
       "      <td>113755.78</td>\n",
       "      <td>2</td>\n",
       "      <td>1</td>\n",
       "      <td>0</td>\n",
       "      <td>149756.71</td>\n",
       "      <td>1</td>\n",
       "    </tr>\n",
       "    <tr>\n",
       "      <th>6</th>\n",
       "      <td>7</td>\n",
       "      <td>15592531</td>\n",
       "      <td>Bartlett</td>\n",
       "      <td>822</td>\n",
       "      <td>France</td>\n",
       "      <td>Male</td>\n",
       "      <td>50</td>\n",
       "      <td>7.0</td>\n",
       "      <td>0.00</td>\n",
       "      <td>2</td>\n",
       "      <td>1</td>\n",
       "      <td>1</td>\n",
       "      <td>10062.80</td>\n",
       "      <td>0</td>\n",
       "    </tr>\n",
       "    <tr>\n",
       "      <th>7</th>\n",
       "      <td>8</td>\n",
       "      <td>15656148</td>\n",
       "      <td>Obinna</td>\n",
       "      <td>376</td>\n",
       "      <td>Germany</td>\n",
       "      <td>Female</td>\n",
       "      <td>29</td>\n",
       "      <td>4.0</td>\n",
       "      <td>115046.74</td>\n",
       "      <td>4</td>\n",
       "      <td>1</td>\n",
       "      <td>0</td>\n",
       "      <td>119346.88</td>\n",
       "      <td>1</td>\n",
       "    </tr>\n",
       "    <tr>\n",
       "      <th>8</th>\n",
       "      <td>9</td>\n",
       "      <td>15792365</td>\n",
       "      <td>He</td>\n",
       "      <td>501</td>\n",
       "      <td>France</td>\n",
       "      <td>Male</td>\n",
       "      <td>44</td>\n",
       "      <td>4.0</td>\n",
       "      <td>142051.07</td>\n",
       "      <td>2</td>\n",
       "      <td>0</td>\n",
       "      <td>1</td>\n",
       "      <td>74940.50</td>\n",
       "      <td>0</td>\n",
       "    </tr>\n",
       "    <tr>\n",
       "      <th>9</th>\n",
       "      <td>10</td>\n",
       "      <td>15592389</td>\n",
       "      <td>H?</td>\n",
       "      <td>684</td>\n",
       "      <td>France</td>\n",
       "      <td>Male</td>\n",
       "      <td>27</td>\n",
       "      <td>2.0</td>\n",
       "      <td>134603.88</td>\n",
       "      <td>1</td>\n",
       "      <td>1</td>\n",
       "      <td>1</td>\n",
       "      <td>71725.73</td>\n",
       "      <td>0</td>\n",
       "    </tr>\n",
       "  </tbody>\n",
       "</table>\n",
       "</div>"
      ],
      "text/plain": [
       "   RowNumber  CustomerId   Surname  CreditScore Geography  Gender  Age  \\\n",
       "0          1    15634602  Hargrave          619    France  Female   42   \n",
       "1          2    15647311      Hill          608     Spain  Female   41   \n",
       "2          3    15619304      Onio          502    France  Female   42   \n",
       "3          4    15701354      Boni          699    France  Female   39   \n",
       "4          5    15737888  Mitchell          850     Spain  Female   43   \n",
       "5          6    15574012       Chu          645     Spain    Male   44   \n",
       "6          7    15592531  Bartlett          822    France    Male   50   \n",
       "7          8    15656148    Obinna          376   Germany  Female   29   \n",
       "8          9    15792365        He          501    France    Male   44   \n",
       "9         10    15592389        H?          684    France    Male   27   \n",
       "\n",
       "   Tenure    Balance  NumOfProducts  HasCrCard  IsActiveMember  \\\n",
       "0     2.0       0.00              1          1               1   \n",
       "1     1.0   83807.86              1          0               1   \n",
       "2     8.0  159660.80              3          1               0   \n",
       "3     1.0       0.00              2          0               0   \n",
       "4     2.0  125510.82              1          1               1   \n",
       "5     8.0  113755.78              2          1               0   \n",
       "6     7.0       0.00              2          1               1   \n",
       "7     4.0  115046.74              4          1               0   \n",
       "8     4.0  142051.07              2          0               1   \n",
       "9     2.0  134603.88              1          1               1   \n",
       "\n",
       "   EstimatedSalary  Exited  \n",
       "0        101348.88       1  \n",
       "1        112542.58       0  \n",
       "2        113931.57       1  \n",
       "3         93826.63       0  \n",
       "4         79084.10       0  \n",
       "5        149756.71       1  \n",
       "6         10062.80       0  \n",
       "7        119346.88       1  \n",
       "8         74940.50       0  \n",
       "9         71725.73       0  "
      ]
     },
     "execution_count": 2,
     "metadata": {},
     "output_type": "execute_result"
    }
   ],
   "source": [
    "df=pd.read_csv('E:/Data/_Projects/datasets/Churn.csv') #- использовать при работе на платформе \n",
    "df.head(10)"
   ]
  },
  {
   "cell_type": "markdown",
   "metadata": {},
   "source": [
    "Изучим структуру наших данных"
   ]
  },
  {
   "cell_type": "code",
   "execution_count": 3,
   "metadata": {},
   "outputs": [
    {
     "data": {
      "text/plain": [
       "(10001, 14)"
      ]
     },
     "execution_count": 3,
     "metadata": {},
     "output_type": "execute_result"
    }
   ],
   "source": [
    "df.shape"
   ]
  },
  {
   "cell_type": "code",
   "execution_count": 4,
   "metadata": {},
   "outputs": [
    {
     "name": "stdout",
     "output_type": "stream",
     "text": [
      "<class 'pandas.core.frame.DataFrame'>\n",
      "RangeIndex: 10001 entries, 0 to 10000\n",
      "Data columns (total 14 columns):\n",
      " #   Column           Non-Null Count  Dtype  \n",
      "---  ------           --------------  -----  \n",
      " 0   RowNumber        10001 non-null  int64  \n",
      " 1   CustomerId       10001 non-null  int64  \n",
      " 2   Surname          10001 non-null  object \n",
      " 3   CreditScore      10001 non-null  int64  \n",
      " 4   Geography        10001 non-null  object \n",
      " 5   Gender           10001 non-null  object \n",
      " 6   Age              10001 non-null  int64  \n",
      " 7   Tenure           9091 non-null   float64\n",
      " 8   Balance          10001 non-null  float64\n",
      " 9   NumOfProducts    10001 non-null  int64  \n",
      " 10  HasCrCard        10001 non-null  int64  \n",
      " 11  IsActiveMember   10001 non-null  int64  \n",
      " 12  EstimatedSalary  10001 non-null  float64\n",
      " 13  Exited           10001 non-null  int64  \n",
      "dtypes: float64(3), int64(8), object(3)\n",
      "memory usage: 1.1+ MB\n"
     ]
    }
   ],
   "source": [
    "df.info()"
   ]
  },
  {
   "cell_type": "markdown",
   "metadata": {},
   "source": [
    "### Работа с пропусками"
   ]
  },
  {
   "cell_type": "code",
   "execution_count": 5,
   "metadata": {},
   "outputs": [
    {
     "data": {
      "text/plain": [
       "RowNumber            0\n",
       "CustomerId           0\n",
       "Surname              0\n",
       "CreditScore          0\n",
       "Geography            0\n",
       "Gender               0\n",
       "Age                  0\n",
       "Tenure             910\n",
       "Balance              0\n",
       "NumOfProducts        0\n",
       "HasCrCard            0\n",
       "IsActiveMember       0\n",
       "EstimatedSalary      0\n",
       "Exited               0\n",
       "dtype: int64"
      ]
     },
     "execution_count": 5,
     "metadata": {},
     "output_type": "execute_result"
    }
   ],
   "source": [
    "df.isnull().sum()"
   ]
  },
  {
   "cell_type": "markdown",
   "metadata": {},
   "source": [
    "*Обнаружены пропуски в толбце, с количестовм лет, которое человек является клиентом банка. И их таких около 9% датасета. Посмотрим на них по-ближе*"
   ]
  },
  {
   "cell_type": "code",
   "execution_count": 6,
   "metadata": {},
   "outputs": [
    {
     "data": {
      "text/html": [
       "<div>\n",
       "<style scoped>\n",
       "    .dataframe tbody tr th:only-of-type {\n",
       "        vertical-align: middle;\n",
       "    }\n",
       "\n",
       "    .dataframe tbody tr th {\n",
       "        vertical-align: top;\n",
       "    }\n",
       "\n",
       "    .dataframe thead th {\n",
       "        text-align: right;\n",
       "    }\n",
       "</style>\n",
       "<table border=\"1\" class=\"dataframe\">\n",
       "  <thead>\n",
       "    <tr style=\"text-align: right;\">\n",
       "      <th></th>\n",
       "      <th>RowNumber</th>\n",
       "      <th>CustomerId</th>\n",
       "      <th>Surname</th>\n",
       "      <th>CreditScore</th>\n",
       "      <th>Geography</th>\n",
       "      <th>Gender</th>\n",
       "      <th>Age</th>\n",
       "      <th>Tenure</th>\n",
       "      <th>Balance</th>\n",
       "      <th>NumOfProducts</th>\n",
       "      <th>HasCrCard</th>\n",
       "      <th>IsActiveMember</th>\n",
       "      <th>EstimatedSalary</th>\n",
       "      <th>Exited</th>\n",
       "    </tr>\n",
       "  </thead>\n",
       "  <tbody>\n",
       "    <tr>\n",
       "      <th>30</th>\n",
       "      <td>31</td>\n",
       "      <td>15589475</td>\n",
       "      <td>Azikiwe</td>\n",
       "      <td>591</td>\n",
       "      <td>Spain</td>\n",
       "      <td>Female</td>\n",
       "      <td>39</td>\n",
       "      <td>NaN</td>\n",
       "      <td>0.00</td>\n",
       "      <td>3</td>\n",
       "      <td>1</td>\n",
       "      <td>0</td>\n",
       "      <td>140469.38</td>\n",
       "      <td>1</td>\n",
       "    </tr>\n",
       "    <tr>\n",
       "      <th>48</th>\n",
       "      <td>49</td>\n",
       "      <td>15766205</td>\n",
       "      <td>Yin</td>\n",
       "      <td>550</td>\n",
       "      <td>Germany</td>\n",
       "      <td>Male</td>\n",
       "      <td>38</td>\n",
       "      <td>NaN</td>\n",
       "      <td>103391.38</td>\n",
       "      <td>1</td>\n",
       "      <td>0</td>\n",
       "      <td>1</td>\n",
       "      <td>90878.13</td>\n",
       "      <td>0</td>\n",
       "    </tr>\n",
       "    <tr>\n",
       "      <th>51</th>\n",
       "      <td>52</td>\n",
       "      <td>15768193</td>\n",
       "      <td>Trevisani</td>\n",
       "      <td>585</td>\n",
       "      <td>Germany</td>\n",
       "      <td>Male</td>\n",
       "      <td>36</td>\n",
       "      <td>NaN</td>\n",
       "      <td>146050.97</td>\n",
       "      <td>2</td>\n",
       "      <td>0</td>\n",
       "      <td>0</td>\n",
       "      <td>86424.57</td>\n",
       "      <td>0</td>\n",
       "    </tr>\n",
       "    <tr>\n",
       "      <th>53</th>\n",
       "      <td>54</td>\n",
       "      <td>15702298</td>\n",
       "      <td>Parkhill</td>\n",
       "      <td>655</td>\n",
       "      <td>Germany</td>\n",
       "      <td>Male</td>\n",
       "      <td>41</td>\n",
       "      <td>NaN</td>\n",
       "      <td>125561.97</td>\n",
       "      <td>1</td>\n",
       "      <td>0</td>\n",
       "      <td>0</td>\n",
       "      <td>164040.94</td>\n",
       "      <td>1</td>\n",
       "    </tr>\n",
       "    <tr>\n",
       "      <th>60</th>\n",
       "      <td>61</td>\n",
       "      <td>15651280</td>\n",
       "      <td>Hunter</td>\n",
       "      <td>742</td>\n",
       "      <td>Germany</td>\n",
       "      <td>Male</td>\n",
       "      <td>35</td>\n",
       "      <td>NaN</td>\n",
       "      <td>136857.00</td>\n",
       "      <td>1</td>\n",
       "      <td>0</td>\n",
       "      <td>0</td>\n",
       "      <td>84509.57</td>\n",
       "      <td>0</td>\n",
       "    </tr>\n",
       "    <tr>\n",
       "      <th>82</th>\n",
       "      <td>83</td>\n",
       "      <td>15641732</td>\n",
       "      <td>Mills</td>\n",
       "      <td>543</td>\n",
       "      <td>France</td>\n",
       "      <td>Female</td>\n",
       "      <td>36</td>\n",
       "      <td>NaN</td>\n",
       "      <td>0.00</td>\n",
       "      <td>2</td>\n",
       "      <td>0</td>\n",
       "      <td>0</td>\n",
       "      <td>26019.59</td>\n",
       "      <td>0</td>\n",
       "    </tr>\n",
       "    <tr>\n",
       "      <th>85</th>\n",
       "      <td>86</td>\n",
       "      <td>15805254</td>\n",
       "      <td>Ndukaku</td>\n",
       "      <td>652</td>\n",
       "      <td>Spain</td>\n",
       "      <td>Female</td>\n",
       "      <td>75</td>\n",
       "      <td>NaN</td>\n",
       "      <td>0.00</td>\n",
       "      <td>2</td>\n",
       "      <td>1</td>\n",
       "      <td>1</td>\n",
       "      <td>114675.75</td>\n",
       "      <td>0</td>\n",
       "    </tr>\n",
       "    <tr>\n",
       "      <th>94</th>\n",
       "      <td>95</td>\n",
       "      <td>15676966</td>\n",
       "      <td>Capon</td>\n",
       "      <td>730</td>\n",
       "      <td>Spain</td>\n",
       "      <td>Male</td>\n",
       "      <td>42</td>\n",
       "      <td>NaN</td>\n",
       "      <td>0.00</td>\n",
       "      <td>2</td>\n",
       "      <td>0</td>\n",
       "      <td>1</td>\n",
       "      <td>85982.47</td>\n",
       "      <td>0</td>\n",
       "    </tr>\n",
       "    <tr>\n",
       "      <th>99</th>\n",
       "      <td>100</td>\n",
       "      <td>15633059</td>\n",
       "      <td>Fanucci</td>\n",
       "      <td>413</td>\n",
       "      <td>France</td>\n",
       "      <td>Male</td>\n",
       "      <td>34</td>\n",
       "      <td>NaN</td>\n",
       "      <td>0.00</td>\n",
       "      <td>2</td>\n",
       "      <td>0</td>\n",
       "      <td>0</td>\n",
       "      <td>6534.18</td>\n",
       "      <td>0</td>\n",
       "    </tr>\n",
       "    <tr>\n",
       "      <th>111</th>\n",
       "      <td>112</td>\n",
       "      <td>15665790</td>\n",
       "      <td>Rowntree</td>\n",
       "      <td>538</td>\n",
       "      <td>Germany</td>\n",
       "      <td>Male</td>\n",
       "      <td>39</td>\n",
       "      <td>NaN</td>\n",
       "      <td>108055.10</td>\n",
       "      <td>2</td>\n",
       "      <td>1</td>\n",
       "      <td>0</td>\n",
       "      <td>27231.26</td>\n",
       "      <td>0</td>\n",
       "    </tr>\n",
       "  </tbody>\n",
       "</table>\n",
       "</div>"
      ],
      "text/plain": [
       "     RowNumber  CustomerId    Surname  CreditScore Geography  Gender  Age  \\\n",
       "30          31    15589475    Azikiwe          591     Spain  Female   39   \n",
       "48          49    15766205        Yin          550   Germany    Male   38   \n",
       "51          52    15768193  Trevisani          585   Germany    Male   36   \n",
       "53          54    15702298   Parkhill          655   Germany    Male   41   \n",
       "60          61    15651280     Hunter          742   Germany    Male   35   \n",
       "82          83    15641732      Mills          543    France  Female   36   \n",
       "85          86    15805254    Ndukaku          652     Spain  Female   75   \n",
       "94          95    15676966      Capon          730     Spain    Male   42   \n",
       "99         100    15633059    Fanucci          413    France    Male   34   \n",
       "111        112    15665790   Rowntree          538   Germany    Male   39   \n",
       "\n",
       "     Tenure    Balance  NumOfProducts  HasCrCard  IsActiveMember  \\\n",
       "30      NaN       0.00              3          1               0   \n",
       "48      NaN  103391.38              1          0               1   \n",
       "51      NaN  146050.97              2          0               0   \n",
       "53      NaN  125561.97              1          0               0   \n",
       "60      NaN  136857.00              1          0               0   \n",
       "82      NaN       0.00              2          0               0   \n",
       "85      NaN       0.00              2          1               1   \n",
       "94      NaN       0.00              2          0               1   \n",
       "99      NaN       0.00              2          0               0   \n",
       "111     NaN  108055.10              2          1               0   \n",
       "\n",
       "     EstimatedSalary  Exited  \n",
       "30         140469.38       1  \n",
       "48          90878.13       0  \n",
       "51          86424.57       0  \n",
       "53         164040.94       1  \n",
       "60          84509.57       0  \n",
       "82          26019.59       0  \n",
       "85         114675.75       0  \n",
       "94          85982.47       0  \n",
       "99           6534.18       0  \n",
       "111         27231.26       0  "
      ]
     },
     "execution_count": 6,
     "metadata": {},
     "output_type": "execute_result"
    }
   ],
   "source": [
    "df[df.isna().any(axis=1)].head(10)"
   ]
  },
  {
   "cell_type": "markdown",
   "metadata": {},
   "source": [
    "*Видно что у клиентов которые с банком непонятно сколько лет имеются активные продукты. Бывают даже ненулевые балансы*"
   ]
  },
  {
   "cell_type": "code",
   "execution_count": 7,
   "metadata": {},
   "outputs": [
    {
     "name": "stdout",
     "output_type": "stream",
     "text": [
      "0.0     382\n",
      "10.0    446\n",
      "6.0     881\n",
      "9.0     882\n",
      "4.0     885\n",
      "7.0     925\n",
      "5.0     927\n",
      "3.0     928\n",
      "8.0     933\n",
      "2.0     950\n",
      "1.0     952\n",
      "Name: Tenure, dtype: int64\n"
     ]
    },
    {
     "data": {
      "text/html": [
       "<div>\n",
       "<style scoped>\n",
       "    .dataframe tbody tr th:only-of-type {\n",
       "        vertical-align: middle;\n",
       "    }\n",
       "\n",
       "    .dataframe tbody tr th {\n",
       "        vertical-align: top;\n",
       "    }\n",
       "\n",
       "    .dataframe thead th {\n",
       "        text-align: right;\n",
       "    }\n",
       "</style>\n",
       "<table border=\"1\" class=\"dataframe\">\n",
       "  <thead>\n",
       "    <tr style=\"text-align: right;\">\n",
       "      <th></th>\n",
       "      <th>RowNumber</th>\n",
       "      <th>CustomerId</th>\n",
       "      <th>Surname</th>\n",
       "      <th>CreditScore</th>\n",
       "      <th>Geography</th>\n",
       "      <th>Gender</th>\n",
       "      <th>Age</th>\n",
       "      <th>Tenure</th>\n",
       "      <th>Balance</th>\n",
       "      <th>NumOfProducts</th>\n",
       "      <th>HasCrCard</th>\n",
       "      <th>IsActiveMember</th>\n",
       "      <th>EstimatedSalary</th>\n",
       "      <th>Exited</th>\n",
       "    </tr>\n",
       "  </thead>\n",
       "  <tbody>\n",
       "    <tr>\n",
       "      <th>29</th>\n",
       "      <td>30</td>\n",
       "      <td>15656300</td>\n",
       "      <td>Lucciano</td>\n",
       "      <td>411</td>\n",
       "      <td>France</td>\n",
       "      <td>Male</td>\n",
       "      <td>29</td>\n",
       "      <td>0.0</td>\n",
       "      <td>59697.17</td>\n",
       "      <td>2</td>\n",
       "      <td>1</td>\n",
       "      <td>1</td>\n",
       "      <td>53483.21</td>\n",
       "      <td>0</td>\n",
       "    </tr>\n",
       "    <tr>\n",
       "      <th>35</th>\n",
       "      <td>36</td>\n",
       "      <td>15794171</td>\n",
       "      <td>Lombardo</td>\n",
       "      <td>475</td>\n",
       "      <td>France</td>\n",
       "      <td>Female</td>\n",
       "      <td>45</td>\n",
       "      <td>0.0</td>\n",
       "      <td>134264.04</td>\n",
       "      <td>1</td>\n",
       "      <td>1</td>\n",
       "      <td>0</td>\n",
       "      <td>27822.99</td>\n",
       "      <td>1</td>\n",
       "    </tr>\n",
       "    <tr>\n",
       "      <th>57</th>\n",
       "      <td>58</td>\n",
       "      <td>15647091</td>\n",
       "      <td>Endrizzi</td>\n",
       "      <td>725</td>\n",
       "      <td>Germany</td>\n",
       "      <td>Male</td>\n",
       "      <td>19</td>\n",
       "      <td>0.0</td>\n",
       "      <td>75888.20</td>\n",
       "      <td>1</td>\n",
       "      <td>0</td>\n",
       "      <td>0</td>\n",
       "      <td>45613.75</td>\n",
       "      <td>0</td>\n",
       "    </tr>\n",
       "    <tr>\n",
       "      <th>72</th>\n",
       "      <td>73</td>\n",
       "      <td>15812518</td>\n",
       "      <td>Palermo</td>\n",
       "      <td>657</td>\n",
       "      <td>Spain</td>\n",
       "      <td>Female</td>\n",
       "      <td>37</td>\n",
       "      <td>0.0</td>\n",
       "      <td>163607.18</td>\n",
       "      <td>1</td>\n",
       "      <td>0</td>\n",
       "      <td>1</td>\n",
       "      <td>44203.55</td>\n",
       "      <td>0</td>\n",
       "    </tr>\n",
       "    <tr>\n",
       "      <th>127</th>\n",
       "      <td>128</td>\n",
       "      <td>15782688</td>\n",
       "      <td>Piccio</td>\n",
       "      <td>625</td>\n",
       "      <td>Germany</td>\n",
       "      <td>Male</td>\n",
       "      <td>56</td>\n",
       "      <td>0.0</td>\n",
       "      <td>148507.24</td>\n",
       "      <td>1</td>\n",
       "      <td>1</td>\n",
       "      <td>0</td>\n",
       "      <td>46824.08</td>\n",
       "      <td>1</td>\n",
       "    </tr>\n",
       "    <tr>\n",
       "      <th>149</th>\n",
       "      <td>150</td>\n",
       "      <td>15794413</td>\n",
       "      <td>Harris</td>\n",
       "      <td>416</td>\n",
       "      <td>France</td>\n",
       "      <td>Male</td>\n",
       "      <td>32</td>\n",
       "      <td>0.0</td>\n",
       "      <td>0.00</td>\n",
       "      <td>2</td>\n",
       "      <td>0</td>\n",
       "      <td>1</td>\n",
       "      <td>878.87</td>\n",
       "      <td>0</td>\n",
       "    </tr>\n",
       "    <tr>\n",
       "      <th>164</th>\n",
       "      <td>165</td>\n",
       "      <td>15658929</td>\n",
       "      <td>Taverner</td>\n",
       "      <td>683</td>\n",
       "      <td>Spain</td>\n",
       "      <td>Male</td>\n",
       "      <td>29</td>\n",
       "      <td>0.0</td>\n",
       "      <td>133702.89</td>\n",
       "      <td>1</td>\n",
       "      <td>1</td>\n",
       "      <td>0</td>\n",
       "      <td>55582.54</td>\n",
       "      <td>1</td>\n",
       "    </tr>\n",
       "    <tr>\n",
       "      <th>176</th>\n",
       "      <td>177</td>\n",
       "      <td>15645248</td>\n",
       "      <td>Ho</td>\n",
       "      <td>510</td>\n",
       "      <td>France</td>\n",
       "      <td>Female</td>\n",
       "      <td>30</td>\n",
       "      <td>0.0</td>\n",
       "      <td>0.00</td>\n",
       "      <td>2</td>\n",
       "      <td>1</td>\n",
       "      <td>1</td>\n",
       "      <td>130553.47</td>\n",
       "      <td>0</td>\n",
       "    </tr>\n",
       "    <tr>\n",
       "      <th>187</th>\n",
       "      <td>188</td>\n",
       "      <td>15708710</td>\n",
       "      <td>Ford</td>\n",
       "      <td>525</td>\n",
       "      <td>Spain</td>\n",
       "      <td>Female</td>\n",
       "      <td>37</td>\n",
       "      <td>0.0</td>\n",
       "      <td>0.00</td>\n",
       "      <td>1</td>\n",
       "      <td>0</td>\n",
       "      <td>1</td>\n",
       "      <td>131521.72</td>\n",
       "      <td>0</td>\n",
       "    </tr>\n",
       "    <tr>\n",
       "      <th>231</th>\n",
       "      <td>232</td>\n",
       "      <td>15627000</td>\n",
       "      <td>Freeman</td>\n",
       "      <td>610</td>\n",
       "      <td>France</td>\n",
       "      <td>Male</td>\n",
       "      <td>40</td>\n",
       "      <td>0.0</td>\n",
       "      <td>0.00</td>\n",
       "      <td>2</td>\n",
       "      <td>1</td>\n",
       "      <td>0</td>\n",
       "      <td>62232.60</td>\n",
       "      <td>0</td>\n",
       "    </tr>\n",
       "  </tbody>\n",
       "</table>\n",
       "</div>"
      ],
      "text/plain": [
       "     RowNumber  CustomerId   Surname  CreditScore Geography  Gender  Age  \\\n",
       "29          30    15656300  Lucciano          411    France    Male   29   \n",
       "35          36    15794171  Lombardo          475    France  Female   45   \n",
       "57          58    15647091  Endrizzi          725   Germany    Male   19   \n",
       "72          73    15812518   Palermo          657     Spain  Female   37   \n",
       "127        128    15782688    Piccio          625   Germany    Male   56   \n",
       "149        150    15794413    Harris          416    France    Male   32   \n",
       "164        165    15658929  Taverner          683     Spain    Male   29   \n",
       "176        177    15645248        Ho          510    France  Female   30   \n",
       "187        188    15708710      Ford          525     Spain  Female   37   \n",
       "231        232    15627000   Freeman          610    France    Male   40   \n",
       "\n",
       "     Tenure    Balance  NumOfProducts  HasCrCard  IsActiveMember  \\\n",
       "29      0.0   59697.17              2          1               1   \n",
       "35      0.0  134264.04              1          1               0   \n",
       "57      0.0   75888.20              1          0               0   \n",
       "72      0.0  163607.18              1          0               1   \n",
       "127     0.0  148507.24              1          1               0   \n",
       "149     0.0       0.00              2          0               1   \n",
       "164     0.0  133702.89              1          1               0   \n",
       "176     0.0       0.00              2          1               1   \n",
       "187     0.0       0.00              1          0               1   \n",
       "231     0.0       0.00              2          1               0   \n",
       "\n",
       "     EstimatedSalary  Exited  \n",
       "29          53483.21       0  \n",
       "35          27822.99       1  \n",
       "57          45613.75       0  \n",
       "72          44203.55       0  \n",
       "127         46824.08       1  \n",
       "149           878.87       0  \n",
       "164         55582.54       1  \n",
       "176        130553.47       0  \n",
       "187        131521.72       0  \n",
       "231         62232.60       0  "
      ]
     },
     "execution_count": 7,
     "metadata": {},
     "output_type": "execute_result"
    }
   ],
   "source": [
    "print(df['Tenure'].value_counts(ascending=True))\n",
    "df[df['Tenure']==0].head(10)"
   ]
  },
  {
   "cell_type": "markdown",
   "metadata": {},
   "source": [
    "Мы увидели, что клиентов, которые с банком менее 1 года очень мало, что несколько странно, это значило бы, что банк почти не привлекает новых клиентов. При этом в условии сказано, что проблема не с привлечением новых, а с удержанием старых. Заменим все пустые значение \"Tenure\" на ноль."
   ]
  },
  {
   "cell_type": "code",
   "execution_count": 8,
   "metadata": {},
   "outputs": [
    {
     "data": {
      "text/plain": [
       "RowNumber          0\n",
       "CustomerId         0\n",
       "Surname            0\n",
       "CreditScore        0\n",
       "Geography          0\n",
       "Gender             0\n",
       "Age                0\n",
       "Tenure             0\n",
       "Balance            0\n",
       "NumOfProducts      0\n",
       "HasCrCard          0\n",
       "IsActiveMember     0\n",
       "EstimatedSalary    0\n",
       "Exited             0\n",
       "dtype: int64"
      ]
     },
     "execution_count": 8,
     "metadata": {},
     "output_type": "execute_result"
    }
   ],
   "source": [
    "df=df.dropna(0)\n",
    "df.isnull().sum()"
   ]
  },
  {
   "cell_type": "markdown",
   "metadata": {},
   "source": [
    "### Работа с аномалиями"
   ]
  },
  {
   "cell_type": "markdown",
   "metadata": {},
   "source": [
    "Проверим как заполнены категориальные переменные"
   ]
  },
  {
   "cell_type": "code",
   "execution_count": 9,
   "metadata": {},
   "outputs": [
    {
     "data": {
      "text/plain": [
       "array(['France', 'Spain', 'Germany'], dtype=object)"
      ]
     },
     "execution_count": 9,
     "metadata": {},
     "output_type": "execute_result"
    }
   ],
   "source": [
    "df['Geography'].unique()"
   ]
  },
  {
   "cell_type": "code",
   "execution_count": 10,
   "metadata": {},
   "outputs": [
    {
     "data": {
      "text/plain": [
       "array(['Female', 'Male'], dtype=object)"
      ]
     },
     "execution_count": 10,
     "metadata": {},
     "output_type": "execute_result"
    }
   ],
   "source": [
    "df['Gender'].unique()"
   ]
  },
  {
   "cell_type": "code",
   "execution_count": 11,
   "metadata": {},
   "outputs": [
    {
     "data": {
      "text/plain": [
       "array([42, 41, 39, 43, 44, 50, 29, 27, 31, 24, 34, 25, 35, 45, 58, 32, 38,\n",
       "       46, 36, 33, 40, 51, 61, 49, 37, 19, 66, 56, 26, 21, 55, 22, 30, 28,\n",
       "       65, 52, 48, 57, 73, 47, 54, 72, 20, 67, 79, 62, 53, 80, 59, 68, 75,\n",
       "       23, 60, 63, 64, 70, 18, 82, 69, 74, 71, 76, 77, 88, 85, 84, 81, 78,\n",
       "       92, 83], dtype=int64)"
      ]
     },
     "execution_count": 11,
     "metadata": {},
     "output_type": "execute_result"
    }
   ],
   "source": [
    "df['Age'].unique()"
   ]
  },
  {
   "cell_type": "code",
   "execution_count": 12,
   "metadata": {},
   "outputs": [
    {
     "data": {
      "text/plain": [
       "array([1, 0], dtype=int64)"
      ]
     },
     "execution_count": 12,
     "metadata": {},
     "output_type": "execute_result"
    }
   ],
   "source": [
    "df['IsActiveMember'].unique()"
   ]
  },
  {
   "cell_type": "markdown",
   "metadata": {},
   "source": [
    "**Аномалий не обнаружено**"
   ]
  },
  {
   "cell_type": "markdown",
   "metadata": {},
   "source": [
    "Теперь посмотрим диапазоны количественных факторов"
   ]
  },
  {
   "cell_type": "code",
   "execution_count": 13,
   "metadata": {},
   "outputs": [
    {
     "data": {
      "image/png": "[encoded data removed]",
      "text/plain": [
       "<Figure size 432x288 with 1 Axes>"
      ]
     },
     "metadata": {
      "needs_background": "light"
     },
     "output_type": "display_data"
    },
    {
     "name": "stdout",
     "output_type": "stream",
     "text": [
      "Всего аномально-низких скорингов:  17\n"
     ]
    }
   ],
   "source": [
    "sns.set(style=\"darkgrid\")\n",
    "chart=sns.boxplot(data=df['CreditScore'])\n",
    "chart.set(xlabel =\"Распределение\", ylabel = \"Скоринг\", title ='Распределение клиентов по величине скоринга')\n",
    "plt.show()\n",
    "print(\"Всего аномально-низких скорингов: \", df[df['CreditScore']<400].count()[1])"
   ]
  },
  {
   "cell_type": "code",
   "execution_count": 16,
   "metadata": {},
   "outputs": [
    {
     "data": {
      "image/png": "[encoded data removed]",
      "text/plain": [
       "<Figure size 432x288 with 1 Axes>"
      ]
     },
     "metadata": {},
     "output_type": "display_data"
    },
    {
     "name": "stdout",
     "output_type": "stream",
     "text": [
      "Всего аномально-высоких зарплат:  1152\n",
      "Всего аномально-низких зарплат:  1123\n"
     ]
    }
   ],
   "source": [
    "sns.set(style=\"darkgrid\")\n",
    "chart=sns.boxplot(data=df['EstimatedSalary'])\n",
    "chart.set(xlabel =\"Распределение\", ylabel = \"Зарплата\", title ='Распределение клиентов по величине зарплаты')\n",
    "plt.show()\n",
    "print(\"Всего аномально-высоких зарплат: \", df[df['EstimatedSalary']>175000].count()[1])\n",
    "print(\"Всего аномально-низких зарплат: \", df[df['EstimatedSalary']<25000].count()[1])"
   ]
  },
  {
   "cell_type": "code",
   "execution_count": 17,
   "metadata": {},
   "outputs": [
    {
     "data": {
      "text/plain": [
       "RowNumber          101\n",
       "CustomerId         101\n",
       "Surname            101\n",
       "CreditScore        101\n",
       "Geography          101\n",
       "Gender             101\n",
       "Age                101\n",
       "Tenure             101\n",
       "Balance            101\n",
       "NumOfProducts      101\n",
       "HasCrCard          101\n",
       "IsActiveMember     101\n",
       "EstimatedSalary    101\n",
       "Exited             101\n",
       "dtype: int64"
      ]
     },
     "execution_count": 17,
     "metadata": {},
     "output_type": "execute_result"
    }
   ],
   "source": [
    "df[df['EstimatedSalary']<2000].count()"
   ]
  },
  {
   "cell_type": "code",
   "execution_count": 19,
   "metadata": {},
   "outputs": [
    {
     "data": {
      "image/png": "[encoded data removed]",
      "text/plain": [
       "<Figure size 432x288 with 1 Axes>"
      ]
     },
     "metadata": {},
     "output_type": "display_data"
    },
    {
     "name": "stdout",
     "output_type": "stream",
     "text": [
      "Всего аномально-высоких балансов:  30\n"
     ]
    }
   ],
   "source": [
    "sns.set(style=\"darkgrid\")\n",
    "chart=sns.boxplot(data=df['Balance'])\n",
    "chart.set(xlabel =\"Распределение\", ylabel = \"Баланс\", title ='Распределение кпо балансам')\n",
    "plt.show()\n",
    "print(\"Всего аномально-высоких балансов: \", df[df['Balance']>200000].count()[1])"
   ]
  },
  {
   "cell_type": "markdown",
   "metadata": {},
   "source": [
    "**Итак, нам удалось выяснить, что выбросов не так уж и много. 17 экстра-низких скорингов, - вообще не существенно для нашего исследования. Аномально высоких балансов - 30 - тоже можно пожертвовать не без ущерба для выводов. А вот с зарплатами сложнее. Есть несколько аномально высоких и аномально низких, и по графику их не так и мало. Да и значение фактора зарплат скорее всего будет иметь существенный вес для нашей модели ухода клиента. Так что зарпалты пока оставим, а от остальных маленьких аномалий избавимся.**"
   ]
  },
  {
   "cell_type": "code",
   "execution_count": 20,
   "metadata": {},
   "outputs": [],
   "source": [
    "df=df[df['CreditScore']>400]\n",
    "df=df[df['Balance']<200000]"
   ]
  },
  {
   "cell_type": "markdown",
   "metadata": {},
   "source": [
    "Теперь рассмотрим как распределен целевой признак"
   ]
  },
  {
   "cell_type": "code",
   "execution_count": 21,
   "metadata": {},
   "outputs": [
    {
     "data": {
      "text/plain": [
       "array([1, 0], dtype=int64)"
      ]
     },
     "execution_count": 21,
     "metadata": {},
     "output_type": "execute_result"
    }
   ],
   "source": [
    "df['Exited'].unique()"
   ]
  },
  {
   "cell_type": "code",
   "execution_count": 22,
   "metadata": {},
   "outputs": [
    {
     "data": {
      "text/plain": [
       "0    7224\n",
       "1    1820\n",
       "Name: Exited, dtype: int64"
      ]
     },
     "execution_count": 22,
     "metadata": {},
     "output_type": "execute_result"
    }
   ],
   "source": [
    "df['Exited'].value_counts()"
   ]
  },
  {
   "cell_type": "code",
   "execution_count": 23,
   "metadata": {},
   "outputs": [
    {
     "data": {
      "text/plain": [
       "3.9759879939969984"
      ]
     },
     "execution_count": 23,
     "metadata": {},
     "output_type": "execute_result"
    }
   ],
   "source": [
    "disbalance=7948/1999\n",
    "disbalance"
   ]
  },
  {
   "cell_type": "code",
   "execution_count": 25,
   "metadata": {},
   "outputs": [
    {
     "data": {
      "image/png": "[encoded data removed]",
      "text/plain": [
       "<Figure size 576x360 with 1 Axes>"
      ]
     },
     "metadata": {},
     "output_type": "display_data"
    }
   ],
   "source": [
    "plt.figure(figsize=(8,5))\n",
    "plt.xticks(rotation=60)\n",
    "# count plot on single categorical variable\n",
    "sns.countplot(x ='Exited', data= df, order= df['Exited'].value_counts().index)\n",
    " \n",
    "# Show the plot\n",
    "plt.title('Распределение клиентов')\n",
    "plt.xlabel('Факт ухода клиента')\n",
    "plt.xticks([0,1],['Остался', 'Ушёл'])\n",
    "plt.ylabel('Количество клиентов')\n",
    "plt.show()"
   ]
  },
  {
   "cell_type": "code",
   "execution_count": 34,
   "metadata": {},
   "outputs": [
    {
     "data": {
      "image/png": "[encoded data removed]",
      "text/plain": [
       "<Figure size 432x288 with 1 Axes>"
      ]
     },
     "metadata": {},
     "output_type": "display_data"
    }
   ],
   "source": [
    "y=df.index\n",
    "sns.stripplot(data=df, x=\"Exited\", y=y,hue=\"Exited\")\n",
    "plt.title('Распределение клиентов')\n",
    "plt.xlabel('Факт ухода клиента')\n",
    "plt.xticks([0,1],['Остался', 'Ушёл'])\n",
    "plt.ylabel('Количество клиентов')\n",
    "plt.show()"
   ]
  },
  {
   "cell_type": "markdown",
   "metadata": {},
   "source": [
    "# Вывод:\n",
    "Данные достаточно хорошего качества. Пропусков было всего 9% в одном столбце и мы их устранили. Аномали также было выявлено немного - в части скорингов и балансов - мы от них избавились. По зарплатам - оставили, так как они не такие выраженные и их значение для моделии скорее всего крайне высокое. Соотношение классов конечно неравнозначеное - почти 8 к 2, что может скзаться на качестве модели. При этом 0 и 1 целевого значения распределены по датасету равномерно, без гиперскоплений в каком-то одном месте и без больших \"разряженных\" областей."
   ]
  },
  {
   "cell_type": "markdown",
   "metadata": {},
   "source": [
    "## Исследование задачи"
   ]
  },
  {
   "cell_type": "markdown",
   "metadata": {},
   "source": [
    "### Построим классификатор без учёта дисбаланса классов"
   ]
  },
  {
   "cell_type": "code",
   "execution_count": 35,
   "metadata": {},
   "outputs": [],
   "source": [
    "#Выкинем столбцы которые не будут участвовать в моделировании, так как не несут экномического смысла"
   ]
  },
  {
   "cell_type": "code",
   "execution_count": 36,
   "metadata": {},
   "outputs": [],
   "source": [
    "df=df.drop(['RowNumber','CustomerId','Surname'], axis=1)"
   ]
  },
  {
   "cell_type": "code",
   "execution_count": 37,
   "metadata": {},
   "outputs": [
    {
     "data": {
      "text/html": [
       "<div>\n",
       "<style scoped>\n",
       "    .dataframe tbody tr th:only-of-type {\n",
       "        vertical-align: middle;\n",
       "    }\n",
       "\n",
       "    .dataframe tbody tr th {\n",
       "        vertical-align: top;\n",
       "    }\n",
       "\n",
       "    .dataframe thead th {\n",
       "        text-align: right;\n",
       "    }\n",
       "</style>\n",
       "<table border=\"1\" class=\"dataframe\">\n",
       "  <thead>\n",
       "    <tr style=\"text-align: right;\">\n",
       "      <th></th>\n",
       "      <th>CreditScore</th>\n",
       "      <th>Age</th>\n",
       "      <th>Tenure</th>\n",
       "      <th>Balance</th>\n",
       "      <th>NumOfProducts</th>\n",
       "      <th>HasCrCard</th>\n",
       "      <th>IsActiveMember</th>\n",
       "      <th>EstimatedSalary</th>\n",
       "      <th>Exited</th>\n",
       "      <th>Geography_Germany</th>\n",
       "      <th>Geography_Spain</th>\n",
       "      <th>Gender_Male</th>\n",
       "    </tr>\n",
       "  </thead>\n",
       "  <tbody>\n",
       "    <tr>\n",
       "      <th>0</th>\n",
       "      <td>619</td>\n",
       "      <td>42</td>\n",
       "      <td>2.0</td>\n",
       "      <td>0.00</td>\n",
       "      <td>1</td>\n",
       "      <td>1</td>\n",
       "      <td>1</td>\n",
       "      <td>101348.88</td>\n",
       "      <td>1</td>\n",
       "      <td>0</td>\n",
       "      <td>0</td>\n",
       "      <td>0</td>\n",
       "    </tr>\n",
       "    <tr>\n",
       "      <th>1</th>\n",
       "      <td>608</td>\n",
       "      <td>41</td>\n",
       "      <td>1.0</td>\n",
       "      <td>83807.86</td>\n",
       "      <td>1</td>\n",
       "      <td>0</td>\n",
       "      <td>1</td>\n",
       "      <td>112542.58</td>\n",
       "      <td>0</td>\n",
       "      <td>0</td>\n",
       "      <td>1</td>\n",
       "      <td>0</td>\n",
       "    </tr>\n",
       "    <tr>\n",
       "      <th>2</th>\n",
       "      <td>502</td>\n",
       "      <td>42</td>\n",
       "      <td>8.0</td>\n",
       "      <td>159660.80</td>\n",
       "      <td>3</td>\n",
       "      <td>1</td>\n",
       "      <td>0</td>\n",
       "      <td>113931.57</td>\n",
       "      <td>1</td>\n",
       "      <td>0</td>\n",
       "      <td>0</td>\n",
       "      <td>0</td>\n",
       "    </tr>\n",
       "    <tr>\n",
       "      <th>3</th>\n",
       "      <td>699</td>\n",
       "      <td>39</td>\n",
       "      <td>1.0</td>\n",
       "      <td>0.00</td>\n",
       "      <td>2</td>\n",
       "      <td>0</td>\n",
       "      <td>0</td>\n",
       "      <td>93826.63</td>\n",
       "      <td>0</td>\n",
       "      <td>0</td>\n",
       "      <td>0</td>\n",
       "      <td>0</td>\n",
       "    </tr>\n",
       "    <tr>\n",
       "      <th>4</th>\n",
       "      <td>850</td>\n",
       "      <td>43</td>\n",
       "      <td>2.0</td>\n",
       "      <td>125510.82</td>\n",
       "      <td>1</td>\n",
       "      <td>1</td>\n",
       "      <td>1</td>\n",
       "      <td>79084.10</td>\n",
       "      <td>0</td>\n",
       "      <td>0</td>\n",
       "      <td>1</td>\n",
       "      <td>0</td>\n",
       "    </tr>\n",
       "    <tr>\n",
       "      <th>...</th>\n",
       "      <td>...</td>\n",
       "      <td>...</td>\n",
       "      <td>...</td>\n",
       "      <td>...</td>\n",
       "      <td>...</td>\n",
       "      <td>...</td>\n",
       "      <td>...</td>\n",
       "      <td>...</td>\n",
       "      <td>...</td>\n",
       "      <td>...</td>\n",
       "      <td>...</td>\n",
       "      <td>...</td>\n",
       "    </tr>\n",
       "    <tr>\n",
       "      <th>9994</th>\n",
       "      <td>800</td>\n",
       "      <td>29</td>\n",
       "      <td>2.0</td>\n",
       "      <td>0.00</td>\n",
       "      <td>2</td>\n",
       "      <td>0</td>\n",
       "      <td>0</td>\n",
       "      <td>167773.55</td>\n",
       "      <td>0</td>\n",
       "      <td>0</td>\n",
       "      <td>0</td>\n",
       "      <td>0</td>\n",
       "    </tr>\n",
       "    <tr>\n",
       "      <th>9995</th>\n",
       "      <td>771</td>\n",
       "      <td>39</td>\n",
       "      <td>5.0</td>\n",
       "      <td>0.00</td>\n",
       "      <td>2</td>\n",
       "      <td>1</td>\n",
       "      <td>0</td>\n",
       "      <td>96270.64</td>\n",
       "      <td>0</td>\n",
       "      <td>0</td>\n",
       "      <td>0</td>\n",
       "      <td>1</td>\n",
       "    </tr>\n",
       "    <tr>\n",
       "      <th>9996</th>\n",
       "      <td>516</td>\n",
       "      <td>35</td>\n",
       "      <td>10.0</td>\n",
       "      <td>57369.61</td>\n",
       "      <td>1</td>\n",
       "      <td>1</td>\n",
       "      <td>1</td>\n",
       "      <td>101699.77</td>\n",
       "      <td>0</td>\n",
       "      <td>0</td>\n",
       "      <td>0</td>\n",
       "      <td>1</td>\n",
       "    </tr>\n",
       "    <tr>\n",
       "      <th>9997</th>\n",
       "      <td>709</td>\n",
       "      <td>36</td>\n",
       "      <td>7.0</td>\n",
       "      <td>0.00</td>\n",
       "      <td>1</td>\n",
       "      <td>0</td>\n",
       "      <td>1</td>\n",
       "      <td>42085.58</td>\n",
       "      <td>1</td>\n",
       "      <td>0</td>\n",
       "      <td>0</td>\n",
       "      <td>0</td>\n",
       "    </tr>\n",
       "    <tr>\n",
       "      <th>9998</th>\n",
       "      <td>772</td>\n",
       "      <td>42</td>\n",
       "      <td>3.0</td>\n",
       "      <td>75075.31</td>\n",
       "      <td>2</td>\n",
       "      <td>1</td>\n",
       "      <td>0</td>\n",
       "      <td>92888.52</td>\n",
       "      <td>1</td>\n",
       "      <td>1</td>\n",
       "      <td>0</td>\n",
       "      <td>1</td>\n",
       "    </tr>\n",
       "  </tbody>\n",
       "</table>\n",
       "<p>9044 rows × 12 columns</p>\n",
       "</div>"
      ],
      "text/plain": [
       "      CreditScore  Age  Tenure    Balance  NumOfProducts  HasCrCard  \\\n",
       "0             619   42     2.0       0.00              1          1   \n",
       "1             608   41     1.0   83807.86              1          0   \n",
       "2             502   42     8.0  159660.80              3          1   \n",
       "3             699   39     1.0       0.00              2          0   \n",
       "4             850   43     2.0  125510.82              1          1   \n",
       "...           ...  ...     ...        ...            ...        ...   \n",
       "9994          800   29     2.0       0.00              2          0   \n",
       "9995          771   39     5.0       0.00              2          1   \n",
       "9996          516   35    10.0   57369.61              1          1   \n",
       "9997          709   36     7.0       0.00              1          0   \n",
       "9998          772   42     3.0   75075.31              2          1   \n",
       "\n",
       "      IsActiveMember  EstimatedSalary  Exited  Geography_Germany  \\\n",
       "0                  1        101348.88       1                  0   \n",
       "1                  1        112542.58       0                  0   \n",
       "2                  0        113931.57       1                  0   \n",
       "3                  0         93826.63       0                  0   \n",
       "4                  1         79084.10       0                  0   \n",
       "...              ...              ...     ...                ...   \n",
       "9994               0        167773.55       0                  0   \n",
       "9995               0         96270.64       0                  0   \n",
       "9996               1        101699.77       0                  0   \n",
       "9997               1         42085.58       1                  0   \n",
       "9998               0         92888.52       1                  1   \n",
       "\n",
       "      Geography_Spain  Gender_Male  \n",
       "0                   0            0  \n",
       "1                   1            0  \n",
       "2                   0            0  \n",
       "3                   0            0  \n",
       "4                   1            0  \n",
       "...               ...          ...  \n",
       "9994                0            0  \n",
       "9995                0            1  \n",
       "9996                0            1  \n",
       "9997                0            0  \n",
       "9998                0            1  \n",
       "\n",
       "[9044 rows x 12 columns]"
      ]
     },
     "execution_count": 37,
     "metadata": {},
     "output_type": "execute_result"
    }
   ],
   "source": [
    "#Проведём кодирование категориальных признаков через One-Hot-Encoding\n",
    "df=pd.get_dummies(data=df, columns=[\"Geography\",\"Gender\"], drop_first=True)\n",
    "\n",
    "df"
   ]
  },
  {
   "cell_type": "code",
   "execution_count": 38,
   "metadata": {},
   "outputs": [],
   "source": [
    "#Подготовим наборы данных для обучения и тестирования модели\n",
    "target = df['Exited']\n",
    "features = df.drop('Exited', axis=1)\n",
    "features_s, features_test, target_s, target_test = train_test_split(features, target, test_size=0.2, random_state=123)\n",
    "features_train, features_valid, target_train, target_valid = train_test_split(\n",
    "    features_s, target_s, test_size=0.25, random_state=12345)"
   ]
  },
  {
   "cell_type": "code",
   "execution_count": 39,
   "metadata": {},
   "outputs": [
    {
     "name": "stdout",
     "output_type": "stream",
     "text": [
      "(5426, 11) -обучающая выборка\n",
      "(1809, 11) -тестовая выборка\n",
      "(1809, 11) -валидационная выборка\n"
     ]
    }
   ],
   "source": [
    "print(features_train.shape,\"-обучающая выборка\")\n",
    "print(features_test.shape,\"-тестовая выборка\")\n",
    "print(features_valid.shape,\"-валидационная выборка\")"
   ]
  },
  {
   "cell_type": "code",
   "execution_count": 40,
   "metadata": {},
   "outputs": [
    {
     "name": "stdout",
     "output_type": "stream",
     "text": [
      "Состав выборок по целевому признаку\n"
     ]
    },
    {
     "data": {
      "text/html": [
       "<div>\n",
       "<style scoped>\n",
       "    .dataframe tbody tr th:only-of-type {\n",
       "        vertical-align: middle;\n",
       "    }\n",
       "\n",
       "    .dataframe tbody tr th {\n",
       "        vertical-align: top;\n",
       "    }\n",
       "\n",
       "    .dataframe thead th {\n",
       "        text-align: right;\n",
       "    }\n",
       "</style>\n",
       "<table border=\"1\" class=\"dataframe\">\n",
       "  <thead>\n",
       "    <tr style=\"text-align: right;\">\n",
       "      <th></th>\n",
       "      <th>Train</th>\n",
       "      <th>Test</th>\n",
       "      <th>Valid</th>\n",
       "    </tr>\n",
       "  </thead>\n",
       "  <tbody>\n",
       "    <tr>\n",
       "      <th>0</th>\n",
       "      <td>0.797641</td>\n",
       "      <td>0.79602</td>\n",
       "      <td>0.804865</td>\n",
       "    </tr>\n",
       "    <tr>\n",
       "      <th>1</th>\n",
       "      <td>0.202359</td>\n",
       "      <td>0.20398</td>\n",
       "      <td>0.195135</td>\n",
       "    </tr>\n",
       "  </tbody>\n",
       "</table>\n",
       "</div>"
      ],
      "text/plain": [
       "      Train     Test     Valid\n",
       "0  0.797641  0.79602  0.804865\n",
       "1  0.202359  0.20398  0.195135"
      ]
     },
     "execution_count": 40,
     "metadata": {},
     "output_type": "execute_result"
    }
   ],
   "source": [
    "dfc=pd.DataFrame()\n",
    "dfc['Train']=target_train.value_counts(normalize=True)\n",
    "dfc['Test']=target_test.value_counts(normalize=True)\n",
    "dfc['Valid']=target_valid.value_counts(normalize=True)\n",
    "print(\"Состав выборок по целевому признаку\")\n",
    "dfc"
   ]
  },
  {
   "cell_type": "code",
   "execution_count": 41,
   "metadata": {},
   "outputs": [],
   "source": [
    "#Построим и обучим несколько моделей\n",
    "dict_classifiers = {\n",
    "    \"Logistic Regression\": LogisticRegression(),\n",
    "    \"Nearest Neighbors\": KNeighborsClassifier(),\n",
    "    \"Linear SVM\": SVC(probability=True),\n",
    "    \"Gradient Boosting Classifier\": GradientBoostingClassifier(n_estimators=1000),\n",
    "    \"Decision Tree\": tree.DecisionTreeClassifier(),\n",
    "    \"Random Forest\": RandomForestClassifier(n_estimators=1000),\n",
    "    \"Neural Net\": MLPClassifier(alpha = 1),\n",
    "    \"Naive Bayes\": GaussianNB()\n",
    "}"
   ]
  },
  {
   "cell_type": "markdown",
   "metadata": {},
   "source": [
    "Напишем процедуру, обучающую модели по предложенным выборкам, и сразу же считал статистику по всем."
   ]
  },
  {
   "cell_type": "code",
   "execution_count": 42,
   "metadata": {},
   "outputs": [],
   "source": [
    "def batch_classify(X_train, Y_train, X_test, Y_test, no_classifiers = 5, verbose = True):\n",
    "    \n",
    "    dict_models = {}\n",
    "    for classifier_name, classifier in list(dict_classifiers.items())[:no_classifiers]:\n",
    "        t_start = time.perf_counter()\n",
    "        classifier.fit(X_train, Y_train)\n",
    "        probabilities = classifier.predict_proba(X_test)\n",
    "        probabilities_one_valid = probabilities[:, 1]\n",
    "        predictions=classifier.predict(X_test)\n",
    "        t_end = time.perf_counter()\n",
    "        \n",
    "        t_diff = t_end - t_start\n",
    "        f1_= f1_score(Y_test, predictions)\n",
    "        roc_auc_ = roc_auc_score(Y_test, probabilities_one_valid)\n",
    "        \n",
    "        dict_models[classifier_name] = {'model': classifier, 'F1-score': f1_, 'roc_auc_score': roc_auc_, 'train_time': t_diff}\n",
    "        if verbose:\n",
    "            print(\"trained {c} in {f:.2f} s\".format(c=classifier_name, f=t_diff))\n",
    "    return dict_models"
   ]
  },
  {
   "cell_type": "markdown",
   "metadata": {},
   "source": [
    "Добавим процедуру, которая красиво будет выводить получившуюся статистику"
   ]
  },
  {
   "cell_type": "code",
   "execution_count": 43,
   "metadata": {},
   "outputs": [],
   "source": [
    "def display_dict_models(dict_models, sort_by='F1-score'):\n",
    "    cls = [key for key in dict_models.keys()]\n",
    "    test_s = [dict_models[key]['F1-score'] for key in cls]\n",
    "    training_s = [dict_models[key]['roc_auc_score'] for key in cls]\n",
    "    training_t = [dict_models[key]['train_time'] for key in cls]\n",
    "    \n",
    "    df_ = pd.DataFrame(data=np.zeros(shape=(len(cls),4)), columns = ['classifier', 'F1-score', 'roc_auc_score', 'train_time'])\n",
    "    for ii in range(0,len(cls)):\n",
    "        df_.loc[ii, 'classifier'] = cls[ii]\n",
    "        df_.loc[ii, 'F1-score'] = training_s[ii]\n",
    "        df_.loc[ii, 'roc_auc_score'] = test_s[ii]\n",
    "        df_.loc[ii, 'train_time'] = training_t[ii]\n",
    "    \n",
    "    display(df_.sort_values(by=sort_by, ascending=False))"
   ]
  },
  {
   "cell_type": "markdown",
   "metadata": {},
   "source": [
    "### Подберём модель с хорошей метрикой F1"
   ]
  },
  {
   "cell_type": "code",
   "execution_count": 44,
   "metadata": {},
   "outputs": [
    {
     "name": "stdout",
     "output_type": "stream",
     "text": [
      "trained Logistic Regression in 0.03 s\n",
      "trained Nearest Neighbors in 0.03 s\n",
      "trained Linear SVM in 1.72 s\n",
      "trained Gradient Boosting Classifier in 5.78 s\n",
      "trained Decision Tree in 0.02 s\n",
      "trained Random Forest in 5.25 s\n",
      "trained Neural Net in 0.43 s\n",
      "trained Naive Bayes in 0.00 s\n"
     ]
    },
    {
     "data": {
      "text/html": [
       "<div>\n",
       "<style scoped>\n",
       "    .dataframe tbody tr th:only-of-type {\n",
       "        vertical-align: middle;\n",
       "    }\n",
       "\n",
       "    .dataframe tbody tr th {\n",
       "        vertical-align: top;\n",
       "    }\n",
       "\n",
       "    .dataframe thead th {\n",
       "        text-align: right;\n",
       "    }\n",
       "</style>\n",
       "<table border=\"1\" class=\"dataframe\">\n",
       "  <thead>\n",
       "    <tr style=\"text-align: right;\">\n",
       "      <th></th>\n",
       "      <th>classifier</th>\n",
       "      <th>F1-score</th>\n",
       "      <th>roc_auc_score</th>\n",
       "      <th>train_time</th>\n",
       "    </tr>\n",
       "  </thead>\n",
       "  <tbody>\n",
       "    <tr>\n",
       "      <th>5</th>\n",
       "      <td>Random Forest</td>\n",
       "      <td>0.851872</td>\n",
       "      <td>0.565836</td>\n",
       "      <td>5.245865</td>\n",
       "    </tr>\n",
       "    <tr>\n",
       "      <th>3</th>\n",
       "      <td>Gradient Boosting Classifier</td>\n",
       "      <td>0.834235</td>\n",
       "      <td>0.560000</td>\n",
       "      <td>5.779603</td>\n",
       "    </tr>\n",
       "    <tr>\n",
       "      <th>7</th>\n",
       "      <td>Naive Bayes</td>\n",
       "      <td>0.749558</td>\n",
       "      <td>0.084507</td>\n",
       "      <td>0.003197</td>\n",
       "    </tr>\n",
       "    <tr>\n",
       "      <th>4</th>\n",
       "      <td>Decision Tree</td>\n",
       "      <td>0.692200</td>\n",
       "      <td>0.501377</td>\n",
       "      <td>0.016168</td>\n",
       "    </tr>\n",
       "    <tr>\n",
       "      <th>0</th>\n",
       "      <td>Logistic Regression</td>\n",
       "      <td>0.664604</td>\n",
       "      <td>0.097087</td>\n",
       "      <td>0.031516</td>\n",
       "    </tr>\n",
       "    <tr>\n",
       "      <th>1</th>\n",
       "      <td>Nearest Neighbors</td>\n",
       "      <td>0.547081</td>\n",
       "      <td>0.109015</td>\n",
       "      <td>0.033599</td>\n",
       "    </tr>\n",
       "    <tr>\n",
       "      <th>6</th>\n",
       "      <td>Neural Net</td>\n",
       "      <td>0.495988</td>\n",
       "      <td>0.000000</td>\n",
       "      <td>0.427451</td>\n",
       "    </tr>\n",
       "    <tr>\n",
       "      <th>2</th>\n",
       "      <td>Linear SVM</td>\n",
       "      <td>0.464873</td>\n",
       "      <td>0.000000</td>\n",
       "      <td>1.718917</td>\n",
       "    </tr>\n",
       "  </tbody>\n",
       "</table>\n",
       "</div>"
      ],
      "text/plain": [
       "                     classifier  F1-score  roc_auc_score  train_time\n",
       "5                 Random Forest  0.851872       0.565836    5.245865\n",
       "3  Gradient Boosting Classifier  0.834235       0.560000    5.779603\n",
       "7                   Naive Bayes  0.749558       0.084507    0.003197\n",
       "4                 Decision Tree  0.692200       0.501377    0.016168\n",
       "0           Logistic Regression  0.664604       0.097087    0.031516\n",
       "1             Nearest Neighbors  0.547081       0.109015    0.033599\n",
       "6                    Neural Net  0.495988       0.000000    0.427451\n",
       "2                    Linear SVM  0.464873       0.000000    1.718917"
      ]
     },
     "metadata": {},
     "output_type": "display_data"
    }
   ],
   "source": [
    "dict_models = batch_classify(features_train, target_train, features_valid, target_valid, no_classifiers = 8)\n",
    "display_dict_models(dict_models)"
   ]
  },
  {
   "cell_type": "markdown",
   "metadata": {},
   "source": [
    "**Вывод**\n",
    "Нам удалось посчитать сразу несколько моделей с неплохим F1, больше целевого 0,59. Чемпионом, как несложно было догадаться, является модель случайного леса, которая традиционно хорошо справляется с таким классом задач. Но метрика ROC-AUC у неё лишь немногим превосходит 0,5 - характерную для случайной модели. Резюмируем: без учёта дисбаланса классов нормальную модель не построить."
   ]
  },
  {
   "cell_type": "markdown",
   "metadata": {},
   "source": [
    "**Окончательно понять как именно ошибается модель нам поможит Comfusion Matrix"
   ]
  },
  {
   "cell_type": "code",
   "execution_count": 45,
   "metadata": {},
   "outputs": [],
   "source": [
    "#Сначала напишем функцию для вывода матрицы\n",
    "def Show_cf(X_train, Y_train, X_test, Y_test, model):\n",
    "    model.fit(X_train, Y_train)\n",
    "    y_pred=model.predict(X_test)\n",
    "    cm = confusion_matrix(Y_test, y_pred)\n",
    "    disp = ConfusionMatrixDisplay(confusion_matrix=cm,\n",
    "                                   display_labels=['0', '1'])\n",
    "    sns.set(style=\"dark\")\n",
    "    disp.plot()\n",
    "    plt.show()\n"
   ]
  },
  {
   "cell_type": "code",
   "execution_count": 46,
   "metadata": {
    "scrolled": true
   },
   "outputs": [
    {
     "data": {
      "image/png": "[encoded data removed]",
      "text/plain": [
       "<Figure size 432x288 with 2 Axes>"
      ]
     },
     "metadata": {},
     "output_type": "display_data"
    }
   ],
   "source": [
    "model=RandomForestClassifier(n_estimators=1000)\n",
    "Show_cf(features_train, target_train, features_valid, target_valid,model)"
   ]
  },
  {
   "cell_type": "markdown",
   "metadata": {},
   "source": [
    "**Вывод:**\n",
    "Мы видим, что меньше половины единичек оцениваются верно, с 0 почти нет ошибок. Модель научилась хорошо определять когда клиента лоялен банку и не хочет уходить, а вот более половины тех, кто уже собрался покинуть банк, она ошибочно записывает в \"Лояльные\". Но для бизнеса такая точность, конечно оставляет желать лучшего."
   ]
  },
  {
   "cell_type": "markdown",
   "metadata": {},
   "source": [
    "## Борьба с дисбалансом"
   ]
  },
  {
   "cell_type": "markdown",
   "metadata": {},
   "source": [
    "### Обучение модели со взвешиванием классов"
   ]
  },
  {
   "cell_type": "code",
   "execution_count": 47,
   "metadata": {},
   "outputs": [
    {
     "name": "stdout",
     "output_type": "stream",
     "text": [
      "trained Random Forest - balanced in 5.65 s\n"
     ]
    },
    {
     "data": {
      "text/html": [
       "<div>\n",
       "<style scoped>\n",
       "    .dataframe tbody tr th:only-of-type {\n",
       "        vertical-align: middle;\n",
       "    }\n",
       "\n",
       "    .dataframe tbody tr th {\n",
       "        vertical-align: top;\n",
       "    }\n",
       "\n",
       "    .dataframe thead th {\n",
       "        text-align: right;\n",
       "    }\n",
       "</style>\n",
       "<table border=\"1\" class=\"dataframe\">\n",
       "  <thead>\n",
       "    <tr style=\"text-align: right;\">\n",
       "      <th></th>\n",
       "      <th>classifier</th>\n",
       "      <th>F1-score</th>\n",
       "      <th>roc_auc_score</th>\n",
       "      <th>train_time</th>\n",
       "    </tr>\n",
       "  </thead>\n",
       "  <tbody>\n",
       "    <tr>\n",
       "      <th>0</th>\n",
       "      <td>Random Forest - balanced</td>\n",
       "      <td>0.850702</td>\n",
       "      <td>0.531365</td>\n",
       "      <td>5.653108</td>\n",
       "    </tr>\n",
       "  </tbody>\n",
       "</table>\n",
       "</div>"
      ],
      "text/plain": [
       "                 classifier  F1-score  roc_auc_score  train_time\n",
       "0  Random Forest - balanced  0.850702       0.531365    5.653108"
      ]
     },
     "metadata": {},
     "output_type": "display_data"
    },
    {
     "data": {
      "image/png": "[encoded data removed]",
      "text/plain": [
       "<Figure size 432x288 with 2 Axes>"
      ]
     },
     "metadata": {},
     "output_type": "display_data"
    }
   ],
   "source": [
    "dict_classifiers = {\n",
    "    \"Random Forest - balanced\": RandomForestClassifier(n_estimators=1000, class_weight='balanced', random_state=12345),\n",
    "}\n",
    "dict_models = batch_classify(features_train, target_train, features_valid, target_valid, no_classifiers = 1)\n",
    "display_dict_models(dict_models)\n",
    "\n",
    "Show_cf(features_train, target_train, features_valid, target_valid,dict_classifiers[\"Random Forest - balanced\"])"
   ]
  },
  {
   "cell_type": "markdown",
   "metadata": {},
   "source": [
    "**Вывод:**\n",
    "\n",
    "Применение весов к классам не дало заметного улучшения. ROC-AUC даже снизился, и количество 1 определённых как 0 только увеличилось.\n"
   ]
  },
  {
   "cell_type": "markdown",
   "metadata": {},
   "source": [
    "### Применим увеличение выборки"
   ]
  },
  {
   "cell_type": "code",
   "execution_count": 48,
   "metadata": {},
   "outputs": [],
   "source": [
    "#Сделаем функцию которая увеличивает выборку\n",
    "def upsample(features, target, repeat):\n",
    "    features_zeros = features[target == 0]\n",
    "    features_ones = features[target == 1]\n",
    "    target_zeros = target[target == 0]\n",
    "    target_ones = target[target == 1]\n",
    "\n",
    "    features_upsampled = pd.concat([features_zeros] + [features_ones] * repeat)\n",
    "    target_upsampled = pd.concat([target_zeros] + [target_ones] * repeat)\n",
    "    \n",
    "    features_upsampled, target_upsampled = shuffle(\n",
    "        features_upsampled, target_upsampled, random_state=12345)\n",
    "    \n",
    "    return features_upsampled, target_upsampled"
   ]
  },
  {
   "cell_type": "code",
   "execution_count": 49,
   "metadata": {},
   "outputs": [],
   "source": [
    "dict_classifiers = {\n",
    "    \"Random Forest - sampled\": RandomForestClassifier(n_estimators=1000, random_state=12345),\n",
    "}\n",
    "features_upsampled, target_upsampled = upsample(features_train, target_train, round(disbalance))"
   ]
  },
  {
   "cell_type": "code",
   "execution_count": 50,
   "metadata": {},
   "outputs": [
    {
     "name": "stdout",
     "output_type": "stream",
     "text": [
      "trained Random Forest - sampled in 7.51 s\n"
     ]
    }
   ],
   "source": [
    "dict_models = batch_classify(features_upsampled, target_upsampled, features_valid, target_valid, no_classifiers = 1)"
   ]
  },
  {
   "cell_type": "code",
   "execution_count": 51,
   "metadata": {},
   "outputs": [
    {
     "data": {
      "text/html": [
       "<div>\n",
       "<style scoped>\n",
       "    .dataframe tbody tr th:only-of-type {\n",
       "        vertical-align: middle;\n",
       "    }\n",
       "\n",
       "    .dataframe tbody tr th {\n",
       "        vertical-align: top;\n",
       "    }\n",
       "\n",
       "    .dataframe thead th {\n",
       "        text-align: right;\n",
       "    }\n",
       "</style>\n",
       "<table border=\"1\" class=\"dataframe\">\n",
       "  <thead>\n",
       "    <tr style=\"text-align: right;\">\n",
       "      <th></th>\n",
       "      <th>classifier</th>\n",
       "      <th>F1-score</th>\n",
       "      <th>roc_auc_score</th>\n",
       "      <th>train_time</th>\n",
       "    </tr>\n",
       "  </thead>\n",
       "  <tbody>\n",
       "    <tr>\n",
       "      <th>0</th>\n",
       "      <td>Random Forest - sampled</td>\n",
       "      <td>0.847258</td>\n",
       "      <td>0.613251</td>\n",
       "      <td>7.510295</td>\n",
       "    </tr>\n",
       "  </tbody>\n",
       "</table>\n",
       "</div>"
      ],
      "text/plain": [
       "                classifier  F1-score  roc_auc_score  train_time\n",
       "0  Random Forest - sampled  0.847258       0.613251    7.510295"
      ]
     },
     "metadata": {},
     "output_type": "display_data"
    },
    {
     "data": {
      "image/png": "[encoded data removed]",
      "text/plain": [
       "<Figure size 432x288 with 2 Axes>"
      ]
     },
     "metadata": {},
     "output_type": "display_data"
    }
   ],
   "source": [
    "display_dict_models(dict_models)\n",
    "\n",
    "Show_cf(features_upsampled, target_upsampled, features_valid, target_valid,dict_classifiers[\"Random Forest - sampled\"])"
   ]
  },
  {
   "cell_type": "markdown",
   "metadata": {},
   "source": [
    "**Вывод**\n",
    "Метрики модели улучшились, и ROC-AUC уже 0.613 - налицо отрыв от 0.5, характерного для случайной модели. Да и количество верно предсказанных единиц стало больше чем число ошибочных предсказаний по единицам."
   ]
  },
  {
   "cell_type": "markdown",
   "metadata": {},
   "source": [
    "### Применим уменьшение выборки"
   ]
  },
  {
   "cell_type": "code",
   "execution_count": 52,
   "metadata": {},
   "outputs": [],
   "source": [
    "#Напишем процедуру\n",
    "def downsample(features, target, fraction):\n",
    "    features_zeros = features[target == 0]\n",
    "    features_ones = features[target == 1]\n",
    "    target_zeros = target[target == 0]\n",
    "    target_ones = target[target == 1]\n",
    "\n",
    "    features_downsampled = pd.concat(\n",
    "        [features_zeros.sample(frac=fraction, random_state=12345)] + [features_ones])\n",
    "    target_downsampled = pd.concat(\n",
    "        [target_zeros.sample(frac=fraction, random_state=12345)] + [target_ones])\n",
    "    \n",
    "    features_downsampled, target_downsampled = shuffle(\n",
    "        features_downsampled, target_downsampled, random_state=12345)\n",
    "    \n",
    "    return features_downsampled, target_downsampled"
   ]
  },
  {
   "cell_type": "code",
   "execution_count": 53,
   "metadata": {},
   "outputs": [],
   "source": [
    "features_downsampled, target_downsampled = downsample(features_train, target_train, 1/disbalance)"
   ]
  },
  {
   "cell_type": "code",
   "execution_count": 54,
   "metadata": {},
   "outputs": [
    {
     "name": "stdout",
     "output_type": "stream",
     "text": [
      "trained Random Forest - sampled in 2.63 s\n"
     ]
    },
    {
     "data": {
      "text/html": [
       "<div>\n",
       "<style scoped>\n",
       "    .dataframe tbody tr th:only-of-type {\n",
       "        vertical-align: middle;\n",
       "    }\n",
       "\n",
       "    .dataframe tbody tr th {\n",
       "        vertical-align: top;\n",
       "    }\n",
       "\n",
       "    .dataframe thead th {\n",
       "        text-align: right;\n",
       "    }\n",
       "</style>\n",
       "<table border=\"1\" class=\"dataframe\">\n",
       "  <thead>\n",
       "    <tr style=\"text-align: right;\">\n",
       "      <th></th>\n",
       "      <th>classifier</th>\n",
       "      <th>F1-score</th>\n",
       "      <th>roc_auc_score</th>\n",
       "      <th>train_time</th>\n",
       "    </tr>\n",
       "  </thead>\n",
       "  <tbody>\n",
       "    <tr>\n",
       "      <th>0</th>\n",
       "      <td>Random Forest - sampled</td>\n",
       "      <td>0.847514</td>\n",
       "      <td>0.576674</td>\n",
       "      <td>2.630118</td>\n",
       "    </tr>\n",
       "  </tbody>\n",
       "</table>\n",
       "</div>"
      ],
      "text/plain": [
       "                classifier  F1-score  roc_auc_score  train_time\n",
       "0  Random Forest - sampled  0.847514       0.576674    2.630118"
      ]
     },
     "metadata": {},
     "output_type": "display_data"
    },
    {
     "data": {
      "image/png": "[encoded data removed]",
      "text/plain": [
       "<Figure size 432x288 with 2 Axes>"
      ]
     },
     "metadata": {},
     "output_type": "display_data"
    }
   ],
   "source": [
    "dict_models = batch_classify(features_downsampled, target_downsampled, features_valid, target_valid, no_classifiers = 1)\n",
    "display_dict_models(dict_models)\n",
    "\n",
    "Show_cf(features_downsampled, target_downsampled, features_valid, target_valid,dict_classifiers[\"Random Forest - sampled\"])"
   ]
  },
  {
   "cell_type": "markdown",
   "metadata": {},
   "source": [
    "**Вывод**\n",
    "\n",
    "Модель явно сменила свои предпочтени я в сторону большего предвосхищения оттока клиентов. В результате сильно ухудшилось отпределение нулей, а по метрике ROC-AUC достигнуто меньшее значение чем при расширении выборки. "
   ]
  },
  {
   "cell_type": "markdown",
   "metadata": {},
   "source": [
    "### Оптимизация гипер-параметров"
   ]
  },
  {
   "cell_type": "markdown",
   "metadata": {},
   "source": [
    "Мы теперь знаем, какая модель самая лучшая, но её можно улучшить ещё, за счёт оптимизации гипер-параметров."
   ]
  },
  {
   "cell_type": "code",
   "execution_count": 55,
   "metadata": {
    "scrolled": true
   },
   "outputs": [
    {
     "name": "stdout",
     "output_type": "stream",
     "text": [
      "Fitting 2 folds for each of 81 candidates, totalling 162 fits\n"
     ]
    },
    {
     "data": {
      "text/plain": [
       "{'max_depth': 15,\n",
       " 'min_samples_leaf': 2,\n",
       " 'min_samples_split': 2,\n",
       " 'n_estimators': 900}"
      ]
     },
     "execution_count": 55,
     "metadata": {},
     "output_type": "execute_result"
    }
   ],
   "source": [
    "\n",
    "n_estimators = [900,1000,1100]\n",
    "max_depth = [2,7,15]\n",
    "min_samples_split = [2,4,24]\n",
    "min_samples_leaf = [2,4,7]\n",
    "\n",
    "param_grid = {'n_estimators': n_estimators,\n",
    "               'max_depth': max_depth,\n",
    "               'min_samples_split': min_samples_split,\n",
    "               'min_samples_leaf': min_samples_leaf}\n",
    "gs = GridSearchCV(model, param_grid, cv = 2, verbose = 5, n_jobs=-1)\n",
    "gs.fit(features_upsampled, target_upsampled)\n",
    "rfc_3 = gs.best_estimator_\n",
    "gs.best_params_"
   ]
  },
  {
   "cell_type": "code",
   "execution_count": 56,
   "metadata": {},
   "outputs": [
    {
     "name": "stdout",
     "output_type": "stream",
     "text": [
      "trained Random Forest - optimized in 6.77 s\n"
     ]
    },
    {
     "data": {
      "text/html": [
       "<div>\n",
       "<style scoped>\n",
       "    .dataframe tbody tr th:only-of-type {\n",
       "        vertical-align: middle;\n",
       "    }\n",
       "\n",
       "    .dataframe tbody tr th {\n",
       "        vertical-align: top;\n",
       "    }\n",
       "\n",
       "    .dataframe thead th {\n",
       "        text-align: right;\n",
       "    }\n",
       "</style>\n",
       "<table border=\"1\" class=\"dataframe\">\n",
       "  <thead>\n",
       "    <tr style=\"text-align: right;\">\n",
       "      <th></th>\n",
       "      <th>classifier</th>\n",
       "      <th>F1-score</th>\n",
       "      <th>roc_auc_score</th>\n",
       "      <th>train_time</th>\n",
       "    </tr>\n",
       "  </thead>\n",
       "  <tbody>\n",
       "    <tr>\n",
       "      <th>0</th>\n",
       "      <td>Random Forest - optimized</td>\n",
       "      <td>0.850049</td>\n",
       "      <td>0.615603</td>\n",
       "      <td>6.766904</td>\n",
       "    </tr>\n",
       "  </tbody>\n",
       "</table>\n",
       "</div>"
      ],
      "text/plain": [
       "                  classifier  F1-score  roc_auc_score  train_time\n",
       "0  Random Forest - optimized  0.850049       0.615603    6.766904"
      ]
     },
     "metadata": {},
     "output_type": "display_data"
    },
    {
     "data": {
      "image/png": "[encoded data removed]",
      "text/plain": [
       "<Figure size 432x288 with 2 Axes>"
      ]
     },
     "metadata": {},
     "output_type": "display_data"
    }
   ],
   "source": [
    "dict_classifiers = {\n",
    "    \"Random Forest - optimized\": RandomForestClassifier(max_depth=15, min_samples_leaf=2, min_samples_split=4,n_estimators=1000, random_state=12345),\n",
    "}\n",
    "dict_models = batch_classify(features_upsampled, target_upsampled, features_valid, target_valid, no_classifiers = 1)\n",
    "display_dict_models(dict_models)\n",
    "\n",
    "Show_cf(features_upsampled, target_upsampled, features_valid, target_valid,dict_classifiers[\"Random Forest - optimized\"])"
   ]
  },
  {
   "cell_type": "markdown",
   "metadata": {},
   "source": [
    "## Тестирование модели"
   ]
  },
  {
   "cell_type": "code",
   "execution_count": 57,
   "metadata": {},
   "outputs": [
    {
     "name": "stdout",
     "output_type": "stream",
     "text": [
      "trained Random Forest - optimized in 6.84 s\n"
     ]
    },
    {
     "data": {
      "text/html": [
       "<div>\n",
       "<style scoped>\n",
       "    .dataframe tbody tr th:only-of-type {\n",
       "        vertical-align: middle;\n",
       "    }\n",
       "\n",
       "    .dataframe tbody tr th {\n",
       "        vertical-align: top;\n",
       "    }\n",
       "\n",
       "    .dataframe thead th {\n",
       "        text-align: right;\n",
       "    }\n",
       "</style>\n",
       "<table border=\"1\" class=\"dataframe\">\n",
       "  <thead>\n",
       "    <tr style=\"text-align: right;\">\n",
       "      <th></th>\n",
       "      <th>classifier</th>\n",
       "      <th>F1-score</th>\n",
       "      <th>roc_auc_score</th>\n",
       "      <th>train_time</th>\n",
       "    </tr>\n",
       "  </thead>\n",
       "  <tbody>\n",
       "    <tr>\n",
       "      <th>0</th>\n",
       "      <td>Random Forest - optimized</td>\n",
       "      <td>0.848624</td>\n",
       "      <td>0.608451</td>\n",
       "      <td>6.835329</td>\n",
       "    </tr>\n",
       "  </tbody>\n",
       "</table>\n",
       "</div>"
      ],
      "text/plain": [
       "                  classifier  F1-score  roc_auc_score  train_time\n",
       "0  Random Forest - optimized  0.848624       0.608451    6.835329"
      ]
     },
     "metadata": {},
     "output_type": "display_data"
    },
    {
     "data": {
      "image/png": "[encoded data removed]",
      "text/plain": [
       "<Figure size 432x288 with 2 Axes>"
      ]
     },
     "metadata": {},
     "output_type": "display_data"
    }
   ],
   "source": [
    "#Передадим в наши функции, показывающие качественные метрики обучающие и тестовые наборы данных\n",
    "dict_models = batch_classify(features_upsampled, target_upsampled, features_test, target_test, no_classifiers = 1)\n",
    "display_dict_models(dict_models)\n",
    "\n",
    "Show_cf(features_upsampled, target_upsampled, features_test, target_test,dict_classifiers[\"Random Forest - optimized\"])\n"
   ]
  },
  {
   "cell_type": "markdown",
   "metadata": {},
   "source": [
    "Продолжим тест на адекватность и сравним показатель F1 с более прямолинейными моделями"
   ]
  },
  {
   "cell_type": "code",
   "execution_count": 58,
   "metadata": {},
   "outputs": [
    {
     "name": "stdout",
     "output_type": "stream",
     "text": [
      "Стратегия most_frequent ************************\n",
      " F1= 0.33884297520661155 ROC-AUC= 0.5\n",
      "Стратегия prior ************************\n",
      " F1= 0.33884297520661155 ROC-AUC= 0.5\n",
      "Стратегия stratified ************************\n",
      " F1= 0.3115264797507788 ROC-AUC= 0.4840362466124662\n",
      "Стратегия uniform ************************\n",
      " F1= 0.2997582594681708 ROC-AUC= 0.5\n"
     ]
    }
   ],
   "source": [
    "str=[\"most_frequent\", \"prior\", \"stratified\", \"uniform\"]\n",
    "for i in str:\n",
    "    dummy_clf = DummyClassifier(strategy=i)\n",
    "    dummy_clf.fit(features_upsampled, target_upsampled)\n",
    "    y_pred=dummy_clf.predict(features_upsampled)\n",
    "    probabilities = dummy_clf.predict_proba(features_test)\n",
    "    probabilities_one_valid = probabilities[:, 1]\n",
    "    predictions=dummy_clf.predict(features_test)\n",
    "    f1_= f1_score(target_test, predictions)\n",
    "    roc_auc_ = roc_auc_score(target_test, probabilities_one_valid)\n",
    "    print(\"Стратегия\",i,\"************************\\n\", \"F1=\",f1_,\"ROC-AUC=\" ,roc_auc_)"
   ]
  },
  {
   "cell_type": "markdown",
   "metadata": {},
   "source": [
    "**ВЫВОД**\n",
    "\n",
    "1. Нами был исслоедован датасет, заполнены пропуски и устранены самые явные выбросы.\n",
    "2. Была определна модель, дающаяя высокие значения показателя F1 на данных, без учёта дисбаланса классов.\n",
    "3. Были применены три метода борьбы с дисбалансом классов, увеличение выборки показало себя с лучшей стороны.\n",
    "4. Оптимизация гипер-параметров не дала особенного прироста в качестве предстказаний.\n",
    "\n",
    "\n",
    "В результате нам удалось получить модель значительно превосходящую целевой параметр по F1, которая имеет лучшую предсказательную силу **на тестовой выборке**, чем все прямолинейные алгоритмы. Вместе с тем, он не намного лучше, процентов на 10% в том, что касается ROC-AUC.\n",
    "\n",
    "*Матрица ошибок на тестовой выборке свидетелсьвует о том, что модель хорошо научилась угадывать клиентов, покидающих банк, но по тем, которые пока остались, ошибается примерно в половине случаев. Если запустить её в промышленную эксплуатацию, то возможно Банк будет излишне навязчив с теми клиентами, которых и так всё устраивает. Но, скорее всего, это будет также работать на их удержание, что обозначено как основная проблема.*"
   ]
  }
 ],
 "metadata": {
  "ExecuteTimeLog": [
   {
    "duration": 2556,
    "start_time": "2023-04-26T17:38:36.040Z"
   },
   {
    "duration": 57,
    "start_time": "2023-04-26T17:38:38.597Z"
   },
   {
    "duration": 3,
    "start_time": "2023-04-26T17:38:38.656Z"
   },
   {
    "duration": 23,
    "start_time": "2023-04-26T17:38:38.661Z"
   },
   {
    "duration": 12,
    "start_time": "2023-04-26T17:38:38.686Z"
   },
   {
    "duration": 28,
    "start_time": "2023-04-26T17:38:38.699Z"
   },
   {
    "duration": 26,
    "start_time": "2023-04-26T17:38:38.728Z"
   },
   {
    "duration": 9,
    "start_time": "2023-04-26T17:38:38.755Z"
   },
   {
    "duration": 4,
    "start_time": "2023-04-26T17:38:38.766Z"
   },
   {
    "duration": 9,
    "start_time": "2023-04-26T17:38:38.773Z"
   },
   {
    "duration": 24,
    "start_time": "2023-04-26T17:38:38.784Z"
   },
   {
    "duration": 7,
    "start_time": "2023-04-26T17:38:38.810Z"
   },
   {
    "duration": 112,
    "start_time": "2023-04-26T17:38:38.819Z"
   },
   {
    "duration": 128,
    "start_time": "2023-04-26T17:38:38.933Z"
   },
   {
    "duration": 9,
    "start_time": "2023-04-26T17:38:39.062Z"
   },
   {
    "duration": 131,
    "start_time": "2023-04-26T17:38:39.072Z"
   },
   {
    "duration": 7,
    "start_time": "2023-04-26T17:38:39.205Z"
   },
   {
    "duration": 9,
    "start_time": "2023-04-26T17:38:39.214Z"
   },
   {
    "duration": 10,
    "start_time": "2023-04-26T17:38:39.225Z"
   },
   {
    "duration": 138,
    "start_time": "2023-04-26T17:38:39.237Z"
   },
   {
    "duration": 341,
    "start_time": "2023-04-26T17:38:39.377Z"
   },
   {
    "duration": 0,
    "start_time": "2023-04-26T17:38:39.720Z"
   },
   {
    "duration": 0,
    "start_time": "2023-04-26T17:38:39.721Z"
   },
   {
    "duration": 0,
    "start_time": "2023-04-26T17:38:39.722Z"
   },
   {
    "duration": 0,
    "start_time": "2023-04-26T17:38:39.723Z"
   },
   {
    "duration": 0,
    "start_time": "2023-04-26T17:38:39.724Z"
   },
   {
    "duration": 0,
    "start_time": "2023-04-26T17:38:39.725Z"
   },
   {
    "duration": 0,
    "start_time": "2023-04-26T17:38:39.726Z"
   },
   {
    "duration": 0,
    "start_time": "2023-04-26T17:38:39.727Z"
   },
   {
    "duration": 0,
    "start_time": "2023-04-26T17:38:39.729Z"
   },
   {
    "duration": 0,
    "start_time": "2023-04-26T17:38:39.730Z"
   },
   {
    "duration": 0,
    "start_time": "2023-04-26T17:38:39.731Z"
   },
   {
    "duration": 0,
    "start_time": "2023-04-26T17:38:39.732Z"
   },
   {
    "duration": 0,
    "start_time": "2023-04-26T17:38:39.733Z"
   },
   {
    "duration": 0,
    "start_time": "2023-04-26T17:38:39.734Z"
   },
   {
    "duration": 0,
    "start_time": "2023-04-26T17:38:39.736Z"
   },
   {
    "duration": 0,
    "start_time": "2023-04-26T17:38:39.737Z"
   },
   {
    "duration": 0,
    "start_time": "2023-04-26T17:38:39.738Z"
   },
   {
    "duration": 0,
    "start_time": "2023-04-26T17:38:39.739Z"
   },
   {
    "duration": 0,
    "start_time": "2023-04-26T17:38:39.741Z"
   },
   {
    "duration": 0,
    "start_time": "2023-04-26T17:38:39.742Z"
   },
   {
    "duration": 0,
    "start_time": "2023-04-26T17:38:39.743Z"
   },
   {
    "duration": 0,
    "start_time": "2023-04-26T17:38:39.743Z"
   },
   {
    "duration": 265,
    "start_time": "2023-04-26T17:39:21.507Z"
   },
   {
    "duration": 2619,
    "start_time": "2023-04-26T17:39:41.733Z"
   },
   {
    "duration": 57,
    "start_time": "2023-04-26T17:39:44.354Z"
   },
   {
    "duration": 4,
    "start_time": "2023-04-26T17:39:44.413Z"
   },
   {
    "duration": 15,
    "start_time": "2023-04-26T17:39:44.419Z"
   },
   {
    "duration": 6,
    "start_time": "2023-04-26T17:39:44.437Z"
   },
   {
    "duration": 18,
    "start_time": "2023-04-26T17:39:44.445Z"
   },
   {
    "duration": 44,
    "start_time": "2023-04-26T17:39:44.465Z"
   },
   {
    "duration": 10,
    "start_time": "2023-04-26T17:39:44.511Z"
   },
   {
    "duration": 5,
    "start_time": "2023-04-26T17:39:44.522Z"
   },
   {
    "duration": 5,
    "start_time": "2023-04-26T17:39:44.529Z"
   },
   {
    "duration": 4,
    "start_time": "2023-04-26T17:39:44.536Z"
   },
   {
    "duration": 5,
    "start_time": "2023-04-26T17:39:44.542Z"
   },
   {
    "duration": 162,
    "start_time": "2023-04-26T17:39:44.548Z"
   },
   {
    "duration": 131,
    "start_time": "2023-04-26T17:39:44.715Z"
   },
   {
    "duration": 9,
    "start_time": "2023-04-26T17:39:44.848Z"
   },
   {
    "duration": 124,
    "start_time": "2023-04-26T17:39:44.859Z"
   },
   {
    "duration": 13,
    "start_time": "2023-04-26T17:39:44.984Z"
   },
   {
    "duration": 5,
    "start_time": "2023-04-26T17:39:44.999Z"
   },
   {
    "duration": 38,
    "start_time": "2023-04-26T17:39:45.005Z"
   },
   {
    "duration": 140,
    "start_time": "2023-04-26T17:39:45.045Z"
   },
   {
    "duration": 357,
    "start_time": "2023-04-26T17:39:45.187Z"
   },
   {
    "duration": 2,
    "start_time": "2023-04-26T17:39:45.546Z"
   },
   {
    "duration": 10,
    "start_time": "2023-04-26T17:39:45.549Z"
   },
   {
    "duration": 37,
    "start_time": "2023-04-26T17:39:45.560Z"
   },
   {
    "duration": 9,
    "start_time": "2023-04-26T17:39:45.599Z"
   },
   {
    "duration": 131,
    "start_time": "2023-04-26T17:39:45.610Z"
   },
   {
    "duration": 0,
    "start_time": "2023-04-26T17:39:45.743Z"
   },
   {
    "duration": 0,
    "start_time": "2023-04-26T17:39:45.745Z"
   },
   {
    "duration": 0,
    "start_time": "2023-04-26T17:39:45.745Z"
   },
   {
    "duration": 0,
    "start_time": "2023-04-26T17:39:45.747Z"
   },
   {
    "duration": 0,
    "start_time": "2023-04-26T17:39:45.748Z"
   },
   {
    "duration": 0,
    "start_time": "2023-04-26T17:39:45.749Z"
   },
   {
    "duration": 0,
    "start_time": "2023-04-26T17:39:45.750Z"
   },
   {
    "duration": 0,
    "start_time": "2023-04-26T17:39:45.751Z"
   },
   {
    "duration": 0,
    "start_time": "2023-04-26T17:39:45.752Z"
   },
   {
    "duration": 0,
    "start_time": "2023-04-26T17:39:45.753Z"
   },
   {
    "duration": 0,
    "start_time": "2023-04-26T17:39:45.754Z"
   },
   {
    "duration": 0,
    "start_time": "2023-04-26T17:39:45.755Z"
   },
   {
    "duration": 0,
    "start_time": "2023-04-26T17:39:45.756Z"
   },
   {
    "duration": 0,
    "start_time": "2023-04-26T17:39:45.757Z"
   },
   {
    "duration": 0,
    "start_time": "2023-04-26T17:39:45.758Z"
   },
   {
    "duration": 0,
    "start_time": "2023-04-26T17:39:45.760Z"
   },
   {
    "duration": 0,
    "start_time": "2023-04-26T17:39:45.761Z"
   },
   {
    "duration": 3,
    "start_time": "2023-04-26T17:45:50.220Z"
   },
   {
    "duration": 5,
    "start_time": "2023-04-26T17:45:56.168Z"
   },
   {
    "duration": 5,
    "start_time": "2023-04-26T17:45:56.175Z"
   },
   {
    "duration": 7,
    "start_time": "2023-04-26T17:45:56.182Z"
   },
   {
    "duration": 31321,
    "start_time": "2023-04-26T17:45:56.190Z"
   },
   {
    "duration": 4,
    "start_time": "2023-04-26T17:46:27.513Z"
   },
   {
    "duration": 7595,
    "start_time": "2023-04-26T17:46:27.518Z"
   },
   {
    "duration": 14897,
    "start_time": "2023-04-26T17:46:35.114Z"
   },
   {
    "duration": 5,
    "start_time": "2023-04-26T17:46:50.014Z"
   },
   {
    "duration": 18,
    "start_time": "2023-04-26T17:46:50.020Z"
   },
   {
    "duration": 14320,
    "start_time": "2023-04-26T17:46:50.041Z"
   },
   {
    "duration": 12574,
    "start_time": "2023-04-26T17:47:04.364Z"
   },
   {
    "duration": 5,
    "start_time": "2023-04-26T17:47:16.939Z"
   },
   {
    "duration": 14,
    "start_time": "2023-04-26T17:47:16.945Z"
   },
   {
    "duration": 6676,
    "start_time": "2023-04-26T17:47:16.961Z"
   },
   {
    "duration": 8098394,
    "start_time": "2023-04-26T17:47:23.639Z"
   },
   {
    "duration": 8,
    "start_time": "2023-04-26T20:02:22.035Z"
   },
   {
    "duration": 19622,
    "start_time": "2023-04-26T20:02:22.045Z"
   },
   {
    "duration": 29,
    "start_time": "2023-04-26T20:02:41.669Z"
   },
   {
    "duration": 3050,
    "start_time": "2023-04-27T12:58:55.490Z"
   },
   {
    "duration": 76,
    "start_time": "2023-04-27T12:58:58.543Z"
   },
   {
    "duration": 7,
    "start_time": "2023-04-27T12:58:58.621Z"
   },
   {
    "duration": 21,
    "start_time": "2023-04-27T12:58:58.630Z"
   },
   {
    "duration": 10,
    "start_time": "2023-04-27T12:58:58.654Z"
   },
   {
    "duration": 47,
    "start_time": "2023-04-27T12:58:58.666Z"
   },
   {
    "duration": 23,
    "start_time": "2023-04-27T12:58:58.727Z"
   },
   {
    "duration": 14,
    "start_time": "2023-04-27T12:58:58.752Z"
   },
   {
    "duration": 6,
    "start_time": "2023-04-27T12:58:58.768Z"
   },
   {
    "duration": 31,
    "start_time": "2023-04-27T12:58:58.776Z"
   },
   {
    "duration": 15,
    "start_time": "2023-04-27T12:58:58.809Z"
   },
   {
    "duration": 13,
    "start_time": "2023-04-27T12:58:58.825Z"
   },
   {
    "duration": 132,
    "start_time": "2023-04-27T12:58:58.839Z"
   },
   {
    "duration": 157,
    "start_time": "2023-04-27T12:58:58.974Z"
   },
   {
    "duration": 9,
    "start_time": "2023-04-27T12:58:59.133Z"
   },
   {
    "duration": 135,
    "start_time": "2023-04-27T12:58:59.144Z"
   },
   {
    "duration": 20,
    "start_time": "2023-04-27T12:58:59.281Z"
   },
   {
    "duration": 12,
    "start_time": "2023-04-27T12:58:59.309Z"
   },
   {
    "duration": 14,
    "start_time": "2023-04-27T12:58:59.323Z"
   },
   {
    "duration": 12,
    "start_time": "2023-04-27T12:58:59.339Z"
   },
   {
    "duration": 166,
    "start_time": "2023-04-27T12:58:59.352Z"
   },
   {
    "duration": 407,
    "start_time": "2023-04-27T12:58:59.522Z"
   },
   {
    "duration": 4,
    "start_time": "2023-04-27T12:58:59.931Z"
   },
   {
    "duration": 20,
    "start_time": "2023-04-27T12:58:59.937Z"
   },
   {
    "duration": 49,
    "start_time": "2023-04-27T12:58:59.959Z"
   },
   {
    "duration": 19,
    "start_time": "2023-04-27T12:59:00.010Z"
   },
   {
    "duration": 90,
    "start_time": "2023-04-27T12:59:00.031Z"
   },
   {
    "duration": 47,
    "start_time": "2023-04-27T12:59:00.123Z"
   },
   {
    "duration": 37,
    "start_time": "2023-04-27T12:59:00.172Z"
   },
   {
    "duration": 32,
    "start_time": "2023-04-27T12:59:00.212Z"
   },
   {
    "duration": 58,
    "start_time": "2023-04-27T12:59:00.247Z"
   },
   {
    "duration": 36100,
    "start_time": "2023-04-27T12:59:00.316Z"
   },
   {
    "duration": 4,
    "start_time": "2023-04-27T12:59:36.424Z"
   },
   {
    "duration": 7781,
    "start_time": "2023-04-27T12:59:36.430Z"
   },
   {
    "duration": 15549,
    "start_time": "2023-04-27T12:59:44.217Z"
   },
   {
    "duration": 9,
    "start_time": "2023-04-27T12:59:59.768Z"
   },
   {
    "duration": 30,
    "start_time": "2023-04-27T12:59:59.792Z"
   },
   {
    "duration": 10995,
    "start_time": "2023-04-27T12:59:59.825Z"
   },
   {
    "duration": 10403,
    "start_time": "2023-04-27T13:00:10.823Z"
   },
   {
    "duration": 5,
    "start_time": "2023-04-27T13:00:21.228Z"
   },
   {
    "duration": 79,
    "start_time": "2023-04-27T13:00:21.237Z"
   },
   {
    "duration": 8902,
    "start_time": "2023-04-27T13:00:21.321Z"
   },
   {
    "duration": 764514,
    "start_time": "2023-04-27T13:00:30.225Z"
   },
   {
    "duration": 22815,
    "start_time": "2023-04-27T13:13:14.744Z"
   },
   {
    "duration": 21587,
    "start_time": "2023-04-27T13:13:37.562Z"
   },
   {
    "duration": 38,
    "start_time": "2023-04-27T13:13:59.151Z"
   }
  ],
  "kernelspec": {
   "display_name": "Python 3 (ipykernel)",
   "language": "python",
   "name": "python3"
  },
  "language_info": {
   "codemirror_mode": {
    "name": "ipython",
    "version": 3
   },
   "file_extension": ".py",
   "mimetype": "text/x-python",
   "name": "python",
   "nbconvert_exporter": "python",
   "pygments_lexer": "ipython3",
   "version": "3.9.5"
  },
  "toc": {
   "base_numbering": 1,
   "nav_menu": {},
   "number_sections": true,
   "sideBar": true,
   "skip_h1_title": true,
   "title_cell": "Содержание",
   "title_sidebar": "Contents",
   "toc_cell": true,
   "toc_position": {},
   "toc_section_display": true,
   "toc_window_display": true
  }
 },
 "nbformat": 4,
 "nbformat_minor": 4
}
