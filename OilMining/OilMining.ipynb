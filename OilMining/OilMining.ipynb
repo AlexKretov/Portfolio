{
 "cells": [
  {
   "cell_type": "markdown",
   "id": "515c6009-3207-473c-ad5a-9f9c4327317d",
   "metadata": {},
   "source": [
    "# Описание проекта\n",
    "\n",
    "Допустим, вы работаете в добывающей компании «ГлавРосГосНефть». Нужно решить, где бурить новую скважину. \n",
    "Шаги для выбора локации обычно такие:\n",
    "В избранном регионе собирают характеристики для скважин: качество нефти и объём её запасов;\n",
    "Строят модель для предсказания объёма запасов в новых скважинах;\n",
    "Выбирают скважины с самыми высокими оценками значений;\n",
    "Определяют регион с максимальной суммарной прибылью отобранных скважин.\n",
    "Вам предоставлены пробы нефти в трёх регионах. Характеристики для каждой скважины в регионе уже известны. Постройте модель для определения региона, где добыча принесёт наибольшую прибыль. Проанализируйте возможную прибыль и риски техникой Bootstrap."
   ]
  },
  {
   "cell_type": "markdown",
   "id": "e44dca5a-4219-4ef1-8c09-e9f32751b61c",
   "metadata": {},
   "source": [
    "# Задачи проекта проекта\n",
    "\n",
    "Обучить и проверить модель для каждого региона:\n",
    " 1. Проанализировать средний запас предсказанного сырья и RMSE модели.\n",
    " 2. Рассчитать достаточный объём сырья для безубыточной разработки новой скважины. Сравнить полученный объём сырья со средним запасом в каждом регионе. \n",
    " 3. Написатье функцию для расчёта прибыли по выбранным скважинам и предсказаниям модели.\n",
    " 4. Посчитать риски и прибыль для каждого региона.\n",
    " 5. Обосновать выбор наиболее перспективного региона.\n"
   ]
  },
  {
   "cell_type": "markdown",
   "id": "9feed178-3b2b-410e-b686-b3f07c6f92dc",
   "metadata": {},
   "source": [
    "# Инструменты\n",
    "\n",
    "Pandas  \n",
    "Scikit-learn  \n",
    "бутстреп  "
   ]
  },
  {
   "cell_type": "markdown",
   "id": "72dd0c46",
   "metadata": {
    "toc": true
   },
   "source": [
    "<h1>Table of Contents<span class=\"tocSkip\"></span></h1>\n",
    "<div class=\"toc\"><ul class=\"toc-item\"><li><span><a href=\"#Загрузка-и-подготовка-данных\" data-toc-modified-id=\"Загрузка-и-подготовка-данных-1\"><span class=\"toc-item-num\">1&nbsp;&nbsp;</span>Загрузка и подготовка данных</a></span><ul class=\"toc-item\"><li><span><a href=\"#Знакомство-с-данными\" data-toc-modified-id=\"Знакомство-с-данными-1.1\"><span class=\"toc-item-num\">1.1&nbsp;&nbsp;</span>Знакомство с данными</a></span></li><li><span><a href=\"#Работа-с-пропусками\" data-toc-modified-id=\"Работа-с-пропусками-1.2\"><span class=\"toc-item-num\">1.2&nbsp;&nbsp;</span>Работа с пропусками</a></span></li><li><span><a href=\"#Работа-с-аномалиями\" data-toc-modified-id=\"Работа-с-аномалиями-1.3\"><span class=\"toc-item-num\">1.3&nbsp;&nbsp;</span>Работа с аномалиями</a></span></li><li><span><a href=\"#ВЫВОД\" data-toc-modified-id=\"ВЫВОД-1.4\"><span class=\"toc-item-num\">1.4&nbsp;&nbsp;</span>ВЫВОД</a></span></li></ul></li><li><span><a href=\"#Обучение-и-проверка-модели\" data-toc-modified-id=\"Обучение-и-проверка-модели-2\"><span class=\"toc-item-num\">2&nbsp;&nbsp;</span>Обучение и проверка модели</a></span><ul class=\"toc-item\"><li><span><a href=\"#Разделение-данных-на-обучающую-и-валидационную-выборки\" data-toc-modified-id=\"Разделение-данных-на-обучающую-и-валидационную-выборки-2.1\"><span class=\"toc-item-num\">2.1&nbsp;&nbsp;</span>Разделение данных на обучающую и валидационную выборки</a></span></li><li><span><a href=\"#Обучаем-модель-и-сделаем-предсказания-на-валидационной-выборке.\" data-toc-modified-id=\"Обучаем-модель-и-сделаем-предсказания-на-валидационной-выборке.-2.2\"><span class=\"toc-item-num\">2.2&nbsp;&nbsp;</span>Обучаем модель и сделаем предсказания на валидационной выборке.</a></span></li><li><span><a href=\"#ВЫВОД\" data-toc-modified-id=\"ВЫВОД-2.3\"><span class=\"toc-item-num\">2.3&nbsp;&nbsp;</span>ВЫВОД</a></span></li></ul></li><li><span><a href=\"#Подготовка-к-расчёту-прибыли\" data-toc-modified-id=\"Подготовка-к-расчёту-прибыли-3\"><span class=\"toc-item-num\">3&nbsp;&nbsp;</span>Подготовка к расчёту прибыли</a></span><ul class=\"toc-item\"><li><span><a href=\"#Создадим-ключевые-констатны\" data-toc-modified-id=\"Создадим-ключевые-констатны-3.1\"><span class=\"toc-item-num\">3.1&nbsp;&nbsp;</span>Создадим ключевые констатны</a></span></li><li><span><a href=\"#Сравним-средние-результаты-с-точкой-безубыточности\" data-toc-modified-id=\"Сравним-средние-результаты-с-точкой-безубыточности-3.2\"><span class=\"toc-item-num\">3.2&nbsp;&nbsp;</span>Сравним средние результаты с точкой безубыточности</a></span></li><li><span><a href=\"#ВЫВОД\" data-toc-modified-id=\"ВЫВОД-3.3\"><span class=\"toc-item-num\">3.3&nbsp;&nbsp;</span>ВЫВОД</a></span></li></ul></li><li><span><a href=\"#Рассчитаем-прибыль-по-выбранным-скважинам-и-предсказаниям-модели\" data-toc-modified-id=\"Рассчитаем-прибыль-по-выбранным-скважинам-и-предсказаниям-модели-4\"><span class=\"toc-item-num\">4&nbsp;&nbsp;</span>Рассчитаем прибыль по выбранным скважинам и предсказаниям модели</a></span><ul class=\"toc-item\"><li><span><a href=\"#Напишем-функцию-вычисления-прибыли-для-региона\" data-toc-modified-id=\"Напишем-функцию-вычисления-прибыли-для-региона-4.1\"><span class=\"toc-item-num\">4.1&nbsp;&nbsp;</span>Напишем функцию вычисления прибыли для региона</a></span></li><li><span><a href=\"#Рассчитаем-прибыль-по-каждому-региону-на-прогнозных-данных\" data-toc-modified-id=\"Рассчитаем-прибыль-по-каждому-региону-на-прогнозных-данных-4.2\"><span class=\"toc-item-num\">4.2&nbsp;&nbsp;</span>Рассчитаем прибыль по каждому региону на прогнозных данных</a></span></li><li><span><a href=\"#ВЫВОД\" data-toc-modified-id=\"ВЫВОД-4.3\"><span class=\"toc-item-num\">4.3&nbsp;&nbsp;</span>ВЫВОД</a></span></li></ul></li><li><span><a href=\"#Оценка-рисков-и-прибыли-для-каждого-региона\" data-toc-modified-id=\"Оценка-рисков-и-прибыли-для-каждого-региона-5\"><span class=\"toc-item-num\">5&nbsp;&nbsp;</span>Оценка рисков и прибыли для каждого региона</a></span><ul class=\"toc-item\"><li><span><a href=\"#Применим-технику-Bootstrap-чтобы-найти-распределение-прибыли\" data-toc-modified-id=\"Применим-технику-Bootstrap-чтобы-найти-распределение-прибыли-5.1\"><span class=\"toc-item-num\">5.1&nbsp;&nbsp;</span>Применим технику Bootstrap чтобы найти распределение прибыли</a></span></li><li><span><a href=\"#Посчитаем-основные-бизнес-метрики\" data-toc-modified-id=\"Посчитаем-основные-бизнес-метрики-5.2\"><span class=\"toc-item-num\">5.2&nbsp;&nbsp;</span>Посчитаем основные бизнес-метрики</a></span></li><li><span><a href=\"#ВЫВОД\" data-toc-modified-id=\"ВЫВОД-5.3\"><span class=\"toc-item-num\">5.3&nbsp;&nbsp;</span>ВЫВОД</a></span></li></ul></li></ul></div>"
   ]
  },
  {
   "cell_type": "markdown",
   "id": "96a58d21",
   "metadata": {},
   "source": [
    "# Выбор локации для скважины"
   ]
  },
  {
   "cell_type": "markdown",
   "id": "e10bb0bf",
   "metadata": {},
   "source": [
    "Допустим, вы работаете в добывающей компании «ГлавРосГосНефть». Нужно решить, где бурить новую скважину.\n",
    "\n",
    "Вам предоставлены пробы нефти в трёх регионах: в каждом 10 000 месторождений, где измерили качество нефти и объём её запасов. Постройте модель машинного обучения, которая поможет определить регион, где добыча принесёт наибольшую прибыль. Проанализируйте возможную прибыль и риски техникой *Bootstrap.*\n",
    "\n",
    "Шаги для выбора локации:\n",
    "\n",
    "- В избранном регионе ищут месторождения, для каждого определяют значения признаков;\n",
    "- Строят модель и оценивают объём запасов;\n",
    "- Выбирают месторождения с самым высокими оценками значений. Количество месторождений зависит от бюджета компании и стоимости разработки одной скважины;\n",
    "- Прибыль равна суммарной прибыли отобранных месторождений."
   ]
  },
  {
   "cell_type": "markdown",
   "id": "afb9e601",
   "metadata": {},
   "source": [
    "## Загрузка и подготовка данных"
   ]
  },
  {
   "cell_type": "code",
   "execution_count": 1,
   "id": "b45e892c",
   "metadata": {},
   "outputs": [],
   "source": [
    "import pandas as pd\n",
    "import sys\n",
    "import numpy as np\n",
    "\n",
    "from plotly.subplots import make_subplots\n",
    "import matplotlib.pyplot as plt\n",
    "import seaborn as sn\n",
    "from sklearn.model_selection import train_test_split\n",
    "from sklearn.linear_model import LinearRegression\n",
    "from sklearn.metrics import mean_squared_error"
   ]
  },
  {
   "cell_type": "code",
   "execution_count": 2,
   "id": "f5d29a3b",
   "metadata": {},
   "outputs": [],
   "source": [
    "#Сначала загружаем данные по всем регионам\n",
    "df0=pd.read_csv('E:\\Data\\_Projects\\datasets/geo_data_0.csv')\n",
    "df0['region']=0\n",
    "df1=pd.read_csv('E:\\Data\\_Projects\\datasets/geo_data_1.csv')\n",
    "df1['region']=1\n",
    "df2=pd.read_csv('E:\\Data\\_Projects\\datasets/geo_data_2.csv')\n",
    "df2['region']=2"
   ]
  },
  {
   "cell_type": "code",
   "execution_count": 3,
   "id": "32eb6640",
   "metadata": {},
   "outputs": [],
   "source": [
    "#Теперь объединим все три региона в один датасет, чтобы потом удобнее было работать\n",
    "pdList = [df0, df1, df2]  # List of your dataframes\n",
    "df = pd.concat(pdList)"
   ]
  },
  {
   "cell_type": "markdown",
   "id": "4b7a3b04",
   "metadata": {},
   "source": [
    "### Знакомство с данными"
   ]
  },
  {
   "cell_type": "markdown",
   "id": "f2cd4a56",
   "metadata": {},
   "source": [
    "Начинаем знакомство с получившимся датасетом, чтобы понять как его качество скажется на нашей модели"
   ]
  },
  {
   "cell_type": "code",
   "execution_count": 4,
   "id": "94064a3b",
   "metadata": {},
   "outputs": [
    {
     "data": {
      "text/html": [
       "<div>\n",
       "<style scoped>\n",
       "    .dataframe tbody tr th:only-of-type {\n",
       "        vertical-align: middle;\n",
       "    }\n",
       "\n",
       "    .dataframe tbody tr th {\n",
       "        vertical-align: top;\n",
       "    }\n",
       "\n",
       "    .dataframe thead th {\n",
       "        text-align: right;\n",
       "    }\n",
       "</style>\n",
       "<table border=\"1\" class=\"dataframe\">\n",
       "  <thead>\n",
       "    <tr style=\"text-align: right;\">\n",
       "      <th></th>\n",
       "      <th>id</th>\n",
       "      <th>f0</th>\n",
       "      <th>f1</th>\n",
       "      <th>f2</th>\n",
       "      <th>product</th>\n",
       "      <th>region</th>\n",
       "    </tr>\n",
       "  </thead>\n",
       "  <tbody>\n",
       "    <tr>\n",
       "      <th>0</th>\n",
       "      <td>txEyH</td>\n",
       "      <td>0.705745</td>\n",
       "      <td>-0.497823</td>\n",
       "      <td>1.221170</td>\n",
       "      <td>105.280062</td>\n",
       "      <td>0</td>\n",
       "    </tr>\n",
       "    <tr>\n",
       "      <th>1</th>\n",
       "      <td>2acmU</td>\n",
       "      <td>1.334711</td>\n",
       "      <td>-0.340164</td>\n",
       "      <td>4.365080</td>\n",
       "      <td>73.037750</td>\n",
       "      <td>0</td>\n",
       "    </tr>\n",
       "    <tr>\n",
       "      <th>2</th>\n",
       "      <td>409Wp</td>\n",
       "      <td>1.022732</td>\n",
       "      <td>0.151990</td>\n",
       "      <td>1.419926</td>\n",
       "      <td>85.265647</td>\n",
       "      <td>0</td>\n",
       "    </tr>\n",
       "    <tr>\n",
       "      <th>3</th>\n",
       "      <td>iJLyR</td>\n",
       "      <td>-0.032172</td>\n",
       "      <td>0.139033</td>\n",
       "      <td>2.978566</td>\n",
       "      <td>168.620776</td>\n",
       "      <td>0</td>\n",
       "    </tr>\n",
       "    <tr>\n",
       "      <th>4</th>\n",
       "      <td>Xdl7t</td>\n",
       "      <td>1.988431</td>\n",
       "      <td>0.155413</td>\n",
       "      <td>4.751769</td>\n",
       "      <td>154.036647</td>\n",
       "      <td>0</td>\n",
       "    </tr>\n",
       "    <tr>\n",
       "      <th>5</th>\n",
       "      <td>wX4Hy</td>\n",
       "      <td>0.969570</td>\n",
       "      <td>0.489775</td>\n",
       "      <td>-0.735383</td>\n",
       "      <td>64.741541</td>\n",
       "      <td>0</td>\n",
       "    </tr>\n",
       "    <tr>\n",
       "      <th>6</th>\n",
       "      <td>tL6pL</td>\n",
       "      <td>0.645075</td>\n",
       "      <td>0.530656</td>\n",
       "      <td>1.780266</td>\n",
       "      <td>49.055285</td>\n",
       "      <td>0</td>\n",
       "    </tr>\n",
       "    <tr>\n",
       "      <th>7</th>\n",
       "      <td>BYPU6</td>\n",
       "      <td>-0.400648</td>\n",
       "      <td>0.808337</td>\n",
       "      <td>-5.624670</td>\n",
       "      <td>72.943292</td>\n",
       "      <td>0</td>\n",
       "    </tr>\n",
       "    <tr>\n",
       "      <th>8</th>\n",
       "      <td>j9Oui</td>\n",
       "      <td>0.643105</td>\n",
       "      <td>-0.551583</td>\n",
       "      <td>2.372141</td>\n",
       "      <td>113.356160</td>\n",
       "      <td>0</td>\n",
       "    </tr>\n",
       "    <tr>\n",
       "      <th>9</th>\n",
       "      <td>OLuZU</td>\n",
       "      <td>2.173381</td>\n",
       "      <td>0.563698</td>\n",
       "      <td>9.441852</td>\n",
       "      <td>127.910945</td>\n",
       "      <td>0</td>\n",
       "    </tr>\n",
       "  </tbody>\n",
       "</table>\n",
       "</div>"
      ],
      "text/plain": [
       "      id        f0        f1        f2     product  region\n",
       "0  txEyH  0.705745 -0.497823  1.221170  105.280062       0\n",
       "1  2acmU  1.334711 -0.340164  4.365080   73.037750       0\n",
       "2  409Wp  1.022732  0.151990  1.419926   85.265647       0\n",
       "3  iJLyR -0.032172  0.139033  2.978566  168.620776       0\n",
       "4  Xdl7t  1.988431  0.155413  4.751769  154.036647       0\n",
       "5  wX4Hy  0.969570  0.489775 -0.735383   64.741541       0\n",
       "6  tL6pL  0.645075  0.530656  1.780266   49.055285       0\n",
       "7  BYPU6 -0.400648  0.808337 -5.624670   72.943292       0\n",
       "8  j9Oui  0.643105 -0.551583  2.372141  113.356160       0\n",
       "9  OLuZU  2.173381  0.563698  9.441852  127.910945       0"
      ]
     },
     "execution_count": 4,
     "metadata": {},
     "output_type": "execute_result"
    }
   ],
   "source": [
    "df.head(10)"
   ]
  },
  {
   "cell_type": "code",
   "execution_count": 5,
   "id": "8e20cc52",
   "metadata": {},
   "outputs": [
    {
     "data": {
      "text/plain": [
       "(300000, 6)"
      ]
     },
     "execution_count": 5,
     "metadata": {},
     "output_type": "execute_result"
    }
   ],
   "source": [
    "df.shape"
   ]
  },
  {
   "cell_type": "code",
   "execution_count": 6,
   "id": "b0b9b8e2",
   "metadata": {},
   "outputs": [
    {
     "name": "stdout",
     "output_type": "stream",
     "text": [
      "<class 'pandas.core.frame.DataFrame'>\n",
      "Int64Index: 300000 entries, 0 to 99999\n",
      "Data columns (total 6 columns):\n",
      " #   Column   Non-Null Count   Dtype  \n",
      "---  ------   --------------   -----  \n",
      " 0   id       300000 non-null  object \n",
      " 1   f0       300000 non-null  float64\n",
      " 2   f1       300000 non-null  float64\n",
      " 3   f2       300000 non-null  float64\n",
      " 4   product  300000 non-null  float64\n",
      " 5   region   300000 non-null  int64  \n",
      "dtypes: float64(4), int64(1), object(1)\n",
      "memory usage: 16.0+ MB\n"
     ]
    }
   ],
   "source": [
    "df.info()"
   ]
  },
  {
   "cell_type": "markdown",
   "id": "91deb265",
   "metadata": {},
   "source": [
    "### Работа с пропусками"
   ]
  },
  {
   "cell_type": "code",
   "execution_count": 7,
   "id": "b28460da",
   "metadata": {},
   "outputs": [
    {
     "data": {
      "text/plain": [
       "id         0\n",
       "f0         0\n",
       "f1         0\n",
       "f2         0\n",
       "product    0\n",
       "region     0\n",
       "dtype: int64"
      ]
     },
     "execution_count": 7,
     "metadata": {},
     "output_type": "execute_result"
    }
   ],
   "source": [
    "df.isnull().sum()"
   ]
  },
  {
   "cell_type": "markdown",
   "id": "870cf701",
   "metadata": {},
   "source": [
    "Удивительно! Ни одного пропуска в данных!"
   ]
  },
  {
   "cell_type": "markdown",
   "id": "ed480476",
   "metadata": {},
   "source": [
    "### Работа с аномалиями"
   ]
  },
  {
   "cell_type": "markdown",
   "id": "ba6daaf3",
   "metadata": {},
   "source": [
    "Проверим названия скважин, как единственный нечисловой параметр"
   ]
  },
  {
   "cell_type": "code",
   "execution_count": 29,
   "id": "b6bb9f0b",
   "metadata": {
    "scrolled": true
   },
   "outputs": [
    {
     "data": {
      "text/plain": [
       "array(['txEyH', '2acmU', '409Wp', 'iJLyR', 'Xdl7t', 'wX4Hy', 'tL6pL',\n",
       "       'BYPU6', 'j9Oui', 'OLuZU', 'b8WQ6', '1YYm1', 'zIYPq', 'iqTqq',\n",
       "       'Ct5yY', 'Q77WQ', '6vJcD', 'AgRR6', 'tgSSC', 's2g8E'], dtype=object)"
      ]
     },
     "metadata": {},
     "output_type": "display_data"
    }
   ],
   "source": [
    "np.set_printoptions(threshold=sys.maxsize)\n",
    "display(df['id'].unique()[:20])"
   ]
  },
  {
   "cell_type": "markdown",
   "id": "7a4a8930",
   "metadata": {},
   "source": [
    "И здесь всё выглядит однородно, качественно закодированным и без очевидных выбросов."
   ]
  },
  {
   "cell_type": "code",
   "execution_count": 9,
   "id": "4ef76af9",
   "metadata": {},
   "outputs": [
    {
     "data": {
      "text/plain": [
       "0"
      ]
     },
     "execution_count": 9,
     "metadata": {},
     "output_type": "execute_result"
    }
   ],
   "source": [
    "#Посчитаем дубликаты\n",
    "len(df)- len(df.drop_duplicates ())"
   ]
  },
  {
   "cell_type": "markdown",
   "id": "caa05d87",
   "metadata": {},
   "source": [
    "Дубликатов нет."
   ]
  },
  {
   "cell_type": "markdown",
   "id": "400f16a7",
   "metadata": {},
   "source": [
    "Дальше мы хотим глянуть на разброс параметров месторождения f0, f1 и f2, но так как точек у нас 300 000 рисовать будет долго и мы возьмём лишь случайную выборку по 1% данных, это позволит составить первое впечатление."
   ]
  },
  {
   "cell_type": "code",
   "execution_count": 10,
   "id": "f8dc3b64",
   "metadata": {},
   "outputs": [],
   "source": [
    "subsample = df.sample(n=3000, replace=False, random_state=123456)\n"
   ]
  },
  {
   "cell_type": "code",
   "execution_count": 11,
   "id": "3599b28c",
   "metadata": {},
   "outputs": [
    {
     "name": "stderr",
     "output_type": "stream",
     "text": [
      "C:\\Users\\Admin\\AppData\\Local\\Temp/ipykernel_6608/29359969.py:8: UserWarning: FigureCanvasAgg is non-interactive, and thus cannot be shown\n",
      "  fig.show()\n"
     ]
    },
    {
     "data": {
      "image/png": "[encoded data removed]",
      "text/plain": [
       "<Figure size 1080x288 with 3 Axes>"
      ]
     },
     "metadata": {
      "needs_background": "light"
     },
     "output_type": "display_data"
    }
   ],
   "source": [
    "fig, ax = plt.subplots(figsize=(15,4), nrows=1, ncols=3)\n",
    "ax[0].boxplot(subsample['f0'])\n",
    "ax[0].set_title('F0', fontsize=10)\n",
    "ax[1].boxplot(subsample['f1'])\n",
    "ax[1].set_title('F1', fontsize=10)\n",
    "ax[2].boxplot(subsample['f2'])\n",
    "ax[2].set_title('F2', fontsize=10)\n",
    "fig.show()"
   ]
  },
  {
   "cell_type": "markdown",
   "id": "0bd6b49a",
   "metadata": {},
   "source": [
    "Значения F0, F1, F2 выглядят достаточно гаромонично, но всё равно посчитаем количество выбросов."
   ]
  },
  {
   "cell_type": "code",
   "execution_count": 12,
   "id": "c4599715",
   "metadata": {},
   "outputs": [
    {
     "data": {
      "text/html": [
       "<div>\n",
       "<style scoped>\n",
       "    .dataframe tbody tr th:only-of-type {\n",
       "        vertical-align: middle;\n",
       "    }\n",
       "\n",
       "    .dataframe tbody tr th {\n",
       "        vertical-align: top;\n",
       "    }\n",
       "\n",
       "    .dataframe thead th {\n",
       "        text-align: right;\n",
       "    }\n",
       "</style>\n",
       "<table border=\"1\" class=\"dataframe\">\n",
       "  <thead>\n",
       "    <tr style=\"text-align: right;\">\n",
       "      <th></th>\n",
       "      <th>F0</th>\n",
       "      <th>F1</th>\n",
       "      <th>F2</th>\n",
       "    </tr>\n",
       "  </thead>\n",
       "  <tbody>\n",
       "    <tr>\n",
       "      <th>ups</th>\n",
       "      <td>0.064830</td>\n",
       "      <td>0.000657</td>\n",
       "      <td>0.00820</td>\n",
       "    </tr>\n",
       "    <tr>\n",
       "      <th>downs</th>\n",
       "      <td>0.038033</td>\n",
       "      <td>0.051510</td>\n",
       "      <td>0.00007</td>\n",
       "    </tr>\n",
       "  </tbody>\n",
       "</table>\n",
       "</div>"
      ],
      "text/plain": [
       "             F0        F1       F2\n",
       "ups    0.064830  0.000657  0.00820\n",
       "downs  0.038033  0.051510  0.00007"
      ]
     },
     "metadata": {},
     "output_type": "display_data"
    }
   ],
   "source": [
    "lc=['f0','f1','f2']\n",
    "ups=[]\n",
    "dwns=[]\n",
    "for i in lc:\n",
    "    ups.append((df[df[i]>10].count()[1])/300000)\n",
    "    dwns.append((df[df[i]<-10].count()[1])/300000)\n",
    "anoms=pd.DataFrame({'ups': ups,\n",
    "     'downs': dwns\n",
    "    }).T\n",
    "anoms.columns=['F0','F1','F2']\n",
    "\n",
    "display(anoms)"
   ]
  },
  {
   "cell_type": "markdown",
   "id": "43b6e38a",
   "metadata": {},
   "source": [
    "Мы видим, что число выбросов невелико, и только в двух местах превосходит 6% от нашего датасета. Принимаю решение ничего не исключать на данном этапе."
   ]
  },
  {
   "cell_type": "markdown",
   "id": "368bad39",
   "metadata": {},
   "source": [
    "\n",
    "<div class=\"alert alert-block alert-success\">\n",
    "<b>Успех:</b> Правильное решение, особенно, учитывая, что мы не знаем природу данных\n",
    "</div>"
   ]
  },
  {
   "cell_type": "code",
   "execution_count": 14,
   "id": "4f843ff5",
   "metadata": {},
   "outputs": [
    {
     "data": {
      "image/png": "[encoded data removed]",
      "text/plain": [
       "<Figure size 432x288 with 1 Axes>"
      ]
     },
     "metadata": {
      "needs_background": "light"
     },
     "output_type": "display_data"
    }
   ],
   "source": [
    "plt.boxplot(subsample['product'])\n",
    "plt.title(\"объём запасов в скважине (тыс. баррелей)\")\n",
    "plt.show()"
   ]
  },
  {
   "cell_type": "markdown",
   "id": "e7c88909",
   "metadata": {},
   "source": [
    "Объём залежей полезных ископаемых также выглядит достаточно \"стандартно\", выбросов практически нет. "
   ]
  },
  {
   "cell_type": "code",
   "execution_count": 17,
   "id": "efb13b6c",
   "metadata": {},
   "outputs": [
    {
     "data": {
      "image/png": "[encoded data removed]",
      "text/plain": [
       "<Figure size 432x288 with 1 Axes>"
      ]
     },
     "metadata": {
      "needs_background": "light"
     },
     "output_type": "display_data"
    }
   ],
   "source": [
    "#Визуализируем распределение объёма залежей в скважинах по всему датасету\n",
    "sn.scatterplot(data=subsample, x=subsample.index, y=\"product\")\n",
    "plt.title(\"распределение объёма залежей в скважинах по всему датасету\")\n",
    "plt.ylabel(\"объём запасов в скважине (тыс. баррелей)\")\n",
    "plt.xlabel(\"index\")\n",
    "plt.show()"
   ]
  },
  {
   "cell_type": "markdown",
   "id": "136ab557",
   "metadata": {},
   "source": [
    "Залежи распределены равномерно по месторождениям, c с небольшим количеством ярко-выраженных пустот."
   ]
  },
  {
   "cell_type": "code",
   "execution_count": 19,
   "id": "ea8db4d3",
   "metadata": {},
   "outputs": [
    {
     "name": "stderr",
     "output_type": "stream",
     "text": [
      "C:\\Users\\Admin\\AppData\\Local\\Temp/ipykernel_6608/1116817015.py:2: FutureWarning: The default value of numeric_only in DataFrame.corr is deprecated. In a future version, it will default to False. Select only valid columns or specify the value of numeric_only to silence this warning.\n",
      "  corr = df.corr()\n"
     ]
    },
    {
     "data": {
      "image/png": "[encoded data removed]",
      "text/plain": [
       "<Figure size 432x288 with 2 Axes>"
      ]
     },
     "metadata": {
      "needs_background": "light"
     },
     "output_type": "display_data"
    }
   ],
   "source": [
    "#Посмотрим корреляцию параметров между собой\n",
    "corr = df.corr()\n",
    "sn.heatmap(corr,\n",
    "            xticklabels=corr.columns.values,\n",
    "            yticklabels=corr.columns.values)\n",
    "plt.title(\"Взаимная корреляция параметров датасета\")\n",
    "plt.show()"
   ]
  },
  {
   "cell_type": "markdown",
   "id": "ccfc76d2",
   "metadata": {},
   "source": [
    "Ну и наконец, очень приятно осознавать, что наши параметры друг с другом особенно не коррелируют, максимальные значения около 0,5. Можно переходить к моделированию."
   ]
  },
  {
   "cell_type": "markdown",
   "id": "32d32946",
   "metadata": {},
   "source": [
    "### ВЫВОД\n",
    "\n",
    "**Данные очень высокого качества, никакой предобработки с ними не требуется. Можно сразу переходить к моделированию.**"
   ]
  },
  {
   "cell_type": "markdown",
   "id": "3e1279df",
   "metadata": {},
   "source": [
    "## Обучение и проверка модели\n"
   ]
  },
  {
   "cell_type": "markdown",
   "id": "7ec684b9",
   "metadata": {},
   "source": [
    "### Разделение данных на обучающую и валидационную выборки"
   ]
  },
  {
   "cell_type": "markdown",
   "id": "12b433e1",
   "metadata": {},
   "source": [
    "Разобьём данные на обучающую и валидационную выборки в соотношении 75:25. Так как для каждого региона будем строить свою модель,то сделаем это раздельно для каждого региона."
   ]
  },
  {
   "cell_type": "code",
   "execution_count": 20,
   "id": "5ababfe9",
   "metadata": {},
   "outputs": [
    {
     "data": {
      "text/plain": [
       "(25000, 3)"
      ]
     },
     "execution_count": 20,
     "metadata": {},
     "output_type": "execute_result"
    }
   ],
   "source": [
    "df_list=[df0, df1,df2]\n",
    "target_train_df=[]\n",
    "target_test_df=[]\n",
    "features_train_df=[]\n",
    "features_test_df=[]\n",
    "features=pd.DataFrame()\n",
    "\n",
    "#Задаим цикл, создающий листы с искомыми выборками для каждого региона\n",
    "for i in df_list:\n",
    "    t = i['product']\n",
    "    f = i.loc[:, 'f0': 'f2']\n",
    "    features_train, features_test, target_train, target_test = train_test_split(f, t, test_size=0.25, random_state=123456)\n",
    "    target_train_df.append(target_train)\n",
    "    target_test_df.append(target_test)\n",
    "    features_test_df.append(features_test)\n",
    "    features_train_df.append(features_train)\n",
    "features_test_df[0].shape"
   ]
  },
  {
   "cell_type": "markdown",
   "id": "3216d425",
   "metadata": {},
   "source": [
    "### Обучаем модель и сделаем предсказания на валидационной выборке."
   ]
  },
  {
   "cell_type": "markdown",
   "id": "9e454306",
   "metadata": {},
   "source": [
    "При разведке региона исследуют 500 точек, из которых с помощью машинного обучения выбирают 200 лучших для разработки."
   ]
  },
  {
   "cell_type": "markdown",
   "id": "1933c5eb",
   "metadata": {},
   "source": [
    "Для обучения модели подходит только линейная регрессия (остальные — недостаточно предсказуемые)."
   ]
  },
  {
   "cell_type": "code",
   "execution_count": 21,
   "id": "23d7ca08",
   "metadata": {},
   "outputs": [
    {
     "name": "stdout",
     "output_type": "stream",
     "text": [
      "Средний предсказанный объём для участка 0 = 92.49286560032228\n",
      "RMSE для участка 0 = 37.80046993478271\n",
      "Средний предсказанный объём для участка 1 = 69.03055429593262\n",
      "RMSE для участка 1 = 0.8904933206270061\n",
      "Средний предсказанный объём для участка 2 = 94.84835708988287\n",
      "RMSE для участка 2 = 39.98039278339241\n"
     ]
    }
   ],
   "source": [
    "models=[]\n",
    "predictions=[]\n",
    "avg_prd=[]\n",
    "rms=[]\n",
    "ii=[0,1,2]\n",
    "oil_matrix=[]\n",
    "#Для каждого региона\n",
    "for i in ii:\n",
    "    #обучаем модель на тестовой выборке\n",
    "    models.append(LinearRegression().fit(features_train_df[i],target_train_df[i]))\n",
    "    #делаем предсказание на  валидационной выборкe\n",
    "    predictions.append(models[i].predict(features_test_df[i]))\n",
    "    #посчитаем срадний предсказанный объём\n",
    "    avg_prd.append(predictions[i].mean())\n",
    "    #посчитаем средний квадрат ошибок RMSE\n",
    "    rms.append(mean_squared_error(target_test_df[i], predictions[i], squared=False))\n",
    "    print('Средний предсказанный объём для участка',i,'=',avg_prd[i])\n",
    "    print('RMSE для участка',i,'=',rms[i])\n"
   ]
  },
  {
   "cell_type": "markdown",
   "id": "babbf2be",
   "metadata": {},
   "source": [
    "### ВЫВОД\n",
    "\n",
    "**Результаты прогнозирования приемлемые, модель выдаёт средний квадрат ошибки менее половины от среднего значения объёмов запасов в скважине в двух регионах из трёх. Только в регионе \"1\" можно говорить о том, что предсказание незначительно отклоняется от фактического объёма.**"
   ]
  },
  {
   "cell_type": "markdown",
   "id": "56f4b19b",
   "metadata": {},
   "source": [
    "## Подготовка к расчёту прибыли"
   ]
  },
  {
   "cell_type": "markdown",
   "id": "088144f4",
   "metadata": {},
   "source": [
    "### Создадим ключевые констатны"
   ]
  },
  {
   "cell_type": "code",
   "execution_count": 22,
   "id": "a5db3c7e",
   "metadata": {},
   "outputs": [],
   "source": [
    "#Бюджет бурения на весь регион\n",
    "BDG=10_000_000_000\n",
    "#Цена за единицу \"product\"\n",
    "PRICE=450_000\n",
    "#Бюджет на 1 скважину\n",
    "ONE_RIG_BDG=BDG/200\n",
    "#Объём запасов для окупаемости одной скважины\n",
    "BREAK_EVEN_RIG=ONE_RIG_BDG/PRICE\n",
    "#Объём запасов для окупаемости региона\n",
    "BREAK_EVEN_REGION=BDG/PRICE"
   ]
  },
  {
   "cell_type": "markdown",
   "id": "a30fb8f9",
   "metadata": {},
   "source": [
    "### Сравним средние результаты с точкой безубыточности"
   ]
  },
  {
   "cell_type": "code",
   "execution_count": 23,
   "id": "8f64f6d2",
   "metadata": {},
   "outputs": [
    {
     "name": "stdout",
     "output_type": "stream",
     "text": [
      "Объём запасов для окупаемости одной скважины= 111 тыс. баррелей\n",
      "Объём запасов для окупаемости региона= 22222 тыс. баррелей\n",
      "Средний предсказанный объём для скважины на участке 0 = 92.49286560032228\n",
      "Средний предсказанный объём для скважины на участке 1 = 69.03055429593262\n",
      "Средний предсказанный объём для скважины на участке 2 = 94.84835708988287\n"
     ]
    }
   ],
   "source": [
    "print('Объём запасов для окупаемости одной скважины=',round(BREAK_EVEN_RIG), \"тыс. баррелей\")\n",
    "print('Объём запасов для окупаемости региона=',round(BREAK_EVEN_REGION), \"тыс. баррелей\")\n",
    "for i in ii:\n",
    "    print('Средний предсказанный объём для скважины на участке',i,'=',avg_prd[i])\n"
   ]
  },
  {
   "cell_type": "markdown",
   "id": "8227c625",
   "metadata": {},
   "source": [
    "### ВЫВОД\n",
    "\n",
    "**Сразу бросается в глаза, что средние величины запасов в каждом регионе не дотягивают даже до точки безубыточности. Напомним, что регионы 0 и 2, где средние значения ближе всего к желаемому минимуму - наименее точно спрогнозированы. Однако, это хорошо для бизнеса, ведь прогноз мы строили по 500 скважинам, а реально бурить будем только 200 самых перспективных. Значит из них средняя будет гарантированно выше, чем то что мы сейчас выйдем. И есть шансы получить неплохую рентабельность, даже помня что по регионам 0 и 2 наша модель далека от идеала.**"
   ]
  },
  {
   "cell_type": "markdown",
   "id": "0931cc33",
   "metadata": {},
   "source": [
    "## Рассчитаем прибыль по выбранным скважинам и предсказаниям модели"
   ]
  },
  {
   "cell_type": "markdown",
   "id": "1ac9ca6c",
   "metadata": {},
   "source": [
    "### Напишем функцию вычисления прибыли для региона"
   ]
  },
  {
   "cell_type": "code",
   "execution_count": 24,
   "id": "d1fc303f",
   "metadata": {},
   "outputs": [],
   "source": [
    "def estimate_profit2(region,sample):\n",
    "    #Предскажем запасы по выбранным скважинам\n",
    "    sample['pr']=models[region].predict(sample)\n",
    "    #Отсоритруем в порядке убывания добычи\n",
    "    sample=sample.sort_values(by='pr',ascending=False)\n",
    "    #Отрежем 200 скважин с максимальной прогнозной добычей\n",
    "    pr=sample.iloc[:200]\n",
    "    index=pr.index\n",
    "    #Посчитаем целевую добычу по региону\n",
    "    trgt_sum=df_list[region].loc[index,'product'].sum()\n",
    "    #Умножим на цену за 1000 баррелей и вычтем бюджет на будерние в регионе\n",
    "    ep=round(trgt_sum*PRICE-BDG)\n",
    "    return ep"
   ]
  },
  {
   "cell_type": "markdown",
   "id": "dae7484e",
   "metadata": {},
   "source": [
    "### Рассчитаем прибыль по каждому региону на прогнозных данных"
   ]
  },
  {
   "cell_type": "code",
   "execution_count": 25,
   "id": "431a9d12",
   "metadata": {},
   "outputs": [
    {
     "name": "stdout",
     "output_type": "stream",
     "text": [
      "Прибыль на участке  0 ожидается на уровне: 3.491.186.902\n",
      "Прибыль на участке  1 ожидается на уровне: 2.415.086.697\n",
      "Прибыль на участке  2 ожидается на уровне: 2.405.061.690\n"
     ]
    }
   ],
   "source": [
    "for i in ii:\n",
    "    pred500_f=features_test_df[i]\n",
    "    x=estimate_profit2(i,pred500_f)\n",
    "    print(\"Прибыль на участке \", i, \"ожидается на уровне:\", '{0:,}'.format(x).replace(',', '.'))\n"
   ]
  },
  {
   "cell_type": "markdown",
   "id": "915c3cb8",
   "metadata": {},
   "source": [
    "### ВЫВОД\n",
    "\n",
    "**Прогноз показывает, что все три региона будут весьма прибыльными, регион \"0\" неожиданно ушёл в отрыв, тут прибыль обещают гораздо больше, хоть точность прогнозирования, как мы помним немаксимальная. Хотя средняя добыча в нём была как раз весьма средняя.**\n"
   ]
  },
  {
   "cell_type": "markdown",
   "id": "0473eace",
   "metadata": {},
   "source": [
    "## Оценка рисков и прибыли для каждого региона"
   ]
  },
  {
   "cell_type": "markdown",
   "id": "2ef2f70e",
   "metadata": {},
   "source": [
    "### Применим технику Bootstrap чтобы найти распределение прибыли"
   ]
  },
  {
   "cell_type": "code",
   "execution_count": 28,
   "id": "afc70bc7",
   "metadata": {},
   "outputs": [
    {
     "data": {
      "image/png": "[encoded data removed]",
      "text/plain": [
       "<Figure size 432x288 with 1 Axes>"
      ]
     },
     "metadata": {
      "needs_background": "light"
     },
     "output_type": "display_data"
    }
   ],
   "source": [
    "state = np.random.RandomState(123456)\n",
    "means=[]\n",
    "loss=[]\n",
    "lowers=[]\n",
    "upper=[]\n",
    "meas_loss=[]\n",
    "for i in ii:\n",
    "    profits=[]\n",
    "    f = df_list[i].loc[:, 'f0': 'f2']\n",
    "    for j in range(1000):\n",
    "        subsample = f.sample(n=500, replace=True, random_state=state)\n",
    "        profits.append(estimate_profit2(i,subsample))\n",
    "    profits=pd.Series(profits)\n",
    "    profits.hist(bins=50)\n",
    "    l=(profits.loc[profits<0].count()/500)\n",
    "    loss.append(l)\n",
    "    means.append(profits.mean())\n",
    "    lowers.append(profits.quantile(0.025))\n",
    "    upper.append(profits.quantile(0.975))\n",
    "    meas_loss.append(profits.loc[profits<0].mean())\n",
    "plt.title(\"распределение расчётной прибыли для каждого региона\")\n",
    "plt.ylabel(\"Рассчётная приблыь\")\n",
    "plt.xlabel(\"Вероятность\")\n",
    "plt.show()"
   ]
  },
  {
   "cell_type": "markdown",
   "id": "d22eba50",
   "metadata": {},
   "source": [
    "### Посчитаем основные бизнес-метрики"
   ]
  },
  {
   "cell_type": "code",
   "execution_count": 190,
   "id": "d0aae9e7",
   "metadata": {},
   "outputs": [
    {
     "data": {
      "text/html": [
       "<div>\n",
       "<style scoped>\n",
       "    .dataframe tbody tr th:only-of-type {\n",
       "        vertical-align: middle;\n",
       "    }\n",
       "\n",
       "    .dataframe tbody tr th {\n",
       "        vertical-align: top;\n",
       "    }\n",
       "\n",
       "    .dataframe thead th {\n",
       "        text-align: right;\n",
       "    }\n",
       "</style>\n",
       "<table border=\"1\" class=\"dataframe\">\n",
       "  <thead>\n",
       "    <tr style=\"text-align: right;\">\n",
       "      <th></th>\n",
       "      <th>Средняя прибыль</th>\n",
       "      <th>95%-доверительный интервал -начало</th>\n",
       "      <th>95%-доверительный интервал -конец</th>\n",
       "      <th>Вероятность убытков</th>\n",
       "      <th>Средний убыток</th>\n",
       "      <th>Прибыль по дереву решений</th>\n",
       "    </tr>\n",
       "  </thead>\n",
       "  <tbody>\n",
       "    <tr>\n",
       "      <th>0</th>\n",
       "      <td>4.214727e+08</td>\n",
       "      <td>-1.376386e+08</td>\n",
       "      <td>9.226009e+08</td>\n",
       "      <td>0.130</td>\n",
       "      <td>-1.186670e+08</td>\n",
       "      <td>3.512545e+08</td>\n",
       "    </tr>\n",
       "    <tr>\n",
       "      <th>1</th>\n",
       "      <td>4.424959e+08</td>\n",
       "      <td>6.673200e+07</td>\n",
       "      <td>8.436701e+08</td>\n",
       "      <td>0.024</td>\n",
       "      <td>-1.057378e+08</td>\n",
       "      <td>4.293383e+08</td>\n",
       "    </tr>\n",
       "    <tr>\n",
       "      <th>2</th>\n",
       "      <td>3.622103e+08</td>\n",
       "      <td>-1.560960e+08</td>\n",
       "      <td>9.203731e+08</td>\n",
       "      <td>0.190</td>\n",
       "      <td>-1.210591e+08</td>\n",
       "      <td>2.703891e+08</td>\n",
       "    </tr>\n",
       "  </tbody>\n",
       "</table>\n",
       "</div>"
      ],
      "text/plain": [
       "   Средняя прибыль  95%-доверительный интервал -начало  \\\n",
       "0     4.214727e+08                       -1.376386e+08   \n",
       "1     4.424959e+08                        6.673200e+07   \n",
       "2     3.622103e+08                       -1.560960e+08   \n",
       "\n",
       "   95%-доверительный интервал -конец  Вероятность убытков  Средний убыток  \\\n",
       "0                       9.226009e+08                0.130   -1.186670e+08   \n",
       "1                       8.436701e+08                0.024   -1.057378e+08   \n",
       "2                       9.203731e+08                0.190   -1.210591e+08   \n",
       "\n",
       "   Прибыль по дереву решений  \n",
       "0               3.512545e+08  \n",
       "1               4.293383e+08  \n",
       "2               2.703891e+08  "
      ]
     },
     "execution_count": 190,
     "metadata": {},
     "output_type": "execute_result"
    }
   ],
   "source": [
    "dict={\"Средняя прибыль\":means,\"95%-доверительный интервал -начало\":lowers,\"95%-доверительный интервал -конец\":upper,\"Вероятность убытков\":loss,\"Средний убыток\":meas_loss}\n",
    "output=pd.DataFrame(dict, index=[0,1,2])\n",
    "#Добавим ещё одни показатель - прогноз прибыли на основе дерева решений. \n",
    "#Перемножим вероятность получить прибыль на среднюю прибыль\n",
    "#и вероятность получить убыток на средний убыток\n",
    "#и сложим их.\n",
    "output['Прибыль по дереву решений']=(\n",
    "    output['Средний убыток']*output['Вероятность убытков']+\\\n",
    "    output['Средняя прибыль']*(1-output['Вероятность убытков'])\\\n",
    "    )\n",
    "output"
   ]
  },
  {
   "cell_type": "markdown",
   "id": "d2f87650",
   "metadata": {},
   "source": [
    "### ВЫВОД\n",
    "**Бизнес-метрики по каждому региону показывают, что регион \"1\" обещает максимальную прибыль, но при этом он и потенциально наименее рисковый. Сопоставив потенциальную прибыль и средний возможный убыток, взвешенные по вероятности их получения, ещё раз убеждаемся, что этот регион намного более привлекателен, по сравнению с двумя оставшимися.**\n",
    "\n",
    "**Подчеркнём, что потенциальным убыток крайне мал по сравнению с расходами на бурение, и потенциальными объёмыми прибыли, имеющиеся риски можно спокойно принять.**\n",
    "\n",
    "**Не следует ориентироваться на средние значения прибыли, так как среднее очень подвержено выбрасам. Даже квантили 95%-ного интервала сигналириуют нам горазо более доходчиво, какой региона несёт в себе меньше рисков."
   ]
  }
 ],
 "metadata": {
  "ExecuteTimeLog": [
   {
    "duration": 14244,
    "start_time": "2023-05-18T12:44:37.474Z"
   },
   {
    "duration": 707,
    "start_time": "2023-05-18T12:44:51.722Z"
   },
   {
    "duration": 21,
    "start_time": "2023-05-18T12:44:52.431Z"
   },
   {
    "duration": 35,
    "start_time": "2023-05-18T12:44:52.455Z"
   },
   {
    "duration": 16,
    "start_time": "2023-05-18T12:44:52.493Z"
   },
   {
    "duration": 46,
    "start_time": "2023-05-18T12:44:52.511Z"
   },
   {
    "duration": 39,
    "start_time": "2023-05-18T12:44:52.560Z"
   },
   {
    "duration": 6188,
    "start_time": "2023-05-18T12:44:52.601Z"
   },
   {
    "duration": 313,
    "start_time": "2023-05-18T12:44:58.792Z"
   },
   {
    "duration": 13,
    "start_time": "2023-05-18T12:44:59.106Z"
   },
   {
    "duration": 299,
    "start_time": "2023-05-18T12:44:59.121Z"
   },
   {
    "duration": 44,
    "start_time": "2023-05-18T12:44:59.423Z"
   },
   {
    "duration": 130,
    "start_time": "2023-05-18T12:44:59.469Z"
   },
   {
    "duration": 193,
    "start_time": "2023-05-18T12:44:59.601Z"
   },
   {
    "duration": 226,
    "start_time": "2023-05-18T12:44:59.798Z"
   },
   {
    "duration": 131,
    "start_time": "2023-05-18T12:45:00.025Z"
   },
   {
    "duration": 53,
    "start_time": "2023-05-18T12:45:00.157Z"
   },
   {
    "duration": 35,
    "start_time": "2023-05-18T12:45:00.212Z"
   },
   {
    "duration": 53,
    "start_time": "2023-05-18T12:45:00.249Z"
   },
   {
    "duration": 49,
    "start_time": "2023-05-18T12:45:00.304Z"
   },
   {
    "duration": 38,
    "start_time": "2023-05-18T12:45:00.354Z"
   },
   {
    "duration": 5828,
    "start_time": "2023-05-18T12:45:00.394Z"
   },
   {
    "duration": 19,
    "start_time": "2023-05-18T12:45:06.224Z"
   },
   {
    "duration": 16,
    "start_time": "2023-05-18T12:47:21.731Z"
   },
   {
    "duration": 10,
    "start_time": "2023-05-18T12:47:56.460Z"
   },
   {
    "duration": 1398,
    "start_time": "2023-05-18T13:21:48.528Z"
   },
   {
    "duration": 1967,
    "start_time": "2023-05-18T13:21:49.928Z"
   },
   {
    "duration": 17,
    "start_time": "2023-05-18T13:21:51.897Z"
   },
   {
    "duration": 17,
    "start_time": "2023-05-18T13:21:51.915Z"
   },
   {
    "duration": 3,
    "start_time": "2023-05-18T13:21:51.934Z"
   },
   {
    "duration": 27,
    "start_time": "2023-05-18T13:21:51.938Z"
   },
   {
    "duration": 16,
    "start_time": "2023-05-18T13:21:51.966Z"
   },
   {
    "duration": 5301,
    "start_time": "2023-05-18T13:21:52.832Z"
   },
   {
    "duration": 212,
    "start_time": "2023-05-18T13:21:58.134Z"
   },
   {
    "duration": 9,
    "start_time": "2023-05-18T13:21:58.348Z"
   },
   {
    "duration": 236,
    "start_time": "2023-05-18T13:21:58.358Z"
   },
   {
    "duration": 36,
    "start_time": "2023-05-18T13:21:58.596Z"
   },
   {
    "duration": 83,
    "start_time": "2023-05-18T13:22:07.262Z"
   },
   {
    "duration": 135,
    "start_time": "2023-05-18T13:22:09.824Z"
   },
   {
    "duration": 227,
    "start_time": "2023-05-18T13:22:11.351Z"
   },
   {
    "duration": 34,
    "start_time": "2023-05-18T13:22:18.270Z"
   },
   {
    "duration": 143,
    "start_time": "2023-05-18T13:22:23.969Z"
   },
   {
    "duration": 96,
    "start_time": "2023-05-18T13:26:37.688Z"
   },
   {
    "duration": 8,
    "start_time": "2023-05-18T13:26:51.059Z"
   },
   {
    "duration": 3,
    "start_time": "2023-05-18T13:27:01.455Z"
   },
   {
    "duration": 3,
    "start_time": "2023-05-18T13:27:09.819Z"
   },
   {
    "duration": 9,
    "start_time": "2023-05-18T13:27:54.186Z"
   },
   {
    "duration": 9,
    "start_time": "2023-05-18T13:28:17.511Z"
   },
   {
    "duration": 3,
    "start_time": "2023-05-18T13:28:25.022Z"
   },
   {
    "duration": 4,
    "start_time": "2023-05-18T13:28:26.386Z"
   },
   {
    "duration": 3,
    "start_time": "2023-05-18T13:28:42.815Z"
   },
   {
    "duration": 3,
    "start_time": "2023-05-18T13:34:01.955Z"
   },
   {
    "duration": 153,
    "start_time": "2023-05-18T13:34:03.855Z"
   },
   {
    "duration": 113,
    "start_time": "2023-05-18T13:35:43.212Z"
   },
   {
    "duration": 4,
    "start_time": "2023-05-18T13:35:48.382Z"
   },
   {
    "duration": 21,
    "start_time": "2023-05-18T13:35:50.589Z"
   },
   {
    "duration": 4,
    "start_time": "2023-05-18T13:36:00.447Z"
   },
   {
    "duration": 16,
    "start_time": "2023-05-18T13:36:02.023Z"
   },
   {
    "duration": 4,
    "start_time": "2023-05-18T13:36:17.890Z"
   },
   {
    "duration": 17,
    "start_time": "2023-05-18T13:36:19.289Z"
   },
   {
    "duration": 2,
    "start_time": "2023-05-18T13:36:45.989Z"
   },
   {
    "duration": 354,
    "start_time": "2023-05-18T13:36:46.386Z"
   },
   {
    "duration": 10,
    "start_time": "2023-05-18T13:36:46.742Z"
   },
   {
    "duration": 9,
    "start_time": "2023-05-18T13:36:47.095Z"
   },
   {
    "duration": 3,
    "start_time": "2023-05-18T13:36:47.286Z"
   },
   {
    "duration": 21,
    "start_time": "2023-05-18T13:36:47.456Z"
   },
   {
    "duration": 16,
    "start_time": "2023-05-18T13:36:47.797Z"
   },
   {
    "duration": 5510,
    "start_time": "2023-05-18T13:36:48.590Z"
   },
   {
    "duration": 243,
    "start_time": "2023-05-18T13:36:54.106Z"
   },
   {
    "duration": 9,
    "start_time": "2023-05-18T13:36:54.350Z"
   },
   {
    "duration": 228,
    "start_time": "2023-05-18T13:36:54.361Z"
   },
   {
    "duration": 43,
    "start_time": "2023-05-18T13:36:54.591Z"
   },
   {
    "duration": 106,
    "start_time": "2023-05-18T13:36:54.636Z"
   },
   {
    "duration": 151,
    "start_time": "2023-05-18T13:36:54.743Z"
   },
   {
    "duration": 174,
    "start_time": "2023-05-18T13:36:54.896Z"
   },
   {
    "duration": 41,
    "start_time": "2023-05-18T13:36:55.072Z"
   },
   {
    "duration": 123,
    "start_time": "2023-05-18T13:36:59.386Z"
   },
   {
    "duration": 3,
    "start_time": "2023-05-18T13:37:02.182Z"
   },
   {
    "duration": 5,
    "start_time": "2023-05-18T13:37:03.389Z"
   },
   {
    "duration": 4,
    "start_time": "2023-05-18T13:37:07.055Z"
   },
   {
    "duration": 256,
    "start_time": "2023-05-18T13:37:37.451Z"
   },
   {
    "duration": 16,
    "start_time": "2023-05-18T13:37:57.246Z"
   },
   {
    "duration": 21,
    "start_time": "2023-05-18T13:38:07.158Z"
   },
   {
    "duration": 20,
    "start_time": "2023-05-18T13:38:28.342Z"
   },
   {
    "duration": 19,
    "start_time": "2023-05-18T13:38:59.315Z"
   },
   {
    "duration": 9,
    "start_time": "2023-05-18T13:39:21.314Z"
   },
   {
    "duration": 26,
    "start_time": "2023-05-18T13:39:46.739Z"
   },
   {
    "duration": 124,
    "start_time": "2023-05-18T13:39:48.087Z"
   },
   {
    "duration": 3,
    "start_time": "2023-05-18T13:39:49.107Z"
   },
   {
    "duration": 6,
    "start_time": "2023-05-18T13:39:50.488Z"
   },
   {
    "duration": 3,
    "start_time": "2023-05-18T13:39:54.442Z"
   },
   {
    "duration": 67,
    "start_time": "2023-05-18T13:40:43.344Z"
   },
   {
    "duration": 3,
    "start_time": "2023-05-18T13:40:44.957Z"
   },
   {
    "duration": 5,
    "start_time": "2023-05-18T13:40:46.213Z"
   },
   {
    "duration": 3,
    "start_time": "2023-05-18T13:40:55.757Z"
   },
   {
    "duration": 9,
    "start_time": "2023-05-18T13:41:05.271Z"
   },
   {
    "duration": 67,
    "start_time": "2023-05-18T13:41:44.950Z"
   },
   {
    "duration": 16,
    "start_time": "2023-05-18T13:42:25.189Z"
   },
   {
    "duration": 4,
    "start_time": "2023-05-18T13:43:45.408Z"
   },
   {
    "duration": 18,
    "start_time": "2023-05-18T13:43:47.548Z"
   },
   {
    "duration": 10,
    "start_time": "2023-05-18T13:44:17.308Z"
   },
   {
    "duration": 26,
    "start_time": "2023-05-18T13:45:17.087Z"
   },
   {
    "duration": 125,
    "start_time": "2023-05-18T13:45:18.285Z"
   },
   {
    "duration": 3,
    "start_time": "2023-05-18T13:45:20.464Z"
   },
   {
    "duration": 5,
    "start_time": "2023-05-18T13:45:21.347Z"
   },
   {
    "duration": 3,
    "start_time": "2023-05-18T13:45:24.685Z"
   },
   {
    "duration": 10,
    "start_time": "2023-05-18T13:45:27.623Z"
   },
   {
    "duration": 44,
    "start_time": "2023-05-18T13:45:53.063Z"
   },
   {
    "duration": 5,
    "start_time": "2023-05-18T13:46:17.835Z"
   },
   {
    "duration": 11,
    "start_time": "2023-05-18T13:46:19.451Z"
   },
   {
    "duration": 12,
    "start_time": "2023-05-18T13:47:04.267Z"
   },
   {
    "duration": 11,
    "start_time": "2023-05-18T13:47:09.143Z"
   },
   {
    "duration": 18,
    "start_time": "2023-05-18T13:47:21.994Z"
   },
   {
    "duration": 11,
    "start_time": "2023-05-18T13:47:30.551Z"
   },
   {
    "duration": 16,
    "start_time": "2023-05-18T13:47:33.839Z"
   },
   {
    "duration": 3,
    "start_time": "2023-05-18T13:47:48.303Z"
   },
   {
    "duration": 11,
    "start_time": "2023-05-18T13:47:51.839Z"
   },
   {
    "duration": 17,
    "start_time": "2023-05-18T13:47:53.242Z"
   },
   {
    "duration": 28,
    "start_time": "2023-05-18T13:48:22.243Z"
   },
   {
    "duration": 53,
    "start_time": "2023-05-18T13:48:23.159Z"
   },
   {
    "duration": 2,
    "start_time": "2023-05-18T13:48:24.935Z"
   },
   {
    "duration": 5,
    "start_time": "2023-05-18T13:48:26.394Z"
   },
   {
    "duration": 3,
    "start_time": "2023-05-18T13:48:28.507Z"
   },
   {
    "duration": 11,
    "start_time": "2023-05-18T13:48:31.259Z"
   },
   {
    "duration": 241,
    "start_time": "2023-05-18T13:48:38.266Z"
   },
   {
    "duration": 3,
    "start_time": "2023-05-18T13:49:24.507Z"
   },
   {
    "duration": 13,
    "start_time": "2023-05-18T13:49:30.589Z"
   },
   {
    "duration": 19,
    "start_time": "2023-05-18T13:49:31.630Z"
   },
   {
    "duration": 26,
    "start_time": "2023-05-18T13:49:44.854Z"
   },
   {
    "duration": 198,
    "start_time": "2023-05-18T13:49:45.909Z"
   },
   {
    "duration": 3,
    "start_time": "2023-05-18T13:49:47.962Z"
   },
   {
    "duration": 5,
    "start_time": "2023-05-18T13:49:50.343Z"
   },
   {
    "duration": 3,
    "start_time": "2023-05-18T13:49:53.316Z"
   },
   {
    "duration": 239,
    "start_time": "2023-05-18T13:49:58.768Z"
   },
   {
    "duration": 27,
    "start_time": "2023-05-18T13:53:22.338Z"
   },
   {
    "duration": 143,
    "start_time": "2023-05-18T13:53:24.866Z"
   },
   {
    "duration": 3,
    "start_time": "2023-05-18T13:53:25.934Z"
   },
   {
    "duration": 4,
    "start_time": "2023-05-18T13:53:27.062Z"
   },
   {
    "duration": 5,
    "start_time": "2023-05-18T13:53:28.838Z"
   },
   {
    "duration": 40,
    "start_time": "2023-05-18T13:53:35.075Z"
   },
   {
    "duration": 27,
    "start_time": "2023-05-18T13:54:20.834Z"
   },
   {
    "duration": 163,
    "start_time": "2023-05-18T13:54:21.546Z"
   },
   {
    "duration": 3,
    "start_time": "2023-05-18T13:54:23.571Z"
   },
   {
    "duration": 5,
    "start_time": "2023-05-18T13:54:24.366Z"
   },
   {
    "duration": 3,
    "start_time": "2023-05-18T13:54:25.658Z"
   },
   {
    "duration": 21,
    "start_time": "2023-05-18T13:54:35.790Z"
   },
   {
    "duration": 3,
    "start_time": "2023-05-18T13:54:50.241Z"
   },
   {
    "duration": 16,
    "start_time": "2023-05-18T13:54:51.492Z"
   },
   {
    "duration": 20,
    "start_time": "2023-05-18T13:55:14.349Z"
   },
   {
    "duration": 4,
    "start_time": "2023-05-18T13:55:15.704Z"
   },
   {
    "duration": 10,
    "start_time": "2023-05-18T13:55:16.545Z"
   },
   {
    "duration": 4,
    "start_time": "2023-05-18T13:55:17.856Z"
   },
   {
    "duration": 15,
    "start_time": "2023-05-18T13:55:19.545Z"
   },
   {
    "duration": 9,
    "start_time": "2023-05-18T13:56:09.246Z"
   },
   {
    "duration": 4,
    "start_time": "2023-05-18T13:56:29.337Z"
   },
   {
    "duration": 12,
    "start_time": "2023-05-18T13:58:58.549Z"
   },
   {
    "duration": 11,
    "start_time": "2023-05-18T13:59:04.994Z"
   },
   {
    "duration": 12,
    "start_time": "2023-05-18T13:59:24.637Z"
   },
   {
    "duration": 11,
    "start_time": "2023-05-18T13:59:37.349Z"
   },
   {
    "duration": 6,
    "start_time": "2023-05-18T13:59:44.908Z"
   },
   {
    "duration": 6,
    "start_time": "2023-05-18T14:00:06.957Z"
   },
   {
    "duration": 33,
    "start_time": "2023-05-18T14:00:37.808Z"
   },
   {
    "duration": 69,
    "start_time": "2023-05-18T14:00:39.441Z"
   },
   {
    "duration": 3,
    "start_time": "2023-05-18T14:00:41.161Z"
   },
   {
    "duration": 6,
    "start_time": "2023-05-18T14:00:42.541Z"
   },
   {
    "duration": 4,
    "start_time": "2023-05-18T14:00:45.271Z"
   },
   {
    "duration": 104,
    "start_time": "2023-05-18T14:00:51.103Z"
   },
   {
    "duration": 3,
    "start_time": "2023-05-18T14:01:08.249Z"
   },
   {
    "duration": 21,
    "start_time": "2023-05-18T14:01:10.841Z"
   },
   {
    "duration": 27,
    "start_time": "2023-05-18T14:01:15.587Z"
   },
   {
    "duration": 36,
    "start_time": "2023-05-18T14:01:16.273Z"
   },
   {
    "duration": 3,
    "start_time": "2023-05-18T14:01:17.257Z"
   },
   {
    "duration": 5,
    "start_time": "2023-05-18T14:01:18.069Z"
   },
   {
    "duration": 3,
    "start_time": "2023-05-18T14:01:19.725Z"
   },
   {
    "duration": 143,
    "start_time": "2023-05-18T14:01:23.265Z"
   },
   {
    "duration": 15,
    "start_time": "2023-05-18T14:01:44.690Z"
   },
   {
    "duration": 28,
    "start_time": "2023-05-18T14:01:54.812Z"
   },
   {
    "duration": 160,
    "start_time": "2023-05-18T14:01:56.549Z"
   },
   {
    "duration": 3,
    "start_time": "2023-05-18T14:01:58.088Z"
   },
   {
    "duration": 5,
    "start_time": "2023-05-18T14:01:59.005Z"
   },
   {
    "duration": 4,
    "start_time": "2023-05-18T14:02:00.733Z"
   },
   {
    "duration": 98,
    "start_time": "2023-05-18T14:02:03.311Z"
   },
   {
    "duration": 22,
    "start_time": "2023-05-18T14:02:05.589Z"
   },
   {
    "duration": 14,
    "start_time": "2023-05-18T14:10:55.685Z"
   },
   {
    "duration": 33,
    "start_time": "2023-05-18T14:11:04.116Z"
   },
   {
    "duration": 101,
    "start_time": "2023-05-18T14:11:04.808Z"
   },
   {
    "duration": 3,
    "start_time": "2023-05-18T14:11:05.905Z"
   },
   {
    "duration": 5,
    "start_time": "2023-05-18T14:11:06.512Z"
   },
   {
    "duration": 4,
    "start_time": "2023-05-18T14:11:07.668Z"
   },
   {
    "duration": 124,
    "start_time": "2023-05-18T14:11:12.486Z"
   },
   {
    "duration": 27,
    "start_time": "2023-05-18T14:12:31.556Z"
   },
   {
    "duration": 49,
    "start_time": "2023-05-18T14:12:32.260Z"
   },
   {
    "duration": 3,
    "start_time": "2023-05-18T14:12:33.156Z"
   },
   {
    "duration": 4,
    "start_time": "2023-05-18T14:12:33.744Z"
   },
   {
    "duration": 3,
    "start_time": "2023-05-18T14:12:35.178Z"
   },
   {
    "duration": 185,
    "start_time": "2023-05-18T14:12:38.320Z"
   },
   {
    "duration": 15,
    "start_time": "2023-05-18T14:12:48.296Z"
   },
   {
    "duration": 27,
    "start_time": "2023-05-18T14:12:53.156Z"
   },
   {
    "duration": 51,
    "start_time": "2023-05-18T14:12:53.860Z"
   },
   {
    "duration": 3,
    "start_time": "2023-05-18T14:12:54.720Z"
   },
   {
    "duration": 5,
    "start_time": "2023-05-18T14:12:55.348Z"
   },
   {
    "duration": 4,
    "start_time": "2023-05-18T14:12:57.297Z"
   },
   {
    "duration": 142,
    "start_time": "2023-05-18T14:13:00.565Z"
   },
   {
    "duration": 21,
    "start_time": "2023-05-18T14:16:56.857Z"
   },
   {
    "duration": 29,
    "start_time": "2023-05-18T14:19:00.573Z"
   },
   {
    "duration": 146,
    "start_time": "2023-05-18T14:19:01.469Z"
   },
   {
    "duration": 3,
    "start_time": "2023-05-18T14:19:02.382Z"
   },
   {
    "duration": 5,
    "start_time": "2023-05-18T14:19:02.963Z"
   },
   {
    "duration": 3,
    "start_time": "2023-05-18T14:19:03.967Z"
   },
   {
    "duration": 144,
    "start_time": "2023-05-18T14:19:05.565Z"
   },
   {
    "duration": 7402,
    "start_time": "2023-05-18T14:19:45.765Z"
   },
   {
    "duration": 7597,
    "start_time": "2023-05-18T14:22:45.519Z"
   },
   {
    "duration": 14,
    "start_time": "2023-05-18T14:22:58.183Z"
   },
   {
    "duration": 7456,
    "start_time": "2023-05-18T14:25:01.685Z"
   },
   {
    "duration": 13,
    "start_time": "2023-05-18T14:25:09.142Z"
   }
  ],
  "kernelspec": {
   "display_name": "Python 3 (ipykernel)",
   "language": "python",
   "name": "python3"
  },
  "language_info": {
   "codemirror_mode": {
    "name": "ipython",
    "version": 3
   },
   "file_extension": ".py",
   "mimetype": "text/x-python",
   "name": "python",
   "nbconvert_exporter": "python",
   "pygments_lexer": "ipython3",
   "version": "3.9.5"
  },
  "toc": {
   "base_numbering": 1,
   "nav_menu": {},
   "number_sections": true,
   "sideBar": true,
   "skip_h1_title": true,
   "title_cell": "Table of Contents",
   "title_sidebar": "Contents",
   "toc_cell": true,
   "toc_position": {},
   "toc_section_display": true,
   "toc_window_display": false
  }
 },
 "nbformat": 4,
 "nbformat_minor": 5
}
