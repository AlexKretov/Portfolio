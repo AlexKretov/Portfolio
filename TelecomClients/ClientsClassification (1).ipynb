{
 "cells": [
  {
   "cell_type": "markdown",
   "metadata": {},
   "source": [
    "# Описание проекта"
   ]
  },
  {
   "cell_type": "markdown",
   "metadata": {},
   "source": [
    "Оператор мобильной связи «Мегалайн» выяснил: многие клиенты пользуются архивными тарифами. Они хотят построить систему, способную проанализировать поведение клиентов и предложить пользователям новый тариф: «Смарт» или «Ультра».\n",
    "В вашем распоряжении данные о поведении клиентов, которые уже перешли на эти тарифы. Нужно построить модель для задачи классификации, которая выберет подходящий тариф. \n",
    "\n",
    "Постройте модель с максимально большим значением accuracy. Чтобы сдать проект успешно, нужно довести долю правильных ответов по крайней мере до 0.75. Проверьте accuracy на тестовой выборке самостоятельно."
   ]
  },
  {
   "cell_type": "markdown",
   "metadata": {},
   "source": [
    "# Используемые иснтрументы\n",
    "\n",
    "Matplotlib  \n",
    "Pandas  \n",
    "Python  \n",
    "Scikit-learn"
   ]
  },
  {
   "cell_type": "markdown",
   "metadata": {},
   "source": [
    "# Цель проекта\n",
    "\n",
    "Построить модель, определяющую подходящий тариф с точностью не менее 0,75."
   ]
  },
  {
   "cell_type": "markdown",
   "metadata": {},
   "source": [
    "<h1>Структура проекта<span class=\"tocSkip\"></span></h1>\n",
    "<div class=\"toc\"><ul class=\"toc-item\"><li><span><a href=\"#Откройте-и-изучите-файл\" data-toc-modified-id=\"Откройте-и-изучите-файл\"><span class=\"toc-item-num\">1&nbsp;&nbsp;</span>Знакомство с набором данных</a></span></li></ul></div>\n",
    "<div class=\"toc\"><ul class=\"toc-item\"><li><span><a href=\"#Разбейте-данные-на-выборки\" data-toc-modified-id=\"Разбейте-данные-на-выборки\"><span class=\"toc-item-num\">2&nbsp;&nbsp;</span>Формирование выборок</a></span></li></ul></div>\n",
    "<div class=\"toc\"><ul class=\"toc-item\"><li><span><a href=\"#Исследуйте-модели\" data-toc-modified-id=\"Исследуйте-модели\"><span class=\"toc-item-num\">3&nbsp;&nbsp;</span>Моделирование</a></span></li></ul></div>\n",
    "<div class=\"toc\"><ul class=\"toc-item\"><li><span><a href=\"#Проверьте-модель-на-тестовой-выборке\" data-toc-modified-id=\"Проверьте-модель-на-тестовой-выборке\"><span class=\"toc-item-num\">4&nbsp;&nbsp;</span>Проверка модели на тестовой выборке</a></span></li></ul></div>\n",
    "<div class=\"toc\"><ul class=\"toc-item\"><li><span><a href=\"#(бонус)-Проверьте-модели-на-адекватность\" data-toc-modified-id=\"(бонус)-Проверьте-модели-на-адекватность\"><span class=\"toc-item-num\">5&nbsp;&nbsp;</span>Проверка модели на адекватность</a></span></li></ul></div>"
   ]
  },
  {
   "cell_type": "markdown",
   "metadata": {},
   "source": [
    "## Знакомство с набором данных"
   ]
  },
  {
   "cell_type": "code",
   "execution_count": 1,
   "metadata": {},
   "outputs": [],
   "source": [
    "import numpy as np\n",
    "import pandas as pd\n",
    "import matplotlib.pyplot as plt\n",
    "import seaborn as sns\n",
    "from sklearn.model_selection import train_test_split\n",
    "from sklearn.metrics import mean_squared_error\n",
    "import warnings\n",
    "warnings.filterwarnings('ignore')\n",
    "import time\n",
    "from sklearn import linear_model\n",
    "from sklearn.linear_model import LogisticRegression\n",
    "from sklearn.svm import SVC\n",
    "from sklearn.neighbors import KNeighborsClassifier\n",
    "from sklearn import tree\n",
    "from sklearn.neural_network import MLPClassifier\n",
    "from sklearn.neighbors import KNeighborsClassifier\n",
    "from sklearn.ensemble import GradientBoostingClassifier\n",
    "from sklearn.ensemble import RandomForestClassifier\n",
    "from sklearn.naive_bayes import GaussianNB\n",
    "from sklearn.dummy import DummyClassifier\n",
    "from sklearn. metrics import classification_report"
   ]
  },
  {
   "cell_type": "code",
   "execution_count": 2,
   "metadata": {},
   "outputs": [
    {
     "data": {
      "text/html": [
       "<div>\n",
       "<style scoped>\n",
       "    .dataframe tbody tr th:only-of-type {\n",
       "        vertical-align: middle;\n",
       "    }\n",
       "\n",
       "    .dataframe tbody tr th {\n",
       "        vertical-align: top;\n",
       "    }\n",
       "\n",
       "    .dataframe thead th {\n",
       "        text-align: right;\n",
       "    }\n",
       "</style>\n",
       "<table border=\"1\" class=\"dataframe\">\n",
       "  <thead>\n",
       "    <tr style=\"text-align: right;\">\n",
       "      <th></th>\n",
       "      <th>calls</th>\n",
       "      <th>minutes</th>\n",
       "      <th>messages</th>\n",
       "      <th>mb_used</th>\n",
       "      <th>is_ultra</th>\n",
       "    </tr>\n",
       "  </thead>\n",
       "  <tbody>\n",
       "    <tr>\n",
       "      <th>0</th>\n",
       "      <td>40.0</td>\n",
       "      <td>311.90</td>\n",
       "      <td>83.0</td>\n",
       "      <td>19915.42</td>\n",
       "      <td>0</td>\n",
       "    </tr>\n",
       "    <tr>\n",
       "      <th>1</th>\n",
       "      <td>85.0</td>\n",
       "      <td>516.75</td>\n",
       "      <td>56.0</td>\n",
       "      <td>22696.96</td>\n",
       "      <td>0</td>\n",
       "    </tr>\n",
       "    <tr>\n",
       "      <th>2</th>\n",
       "      <td>77.0</td>\n",
       "      <td>467.66</td>\n",
       "      <td>86.0</td>\n",
       "      <td>21060.45</td>\n",
       "      <td>0</td>\n",
       "    </tr>\n",
       "    <tr>\n",
       "      <th>3</th>\n",
       "      <td>106.0</td>\n",
       "      <td>745.53</td>\n",
       "      <td>81.0</td>\n",
       "      <td>8437.39</td>\n",
       "      <td>1</td>\n",
       "    </tr>\n",
       "    <tr>\n",
       "      <th>4</th>\n",
       "      <td>66.0</td>\n",
       "      <td>418.74</td>\n",
       "      <td>1.0</td>\n",
       "      <td>14502.75</td>\n",
       "      <td>0</td>\n",
       "    </tr>\n",
       "    <tr>\n",
       "      <th>5</th>\n",
       "      <td>58.0</td>\n",
       "      <td>344.56</td>\n",
       "      <td>21.0</td>\n",
       "      <td>15823.37</td>\n",
       "      <td>0</td>\n",
       "    </tr>\n",
       "    <tr>\n",
       "      <th>6</th>\n",
       "      <td>57.0</td>\n",
       "      <td>431.64</td>\n",
       "      <td>20.0</td>\n",
       "      <td>3738.90</td>\n",
       "      <td>1</td>\n",
       "    </tr>\n",
       "    <tr>\n",
       "      <th>7</th>\n",
       "      <td>15.0</td>\n",
       "      <td>132.40</td>\n",
       "      <td>6.0</td>\n",
       "      <td>21911.60</td>\n",
       "      <td>0</td>\n",
       "    </tr>\n",
       "    <tr>\n",
       "      <th>8</th>\n",
       "      <td>7.0</td>\n",
       "      <td>43.39</td>\n",
       "      <td>3.0</td>\n",
       "      <td>2538.67</td>\n",
       "      <td>1</td>\n",
       "    </tr>\n",
       "    <tr>\n",
       "      <th>9</th>\n",
       "      <td>90.0</td>\n",
       "      <td>665.41</td>\n",
       "      <td>38.0</td>\n",
       "      <td>17358.61</td>\n",
       "      <td>0</td>\n",
       "    </tr>\n",
       "  </tbody>\n",
       "</table>\n",
       "</div>"
      ],
      "text/plain": [
       "   calls  minutes  messages   mb_used  is_ultra\n",
       "0   40.0   311.90      83.0  19915.42         0\n",
       "1   85.0   516.75      56.0  22696.96         0\n",
       "2   77.0   467.66      86.0  21060.45         0\n",
       "3  106.0   745.53      81.0   8437.39         1\n",
       "4   66.0   418.74       1.0  14502.75         0\n",
       "5   58.0   344.56      21.0  15823.37         0\n",
       "6   57.0   431.64      20.0   3738.90         1\n",
       "7   15.0   132.40       6.0  21911.60         0\n",
       "8    7.0    43.39       3.0   2538.67         1\n",
       "9   90.0   665.41      38.0  17358.61         0"
      ]
     },
     "execution_count": 2,
     "metadata": {},
     "output_type": "execute_result"
    }
   ],
   "source": [
    "df=pd.read_csv('E://Data//_Projects//datasets//users_behavior.csv')\n",
    "df.head(10)"
   ]
  },
  {
   "cell_type": "markdown",
   "metadata": {},
   "source": [
    "Постараемся составить общее впечатление о датасете."
   ]
  },
  {
   "cell_type": "code",
   "execution_count": 3,
   "metadata": {},
   "outputs": [
    {
     "data": {
      "text/plain": [
       "(3214, 5)"
      ]
     },
     "execution_count": 3,
     "metadata": {},
     "output_type": "execute_result"
    }
   ],
   "source": [
    "df.shape"
   ]
  },
  {
   "cell_type": "code",
   "execution_count": 4,
   "metadata": {},
   "outputs": [
    {
     "name": "stdout",
     "output_type": "stream",
     "text": [
      "<class 'pandas.core.frame.DataFrame'>\n",
      "RangeIndex: 3214 entries, 0 to 3213\n",
      "Data columns (total 5 columns):\n",
      " #   Column    Non-Null Count  Dtype  \n",
      "---  ------    --------------  -----  \n",
      " 0   calls     3214 non-null   float64\n",
      " 1   minutes   3214 non-null   float64\n",
      " 2   messages  3214 non-null   float64\n",
      " 3   mb_used   3214 non-null   float64\n",
      " 4   is_ultra  3214 non-null   int64  \n",
      "dtypes: float64(4), int64(1)\n",
      "memory usage: 125.7 KB\n"
     ]
    }
   ],
   "source": [
    "df.info()"
   ]
  },
  {
   "cell_type": "code",
   "execution_count": 5,
   "metadata": {},
   "outputs": [
    {
     "data": {
      "text/plain": [
       "calls       0\n",
       "minutes     0\n",
       "messages    0\n",
       "mb_used     0\n",
       "is_ultra    0\n",
       "dtype: int64"
      ]
     },
     "execution_count": 5,
     "metadata": {},
     "output_type": "execute_result"
    }
   ],
   "source": [
    "df.isnull().sum()"
   ]
  },
  {
   "cell_type": "code",
   "execution_count": 6,
   "metadata": {},
   "outputs": [
    {
     "data": {
      "text/plain": [
       "array([0, 1], dtype=int64)"
      ]
     },
     "execution_count": 6,
     "metadata": {},
     "output_type": "execute_result"
    }
   ],
   "source": [
    "df['is_ultra'].unique()"
   ]
  },
  {
   "cell_type": "code",
   "execution_count": 7,
   "metadata": {},
   "outputs": [
    {
     "data": {
      "text/plain": [
       "0    2229\n",
       "1     985\n",
       "Name: is_ultra, dtype: int64"
      ]
     },
     "execution_count": 7,
     "metadata": {},
     "output_type": "execute_result"
    }
   ],
   "source": [
    "df['is_ultra'].value_counts()"
   ]
  },
  {
   "cell_type": "code",
   "execution_count": 30,
   "metadata": {},
   "outputs": [
    {
     "data": {
      "image/png": "[encoded data removed]",
      "text/plain": [
       "<Figure size 576x360 with 1 Axes>"
      ]
     },
     "metadata": {
      "needs_background": "light"
     },
     "output_type": "display_data"
    }
   ],
   "source": [
    "plt.figure(figsize=(8,5))\n",
    "plt.xticks(rotation=60)\n",
    "# count plot on single categorical variable\n",
    "sns.countplot(x ='is_ultra', data= df, order= df['is_ultra'].value_counts().index)\n",
    " \n",
    "# Show the plot\n",
    "plt.title('Распределение абонентов по тарифам')\n",
    "plt.xlabel('Талифы')\n",
    "plt.xticks([0,1],['Смарт', 'Ультра'])\n",
    "plt.ylabel('Количество клиентов')\n",
    "plt.show()"
   ]
  },
  {
   "cell_type": "code",
   "execution_count": 31,
   "metadata": {},
   "outputs": [
    {
     "data": {
      "image/png": "[encoded data removed]",
      "text/plain": [
       "<Figure size 360x360 with 1 Axes>"
      ]
     },
     "metadata": {
      "needs_background": "light"
     },
     "output_type": "display_data"
    }
   ],
   "source": [
    "y=df.index\n",
    "sns.catplot(kind=\"swarm\", x=\"is_ultra\", y=y, data=df)\n",
    "plt.title('Распределение абонентов по тарифам')\n",
    "plt.xlabel('Талифы')\n",
    "plt.xticks([0,1],['Смарт', 'Ультра'])\n",
    "plt.ylabel('Количество клиентов')\n",
    "plt.show()\n",
    "plt.show()"
   ]
  },
  {
   "cell_type": "markdown",
   "metadata": {},
   "source": [
    "# Вывод:\n",
    "Данные высококачественные, пропусков нет, данных в каждой категории достаточно, для решенрия задачи классификации.\n",
    "Роевая диаграмма показывает, что соотношение классов достаточно равномерное."
   ]
  },
  {
   "cell_type": "markdown",
   "metadata": {},
   "source": [
    "## Формирование выборок <a href=\"#Разбейте-данные-на-выборки\" data-toc-modified-id=\"Разбейте-данные-на-выборки\">"
   ]
  },
  {
   "cell_type": "markdown",
   "metadata": {},
   "source": [
    "Сделаем обучающую и тестовую выборку. И ещё немного оставим для валидации."
   ]
  },
  {
   "cell_type": "code",
   "execution_count": 10,
   "metadata": {},
   "outputs": [
    {
     "name": "stdout",
     "output_type": "stream",
     "text": [
      "(2056, 4) (515, 4) (643, 4)\n"
     ]
    }
   ],
   "source": [
    "features = df.drop(['is_ultra'], axis=1)\n",
    "target = df['is_ultra']\n",
    "X_split, X_valid, Y_split, Y_valid = train_test_split(features, target, test_size=0.2, random_state=123)\n",
    "X_train, X_test, Y_train, Y_test = train_test_split(X_split, Y_split, test_size=0.2, random_state=123)\n",
    "\n",
    "print(X_train.shape,X_test.shape, X_valid.shape)"
   ]
  },
  {
   "cell_type": "code",
   "execution_count": 11,
   "metadata": {},
   "outputs": [
    {
     "data": {
      "text/html": [
       "<div>\n",
       "<style scoped>\n",
       "    .dataframe tbody tr th:only-of-type {\n",
       "        vertical-align: middle;\n",
       "    }\n",
       "\n",
       "    .dataframe tbody tr th {\n",
       "        vertical-align: top;\n",
       "    }\n",
       "\n",
       "    .dataframe thead th {\n",
       "        text-align: right;\n",
       "    }\n",
       "</style>\n",
       "<table border=\"1\" class=\"dataframe\">\n",
       "  <thead>\n",
       "    <tr style=\"text-align: right;\">\n",
       "      <th></th>\n",
       "      <th>train</th>\n",
       "      <th>test</th>\n",
       "      <th>valid</th>\n",
       "    </tr>\n",
       "  </thead>\n",
       "  <tbody>\n",
       "    <tr>\n",
       "      <th>0</th>\n",
       "      <td>1429</td>\n",
       "      <td>350</td>\n",
       "      <td>450</td>\n",
       "    </tr>\n",
       "    <tr>\n",
       "      <th>1</th>\n",
       "      <td>627</td>\n",
       "      <td>165</td>\n",
       "      <td>193</td>\n",
       "    </tr>\n",
       "  </tbody>\n",
       "</table>\n",
       "</div>"
      ],
      "text/plain": [
       "   train  test  valid\n",
       "0   1429   350    450\n",
       "1    627   165    193"
      ]
     },
     "execution_count": 11,
     "metadata": {},
     "output_type": "execute_result"
    }
   ],
   "source": [
    "smpls=pd.DataFrame()\n",
    "smpls['train']=Y_train.value_counts()\n",
    "smpls['test']=Y_test.value_counts()\n",
    "smpls['valid']=Y_valid.value_counts()\n",
    "smpls"
   ]
  },
  {
   "cell_type": "markdown",
   "metadata": {},
   "source": [
    "# Вывод:\n",
    "\n",
    "Получились достаточно большие наборы данных, чтобы достичь целевой точности рекомендаций модели.\n",
    "Проверили, что все выборки содержат достаточное количество значений целевого признака обоих типов. Теперь точно можно не опасаться, что будет жёстки дисбаланс на каком-то этапе."
   ]
  },
  {
   "cell_type": "markdown",
   "metadata": {},
   "source": [
    "## Моделирование"
   ]
  },
  {
   "cell_type": "markdown",
   "metadata": {},
   "source": [
    "Возьмём набор моделей-классификаторов из бибилиотеки sklearn"
   ]
  },
  {
   "cell_type": "code",
   "execution_count": 12,
   "metadata": {},
   "outputs": [],
   "source": [
    "from sklearn import linear_model\n",
    "dict_classifiers = {\n",
    "    \"Logistic Regression\": LogisticRegression(),\n",
    "    \"Nearest Neighbors\": KNeighborsClassifier(),\n",
    "    \"Linear SVM\": SVC(),\n",
    "    \"Gradient Boosting Classifier\": GradientBoostingClassifier(n_estimators=1000),\n",
    "    \"Decision Tree\": tree.DecisionTreeClassifier(),\n",
    "    \"Random Forest\": RandomForestClassifier(n_estimators=1000),\n",
    "    \"Neural Net\": MLPClassifier(alpha = 1),\n",
    "    \"Naive Bayes\": GaussianNB()\n",
    "}"
   ]
  },
  {
   "cell_type": "markdown",
   "metadata": {},
   "source": [
    "Напишем процедуру, обучающую модели по предложенным выборкам, и сразу же считал статистику по всем."
   ]
  },
  {
   "cell_type": "code",
   "execution_count": 13,
   "metadata": {},
   "outputs": [],
   "source": [
    "def batch_classify(X_train, Y_train, X_test, Y_test, no_classifiers = 5, verbose = True):\n",
    "    \n",
    "    dict_models = {}\n",
    "    for classifier_name, classifier in list(dict_classifiers.items())[:no_classifiers]:\n",
    "        t_start = time.perf_counter()\n",
    "        classifier.fit(X_train, Y_train)\n",
    "        t_end = time.perf_counter()\n",
    "        \n",
    "        t_diff = t_end - t_start\n",
    "        train_score = classifier.score(X_train, Y_train)\n",
    "        test_score = classifier.score(X_test, Y_test)\n",
    "        \n",
    "        dict_models[classifier_name] = {'model': classifier, 'train_score': train_score, 'test_score': test_score, 'train_time': t_diff}\n",
    "        if verbose:\n",
    "            print(\"trained {c} in {f:.2f} s\".format(c=classifier_name, f=t_diff))\n",
    "    return dict_models"
   ]
  },
  {
   "cell_type": "markdown",
   "metadata": {},
   "source": [
    "Добавим процедуру, которая красиво будет выводить получившуюся статистику"
   ]
  },
  {
   "cell_type": "code",
   "execution_count": 14,
   "metadata": {},
   "outputs": [],
   "source": [
    "def display_dict_models(dict_models, sort_by='test_score'):\n",
    "    cls = [key for key in dict_models.keys()]\n",
    "    test_s = [dict_models[key]['test_score'] for key in cls]\n",
    "    training_s = [dict_models[key]['train_score'] for key in cls]\n",
    "    training_t = [dict_models[key]['train_time'] for key in cls]\n",
    "    \n",
    "    df_ = pd.DataFrame(data=np.zeros(shape=(len(cls),4)), columns = ['classifier', 'train_score', 'test_score', 'train_time'])\n",
    "    for ii in range(0,len(cls)):\n",
    "        df_.loc[ii, 'classifier'] = cls[ii]\n",
    "        df_.loc[ii, 'train_score'] = training_s[ii]\n",
    "        df_.loc[ii, 'test_score'] = test_s[ii]\n",
    "        df_.loc[ii, 'train_time'] = training_t[ii]\n",
    "    \n",
    "    display(df_.sort_values(by=sort_by, ascending=False))"
   ]
  },
  {
   "cell_type": "code",
   "execution_count": 15,
   "metadata": {},
   "outputs": [
    {
     "name": "stdout",
     "output_type": "stream",
     "text": [
      "trained Logistic Regression in 0.00 s\n",
      "trained Nearest Neighbors in 0.00 s\n",
      "trained Linear SVM in 0.05 s\n",
      "trained Gradient Boosting Classifier in 2.17 s\n",
      "trained Decision Tree in 0.01 s\n",
      "trained Random Forest in 4.83 s\n",
      "trained Neural Net in 0.18 s\n",
      "trained Naive Bayes in 0.00 s\n"
     ]
    },
    {
     "data": {
      "text/html": [
       "<div>\n",
       "<style scoped>\n",
       "    .dataframe tbody tr th:only-of-type {\n",
       "        vertical-align: middle;\n",
       "    }\n",
       "\n",
       "    .dataframe tbody tr th {\n",
       "        vertical-align: top;\n",
       "    }\n",
       "\n",
       "    .dataframe thead th {\n",
       "        text-align: right;\n",
       "    }\n",
       "</style>\n",
       "<table border=\"1\" class=\"dataframe\">\n",
       "  <thead>\n",
       "    <tr style=\"text-align: right;\">\n",
       "      <th></th>\n",
       "      <th>classifier</th>\n",
       "      <th>train_score</th>\n",
       "      <th>test_score</th>\n",
       "      <th>train_time</th>\n",
       "    </tr>\n",
       "  </thead>\n",
       "  <tbody>\n",
       "    <tr>\n",
       "      <th>5</th>\n",
       "      <td>Random Forest</td>\n",
       "      <td>1.000000</td>\n",
       "      <td>0.792233</td>\n",
       "      <td>4.826544</td>\n",
       "    </tr>\n",
       "    <tr>\n",
       "      <th>3</th>\n",
       "      <td>Gradient Boosting Classifier</td>\n",
       "      <td>0.981031</td>\n",
       "      <td>0.778641</td>\n",
       "      <td>2.168608</td>\n",
       "    </tr>\n",
       "    <tr>\n",
       "      <th>7</th>\n",
       "      <td>Naive Bayes</td>\n",
       "      <td>0.785019</td>\n",
       "      <td>0.770874</td>\n",
       "      <td>0.002170</td>\n",
       "    </tr>\n",
       "    <tr>\n",
       "      <th>1</th>\n",
       "      <td>Nearest Neighbors</td>\n",
       "      <td>0.814689</td>\n",
       "      <td>0.733981</td>\n",
       "      <td>0.001808</td>\n",
       "    </tr>\n",
       "    <tr>\n",
       "      <th>2</th>\n",
       "      <td>Linear SVM</td>\n",
       "      <td>0.738813</td>\n",
       "      <td>0.732039</td>\n",
       "      <td>0.046494</td>\n",
       "    </tr>\n",
       "    <tr>\n",
       "      <th>0</th>\n",
       "      <td>Logistic Regression</td>\n",
       "      <td>0.721304</td>\n",
       "      <td>0.699029</td>\n",
       "      <td>0.004329</td>\n",
       "    </tr>\n",
       "    <tr>\n",
       "      <th>4</th>\n",
       "      <td>Decision Tree</td>\n",
       "      <td>1.000000</td>\n",
       "      <td>0.685437</td>\n",
       "      <td>0.005794</td>\n",
       "    </tr>\n",
       "    <tr>\n",
       "      <th>6</th>\n",
       "      <td>Neural Net</td>\n",
       "      <td>0.305447</td>\n",
       "      <td>0.320388</td>\n",
       "      <td>0.176208</td>\n",
       "    </tr>\n",
       "  </tbody>\n",
       "</table>\n",
       "</div>"
      ],
      "text/plain": [
       "                     classifier  train_score  test_score  train_time\n",
       "5                 Random Forest     1.000000    0.792233    4.826544\n",
       "3  Gradient Boosting Classifier     0.981031    0.778641    2.168608\n",
       "7                   Naive Bayes     0.785019    0.770874    0.002170\n",
       "1             Nearest Neighbors     0.814689    0.733981    0.001808\n",
       "2                    Linear SVM     0.738813    0.732039    0.046494\n",
       "0           Logistic Regression     0.721304    0.699029    0.004329\n",
       "4                 Decision Tree     1.000000    0.685437    0.005794\n",
       "6                    Neural Net     0.305447    0.320388    0.176208"
      ]
     },
     "metadata": {},
     "output_type": "display_data"
    }
   ],
   "source": [
    "dict_models = batch_classify(X_train, Y_train, X_test, Y_test, no_classifiers = 8)\n",
    "display_dict_models(dict_models)"
   ]
  },
  {
   "cell_type": "markdown",
   "metadata": {},
   "source": [
    "Теперь оптимизируем гиперпараметры нескольких моделей"
   ]
  },
  {
   "cell_type": "code",
   "execution_count": 16,
   "metadata": {},
   "outputs": [
    {
     "name": "stdout",
     "output_type": "stream",
     "text": [
      "For (RandomForestClassifier, 239, 2, 0.0,None) - train, test score: \t 1.00000 \t-\t 0.79029\n",
      "For (RandomForestClassifier, 239, 2, 0.0,10) - train, test score: \t 0.89591 \t-\t 0.79417\n",
      "For (RandomForestClassifier, 239, 4, 0.0,None) - train, test score: \t 0.99076 \t-\t 0.79612\n",
      "For (RandomForestClassifier, 239, 4, 0.0,10) - train, test score: \t 0.89154 \t-\t 0.80000\n",
      "For (RandomForestClassifier, 239, 4, 0.0,15) - train, test score: \t 0.93288 \t-\t 0.80388\n",
      "Оптимизация закончена\n"
     ]
    }
   ],
   "source": [
    "def check_best_score(cllf,X_t,Y_t,X_v,Y_v):\n",
    "                cllf.fit(X_t, Y_t)\n",
    "                train_score1 = clf.score(X_t, Y_t)\n",
    "                test_score1 = clf.score(X_v, Y_v)\n",
    "                return train_score1,test_score1\n",
    "\n",
    "GDB_params = {\n",
    "    'random_state':[239, 0,163],\n",
    "    'min_samples_split':[2,4,6],\n",
    "    'min_weight_fraction_leaf':[0.0, 0.1,0.5],\n",
    "    'max_depth': [None, 2, 5, 10, 15]\n",
    "}\n",
    "dict_classifiers_opt={\n",
    "    \"Gradient Boosting Classifier\": GradientBoostingClassifier(),\n",
    "    \"Decision Tree\": tree.DecisionTreeClassifier(),\n",
    "    \"Random Forest\": RandomForestClassifier(),\n",
    "}\n",
    "x_score=0.75\n",
    "\n",
    "best_model=RandomForestClassifier(n_estimators=100, \n",
    "                                             max_depth = 1,\n",
    "                                             criterion = 'gini', min_samples_split=2)\n",
    "for r_state in GDB_params['random_state']:\n",
    "    for msl in GDB_params['min_samples_split']:\n",
    "        for mwfl in GDB_params['min_weight_fraction_leaf']:\n",
    "            for md in GDB_params['max_depth']:\n",
    "                clf = GradientBoostingClassifier(random_state=r_state, \n",
    "                                             min_samples_split = msl,\n",
    "                                             min_weight_fraction_leaf = mwfl, max_depth=md)\n",
    "                train_score, test_score=check_best_score(clf,X_train, Y_train,X_test, Y_test)\n",
    "                if test_score>x_score:\n",
    "                    print(\"For ({}, {}, {}, {},{}) - train, test score: \\t {:.5f} \\t-\\t {:.5f}\".format(\"GradientBoostingClassifier\", r_state, msl, mwfl,md, train_score, test_score))\n",
    "                    x_score=test_score\n",
    "                    best_model=clf\n",
    "                clf = tree.DecisionTreeClassifier(random_state=r_state, \n",
    "                                             min_samples_split = msl,\n",
    "                                             min_weight_fraction_leaf = mwfl, max_depth=md)\n",
    "                train_score, test_score=check_best_score(clf,X_train, Y_train,X_test, Y_test)\n",
    "                if test_score>x_score:\n",
    "                    print(\"For ({}, {}, {}, {},{}) - train, test score: \\t {:.5f} \\t-\\t {:.5f}\".format(\"DecisionTreeClassifier\", r_state, msl, mwfl,md, train_score, test_score))\n",
    "                    x_score=test_score\n",
    "                    best_model=clf\n",
    "                clf = RandomForestClassifier(random_state=r_state, \n",
    "                                             min_samples_split = msl,\n",
    "                                             min_weight_fraction_leaf = mwfl, max_depth=md)\n",
    "                train_score, test_score=check_best_score(clf,X_train, Y_train,X_test, Y_test)\n",
    "                if test_score>x_score:\n",
    "                    print(\"For ({}, {}, {}, {},{}) - train, test score: \\t {:.5f} \\t-\\t {:.5f}\".format(\"RandomForestClassifier\", r_state, msl, mwfl,md, train_score, test_score))\n",
    "                    x_score=test_score\n",
    "                    best_model=clf\n",
    "print(\"Оптимизация закончена\")"
   ]
  },
  {
   "cell_type": "markdown",
   "metadata": {},
   "source": [
    "## Проверка модели на валидационной выборке"
   ]
  },
  {
   "cell_type": "code",
   "execution_count": 17,
   "metadata": {},
   "outputs": [
    {
     "name": "stdout",
     "output_type": "stream",
     "text": [
      "trained Logistic Regression in 0.01 s\n",
      "trained Nearest Neighbors in 0.00 s\n",
      "trained Linear SVM in 0.09 s\n",
      "trained Gradient Boosting Classifier in 3.51 s\n",
      "trained Decision Tree in 0.01 s\n",
      "trained Random Forest in 5.03 s\n",
      "trained Neural Net in 0.13 s\n",
      "trained Naive Bayes in 0.00 s\n"
     ]
    },
    {
     "data": {
      "text/html": [
       "<div>\n",
       "<style scoped>\n",
       "    .dataframe tbody tr th:only-of-type {\n",
       "        vertical-align: middle;\n",
       "    }\n",
       "\n",
       "    .dataframe tbody tr th {\n",
       "        vertical-align: top;\n",
       "    }\n",
       "\n",
       "    .dataframe thead th {\n",
       "        text-align: right;\n",
       "    }\n",
       "</style>\n",
       "<table border=\"1\" class=\"dataframe\">\n",
       "  <thead>\n",
       "    <tr style=\"text-align: right;\">\n",
       "      <th></th>\n",
       "      <th>classifier</th>\n",
       "      <th>train_score</th>\n",
       "      <th>test_score</th>\n",
       "      <th>train_time</th>\n",
       "    </tr>\n",
       "  </thead>\n",
       "  <tbody>\n",
       "    <tr>\n",
       "      <th>5</th>\n",
       "      <td>Random Forest</td>\n",
       "      <td>1.000000</td>\n",
       "      <td>0.800933</td>\n",
       "      <td>5.025802</td>\n",
       "    </tr>\n",
       "    <tr>\n",
       "      <th>3</th>\n",
       "      <td>Gradient Boosting Classifier</td>\n",
       "      <td>0.981031</td>\n",
       "      <td>0.796267</td>\n",
       "      <td>3.507632</td>\n",
       "    </tr>\n",
       "    <tr>\n",
       "      <th>1</th>\n",
       "      <td>Nearest Neighbors</td>\n",
       "      <td>0.814689</td>\n",
       "      <td>0.780715</td>\n",
       "      <td>0.003739</td>\n",
       "    </tr>\n",
       "    <tr>\n",
       "      <th>7</th>\n",
       "      <td>Naive Bayes</td>\n",
       "      <td>0.785019</td>\n",
       "      <td>0.776050</td>\n",
       "      <td>0.001684</td>\n",
       "    </tr>\n",
       "    <tr>\n",
       "      <th>2</th>\n",
       "      <td>Linear SVM</td>\n",
       "      <td>0.738813</td>\n",
       "      <td>0.760498</td>\n",
       "      <td>0.091632</td>\n",
       "    </tr>\n",
       "    <tr>\n",
       "      <th>4</th>\n",
       "      <td>Decision Tree</td>\n",
       "      <td>1.000000</td>\n",
       "      <td>0.716952</td>\n",
       "      <td>0.010031</td>\n",
       "    </tr>\n",
       "    <tr>\n",
       "      <th>6</th>\n",
       "      <td>Neural Net</td>\n",
       "      <td>0.707685</td>\n",
       "      <td>0.715397</td>\n",
       "      <td>0.131808</td>\n",
       "    </tr>\n",
       "    <tr>\n",
       "      <th>0</th>\n",
       "      <td>Logistic Regression</td>\n",
       "      <td>0.721304</td>\n",
       "      <td>0.712286</td>\n",
       "      <td>0.009572</td>\n",
       "    </tr>\n",
       "  </tbody>\n",
       "</table>\n",
       "</div>"
      ],
      "text/plain": [
       "                     classifier  train_score  test_score  train_time\n",
       "5                 Random Forest     1.000000    0.800933    5.025802\n",
       "3  Gradient Boosting Classifier     0.981031    0.796267    3.507632\n",
       "1             Nearest Neighbors     0.814689    0.780715    0.003739\n",
       "7                   Naive Bayes     0.785019    0.776050    0.001684\n",
       "2                    Linear SVM     0.738813    0.760498    0.091632\n",
       "4                 Decision Tree     1.000000    0.716952    0.010031\n",
       "6                    Neural Net     0.707685    0.715397    0.131808\n",
       "0           Logistic Regression     0.721304    0.712286    0.009572"
      ]
     },
     "metadata": {},
     "output_type": "display_data"
    },
    {
     "name": "stdout",
     "output_type": "stream",
     "text": [
      "test score - после оптимизации гиперпараметров\n"
     ]
    },
    {
     "data": {
      "text/plain": [
       "0.80248833592535"
      ]
     },
     "metadata": {},
     "output_type": "display_data"
    }
   ],
   "source": [
    "dict_models = batch_classify(X_train, Y_train, X_valid, Y_valid, no_classifiers = 8)\n",
    "display_dict_models(dict_models)\n",
    "print('test score - после оптимизации гиперпараметров')\n",
    "display(best_model.score(X_valid, Y_valid))"
   ]
  },
  {
   "cell_type": "markdown",
   "metadata": {},
   "source": [
    "# Вывод:\n",
    "Лучшее качество по точности предложения тарифов нашим клиентам показала модель на основе \"случайного леса\". Перебирая значения гиперпарамтеров удалось достичь точности в 80,2% на валидационной выборке, что несколько лучше целевого значения в 75%. Но достаточно ли хорошо это будет для реальных пользователей? Проведём тест на адекватность."
   ]
  },
  {
   "cell_type": "markdown",
   "metadata": {},
   "source": [
    "## Проверка модели на адекватность"
   ]
  },
  {
   "cell_type": "markdown",
   "metadata": {},
   "source": [
    "Сначала посмотрим какую точность дал бы \"примитивный алгоритм\" на месте нашей модели."
   ]
  },
  {
   "cell_type": "code",
   "execution_count": 18,
   "metadata": {},
   "outputs": [
    {
     "name": "stdout",
     "output_type": "stream",
     "text": [
      "Стратегия most_frequent ************************\n",
      "               precision    recall  f1-score   support\n",
      "\n",
      "       Смарт       0.70      1.00      0.82       450\n",
      "      Ультра       0.00      0.00      0.00       193\n",
      "\n",
      "    accuracy                           0.70       643\n",
      "   macro avg       0.35      0.50      0.41       643\n",
      "weighted avg       0.49      0.70      0.58       643\n",
      "\n",
      "Стратегия prior ************************\n",
      "               precision    recall  f1-score   support\n",
      "\n",
      "       Смарт       0.70      1.00      0.82       450\n",
      "      Ультра       0.00      0.00      0.00       193\n",
      "\n",
      "    accuracy                           0.70       643\n",
      "   macro avg       0.35      0.50      0.41       643\n",
      "weighted avg       0.49      0.70      0.58       643\n",
      "\n",
      "Стратегия stratified ************************\n",
      "               precision    recall  f1-score   support\n",
      "\n",
      "       Смарт       0.72      0.72      0.72       450\n",
      "      Ультра       0.36      0.36      0.36       193\n",
      "\n",
      "    accuracy                           0.61       643\n",
      "   macro avg       0.54      0.54      0.54       643\n",
      "weighted avg       0.61      0.61      0.61       643\n",
      "\n",
      "Стратегия uniform ************************\n",
      "               precision    recall  f1-score   support\n",
      "\n",
      "       Смарт       0.70      0.49      0.58       450\n",
      "      Ультра       0.30      0.51      0.38       193\n",
      "\n",
      "    accuracy                           0.50       643\n",
      "   macro avg       0.50      0.50      0.48       643\n",
      "weighted avg       0.58      0.50      0.52       643\n",
      "\n"
     ]
    }
   ],
   "source": [
    "str=[\"most_frequent\", \"prior\", \"stratified\", \"uniform\"]\n",
    "for i in str:\n",
    "    dummy_clf = DummyClassifier(strategy=i)\n",
    "    dummy_clf.fit(X_train,Y_train)\n",
    "    y_pred=dummy_clf.predict(X_valid)\n",
    "    print(\"Стратегия\",i,\"************************\\n\", classification_report(Y_valid, y_pred,target_names = ['Смарт', 'Ультра']))"
   ]
  },
  {
   "cell_type": "code",
   "execution_count": 19,
   "metadata": {},
   "outputs": [
    {
     "name": "stdout",
     "output_type": "stream",
     "text": [
      "              precision    recall  f1-score   support\n",
      "\n",
      "       Смарт       0.82      0.91      0.87       450\n",
      "      Ультра       0.73      0.54      0.62       193\n",
      "\n",
      "    accuracy                           0.80       643\n",
      "   macro avg       0.78      0.73      0.74       643\n",
      "weighted avg       0.80      0.80      0.79       643\n",
      "\n"
     ]
    }
   ],
   "source": [
    "y_pred=best_model.predict(X_valid)\n",
    "print(classification_report(Y_valid,y_pred,target_names = ['Смарт', 'Ультра']))"
   ]
  },
  {
   "cell_type": "code",
   "execution_count": 20,
   "metadata": {},
   "outputs": [
    {
     "data": {
      "image/png": "[encoded data removed]",
      "text/plain": [
       "<Figure size 432x288 with 2 Axes>"
      ]
     },
     "metadata": {
      "needs_background": "light"
     },
     "output_type": "display_data"
    }
   ],
   "source": [
    "from sklearn.metrics import confusion_matrix, ConfusionMatrixDisplay\n",
    "\n",
    "cm = confusion_matrix(Y_valid, y_pred)\n",
    "disp = ConfusionMatrixDisplay(confusion_matrix=cm,\n",
    "                               display_labels=['Смарт', 'Ультра'])\n",
    "disp.plot()\n",
    "plt.show()"
   ]
  },
  {
   "cell_type": "markdown",
   "metadata": {},
   "source": [
    "# Вывод:\n",
    "\n",
    "Accuracy : Из всех клиентов, которым модель предлагала тариф \"Ультра\", его выбрали аж 73% .\n",
    "\n",
    "Recall : из всех клиентов, которые действительно выбрали тариф \"Ультра\", модель правильно предсказала этот результат только для 54% этих клиентов. *Очень печально, что этот показатель лишь немного превосходит результаты \"примитивного алгоритма\" со стратегией \"uniform\" - испльзующей равную веротяность для каждого тарифа.\n",
    "\n",
    "F1-score : Поскольку это значение не очень близко к 1, но всё-таки больше 0,5 это говорит нам о том, что модель не так уж хорошо предсказывает, будут ли клиенты выбирать тариф \"Ультра\", *но всё-таки показывает более точные результаты чем у \"примитивного алгоритма\".* **Модель склонна недостаточно активно предлагать талиф \"Ультра\", где клиент бы его был готов купить.**\n",
    "\n",
    "Support : эти значения просто говорят нам, сколько клинетов выбрало каждый тариф в валидационном наборе данных. Мы видим, что  450 выбрали \"Смарт\", а 193 - \"Ультра\"."
   ]
  },
  {
   "cell_type": "markdown",
   "metadata": {},
   "source": [
    "***"
   ]
  }
 ],
 "metadata": {
  "ExecuteTimeLog": [
   {
    "duration": 2361,
    "start_time": "2023-04-05T06:27:04.704Z"
   },
   {
    "duration": 93,
    "start_time": "2023-04-05T06:27:17.932Z"
   },
   {
    "duration": 4,
    "start_time": "2023-04-05T06:36:08.257Z"
   },
   {
    "duration": 12,
    "start_time": "2023-04-05T06:36:22.525Z"
   },
   {
    "duration": 8,
    "start_time": "2023-04-05T06:36:31.792Z"
   },
   {
    "duration": 5,
    "start_time": "2023-04-05T06:36:44.042Z"
   },
   {
    "duration": 6,
    "start_time": "2023-04-05T06:36:55.756Z"
   },
   {
    "duration": 164,
    "start_time": "2023-04-05T06:37:05.094Z"
   },
   {
    "duration": 120,
    "start_time": "2023-04-05T06:37:22.263Z"
   },
   {
    "duration": 149,
    "start_time": "2023-04-05T06:37:58.614Z"
   },
   {
    "duration": 20784,
    "start_time": "2023-04-05T06:38:29.185Z"
   },
   {
    "duration": 259,
    "start_time": "2023-04-05T06:42:01.164Z"
   },
   {
    "duration": 155,
    "start_time": "2023-04-05T06:42:28.677Z"
   },
   {
    "duration": 115,
    "start_time": "2023-04-05T06:42:45.145Z"
   },
   {
    "duration": 8,
    "start_time": "2023-04-05T06:52:21.162Z"
   },
   {
    "duration": 234,
    "start_time": "2023-04-05T06:56:42.225Z"
   },
   {
    "duration": 14,
    "start_time": "2023-04-05T06:56:48.668Z"
   },
   {
    "duration": 10,
    "start_time": "2023-04-05T06:57:22.350Z"
   },
   {
    "duration": 9,
    "start_time": "2023-04-05T06:57:27.796Z"
   },
   {
    "duration": 12,
    "start_time": "2023-04-05T06:57:34.928Z"
   },
   {
    "duration": 9,
    "start_time": "2023-04-05T06:57:39.729Z"
   },
   {
    "duration": 13,
    "start_time": "2023-04-05T06:57:58.937Z"
   },
   {
    "duration": 10,
    "start_time": "2023-04-05T06:58:05.725Z"
   },
   {
    "duration": 7,
    "start_time": "2023-04-05T06:58:21.055Z"
   },
   {
    "duration": 10,
    "start_time": "2023-04-05T06:58:33.657Z"
   },
   {
    "duration": 335,
    "start_time": "2023-04-05T06:59:29.757Z"
   },
   {
    "duration": 196,
    "start_time": "2023-04-05T06:59:56.088Z"
   },
   {
    "duration": 245,
    "start_time": "2023-04-05T07:00:09.971Z"
   },
   {
    "duration": 357,
    "start_time": "2023-04-05T07:00:32.694Z"
   },
   {
    "duration": 19,
    "start_time": "2023-04-05T07:01:52.944Z"
   },
   {
    "duration": 292,
    "start_time": "2023-04-05T07:03:48.127Z"
   },
   {
    "duration": 15,
    "start_time": "2023-04-05T07:03:56.192Z"
   },
   {
    "duration": 19,
    "start_time": "2023-04-05T07:04:31.572Z"
   },
   {
    "duration": 15,
    "start_time": "2023-04-05T07:06:53.729Z"
   },
   {
    "duration": 16,
    "start_time": "2023-04-05T07:07:09.424Z"
   },
   {
    "duration": 15,
    "start_time": "2023-04-05T07:07:24.665Z"
   },
   {
    "duration": 13,
    "start_time": "2023-04-05T07:08:10.943Z"
   },
   {
    "duration": 14,
    "start_time": "2023-04-05T07:08:28.201Z"
   },
   {
    "duration": 18,
    "start_time": "2023-04-05T07:09:53.692Z"
   },
   {
    "duration": 13,
    "start_time": "2023-04-05T07:10:08.550Z"
   },
   {
    "duration": 98,
    "start_time": "2023-04-05T07:11:22.172Z"
   },
   {
    "duration": 19,
    "start_time": "2023-04-05T07:11:27.474Z"
   },
   {
    "duration": 19,
    "start_time": "2023-04-05T07:12:03.934Z"
   },
   {
    "duration": 14,
    "start_time": "2023-04-05T07:12:24.802Z"
   },
   {
    "duration": 239,
    "start_time": "2023-04-05T07:12:46.699Z"
   },
   {
    "duration": 16,
    "start_time": "2023-04-05T07:13:00.022Z"
   },
   {
    "duration": 5,
    "start_time": "2023-04-05T07:16:58.387Z"
   },
   {
    "duration": 4,
    "start_time": "2023-04-05T07:17:13.573Z"
   },
   {
    "duration": 8,
    "start_time": "2023-04-05T07:18:14.686Z"
   },
   {
    "duration": 7,
    "start_time": "2023-04-05T07:18:23.591Z"
   },
   {
    "duration": 4,
    "start_time": "2023-04-05T07:20:32.725Z"
   },
   {
    "duration": 6,
    "start_time": "2023-04-05T07:22:25.140Z"
   },
   {
    "duration": 16299,
    "start_time": "2023-04-05T07:24:19.957Z"
   },
   {
    "duration": 353154,
    "start_time": "2023-04-05T07:26:03.232Z"
   },
   {
    "duration": 9,
    "start_time": "2023-04-05T07:32:10.122Z"
   },
   {
    "duration": 1571,
    "start_time": "2023-04-05T07:34:45.424Z"
   },
   {
    "duration": 42,
    "start_time": "2023-04-05T07:34:46.997Z"
   },
   {
    "duration": 4,
    "start_time": "2023-04-05T07:34:47.065Z"
   },
   {
    "duration": 12,
    "start_time": "2023-04-05T07:34:47.289Z"
   },
   {
    "duration": 6,
    "start_time": "2023-04-05T07:34:47.474Z"
   },
   {
    "duration": 5,
    "start_time": "2023-04-05T07:34:47.663Z"
   },
   {
    "duration": 5,
    "start_time": "2023-04-05T07:34:47.863Z"
   },
   {
    "duration": 151,
    "start_time": "2023-04-05T07:34:48.062Z"
   },
   {
    "duration": 11,
    "start_time": "2023-04-05T07:34:49.154Z"
   },
   {
    "duration": 4,
    "start_time": "2023-04-05T07:34:50.770Z"
   },
   {
    "duration": 5,
    "start_time": "2023-04-05T07:34:51.978Z"
   },
   {
    "duration": 5,
    "start_time": "2023-04-05T07:34:52.465Z"
   },
   {
    "duration": 9909,
    "start_time": "2023-04-05T07:34:53.634Z"
   },
   {
    "duration": 312380,
    "start_time": "2023-04-05T07:35:15.301Z"
   },
   {
    "duration": 79732,
    "start_time": "2023-04-05T07:41:47.033Z"
   },
   {
    "duration": 4,
    "start_time": "2023-04-05T07:44:33.625Z"
   },
   {
    "duration": 9,
    "start_time": "2023-04-05T07:48:27.725Z"
   },
   {
    "duration": 50,
    "start_time": "2023-04-05T07:51:12.208Z"
   },
   {
    "duration": 1377,
    "start_time": "2023-04-05T07:51:24.368Z"
   },
   {
    "duration": 41,
    "start_time": "2023-04-05T07:51:25.747Z"
   },
   {
    "duration": 4,
    "start_time": "2023-04-05T07:51:25.807Z"
   },
   {
    "duration": 13,
    "start_time": "2023-04-05T07:51:26.007Z"
   },
   {
    "duration": 6,
    "start_time": "2023-04-05T07:51:26.192Z"
   },
   {
    "duration": 5,
    "start_time": "2023-04-05T07:51:26.415Z"
   },
   {
    "duration": 6,
    "start_time": "2023-04-05T07:51:26.607Z"
   },
   {
    "duration": 175,
    "start_time": "2023-04-05T07:51:26.776Z"
   },
   {
    "duration": 9,
    "start_time": "2023-04-05T07:51:27.704Z"
   },
   {
    "duration": 4,
    "start_time": "2023-04-05T07:51:28.648Z"
   },
   {
    "duration": 5,
    "start_time": "2023-04-05T07:51:29.074Z"
   },
   {
    "duration": 5,
    "start_time": "2023-04-05T07:51:29.489Z"
   },
   {
    "duration": 13116,
    "start_time": "2023-04-05T07:51:29.944Z"
   },
   {
    "duration": 74547,
    "start_time": "2023-04-05T07:51:43.062Z"
   },
   {
    "duration": 10,
    "start_time": "2023-04-05T07:52:57.611Z"
   },
   {
    "duration": 52,
    "start_time": "2023-04-05T07:52:57.623Z"
   },
   {
    "duration": 57,
    "start_time": "2023-04-05T08:08:31.675Z"
   },
   {
    "duration": 143,
    "start_time": "2023-04-05T08:08:37.581Z"
   },
   {
    "duration": 39,
    "start_time": "2023-04-05T08:09:40.297Z"
   },
   {
    "duration": 41,
    "start_time": "2023-04-05T08:09:47.419Z"
   },
   {
    "duration": 30,
    "start_time": "2023-04-05T08:10:16.401Z"
   },
   {
    "duration": 122,
    "start_time": "2023-04-05T08:14:39.364Z"
   },
   {
    "duration": 1483,
    "start_time": "2023-04-05T19:31:40.907Z"
   },
   {
    "duration": 134,
    "start_time": "2023-04-05T19:31:42.392Z"
   },
   {
    "duration": 4,
    "start_time": "2023-04-05T19:31:42.527Z"
   },
   {
    "duration": 19,
    "start_time": "2023-04-05T19:31:42.533Z"
   },
   {
    "duration": 31,
    "start_time": "2023-04-05T19:31:42.555Z"
   },
   {
    "duration": 27,
    "start_time": "2023-04-05T19:31:42.588Z"
   },
   {
    "duration": 30,
    "start_time": "2023-04-05T19:31:42.616Z"
   },
   {
    "duration": 122,
    "start_time": "2023-04-05T19:31:42.648Z"
   },
   {
    "duration": 15,
    "start_time": "2023-04-05T19:31:42.771Z"
   },
   {
    "duration": 11,
    "start_time": "2023-04-05T19:31:42.787Z"
   },
   {
    "duration": 10,
    "start_time": "2023-04-05T19:31:42.799Z"
   },
   {
    "duration": 9,
    "start_time": "2023-04-05T19:31:42.811Z"
   },
   {
    "duration": 9572,
    "start_time": "2023-04-05T19:31:42.821Z"
   },
   {
    "duration": 68567,
    "start_time": "2023-04-05T19:31:52.395Z"
   },
   {
    "duration": 28,
    "start_time": "2023-04-05T19:33:00.964Z"
   },
   {
    "duration": 124,
    "start_time": "2023-04-05T19:33:00.993Z"
   },
   {
    "duration": 5,
    "start_time": "2023-04-05T19:48:05.572Z"
   },
   {
    "duration": 57,
    "start_time": "2023-04-05T19:48:05.580Z"
   },
   {
    "duration": 5,
    "start_time": "2023-04-05T19:48:05.639Z"
   },
   {
    "duration": 16,
    "start_time": "2023-04-05T19:48:05.646Z"
   },
   {
    "duration": 11,
    "start_time": "2023-04-05T19:48:05.664Z"
   },
   {
    "duration": 7,
    "start_time": "2023-04-05T19:48:05.676Z"
   },
   {
    "duration": 9,
    "start_time": "2023-04-05T19:48:05.684Z"
   },
   {
    "duration": 98,
    "start_time": "2023-04-05T19:48:05.695Z"
   },
   {
    "duration": 8,
    "start_time": "2023-04-05T19:48:05.795Z"
   },
   {
    "duration": 5,
    "start_time": "2023-04-05T19:48:05.804Z"
   },
   {
    "duration": 7,
    "start_time": "2023-04-05T19:48:05.811Z"
   },
   {
    "duration": 9,
    "start_time": "2023-04-05T19:48:05.820Z"
   },
   {
    "duration": 9860,
    "start_time": "2023-04-05T19:48:05.830Z"
   },
   {
    "duration": 66841,
    "start_time": "2023-04-05T19:48:15.692Z"
   },
   {
    "duration": 21,
    "start_time": "2023-04-05T19:49:22.534Z"
   },
   {
    "duration": 79,
    "start_time": "2023-04-05T19:49:22.556Z"
   },
   {
    "duration": 52,
    "start_time": "2023-04-06T07:25:25.136Z"
   },
   {
    "duration": 1682,
    "start_time": "2023-04-06T07:25:38.183Z"
   },
   {
    "duration": 77,
    "start_time": "2023-04-06T07:25:39.867Z"
   },
   {
    "duration": 6,
    "start_time": "2023-04-06T07:25:41.997Z"
   },
   {
    "duration": 13,
    "start_time": "2023-04-06T07:25:42.398Z"
   },
   {
    "duration": 9,
    "start_time": "2023-04-06T07:25:42.600Z"
   },
   {
    "duration": 5,
    "start_time": "2023-04-06T07:25:42.942Z"
   },
   {
    "duration": 6,
    "start_time": "2023-04-06T07:25:43.206Z"
   },
   {
    "duration": 107,
    "start_time": "2023-04-06T07:25:43.411Z"
   },
   {
    "duration": 229,
    "start_time": "2023-04-06T07:25:44.710Z"
   },
   {
    "duration": 639,
    "start_time": "2023-04-06T07:31:47.564Z"
   },
   {
    "duration": 622,
    "start_time": "2023-04-06T08:07:04.480Z"
   },
   {
    "duration": 535,
    "start_time": "2023-04-06T08:07:18.988Z"
   },
   {
    "duration": 10,
    "start_time": "2023-04-06T08:09:03.336Z"
   },
   {
    "duration": 10,
    "start_time": "2023-04-06T08:12:58.678Z"
   },
   {
    "duration": 11,
    "start_time": "2023-04-06T08:14:21.079Z"
   },
   {
    "duration": 3161,
    "start_time": "2023-04-06T08:15:04.341Z"
   },
   {
    "duration": 51,
    "start_time": "2023-04-06T08:20:46.945Z"
   },
   {
    "duration": 9,
    "start_time": "2023-04-06T08:20:54.830Z"
   },
   {
    "duration": 10,
    "start_time": "2023-04-06T08:21:14.644Z"
   },
   {
    "duration": 5,
    "start_time": "2023-04-06T08:23:40.136Z"
   },
   {
    "duration": 10,
    "start_time": "2023-04-06T08:24:51.615Z"
   },
   {
    "duration": 9,
    "start_time": "2023-04-06T08:24:58.824Z"
   },
   {
    "duration": 8,
    "start_time": "2023-04-06T08:25:05.841Z"
   },
   {
    "duration": 11,
    "start_time": "2023-04-06T08:25:41.627Z"
   },
   {
    "duration": 11,
    "start_time": "2023-04-06T08:25:49.560Z"
   },
   {
    "duration": 4,
    "start_time": "2023-04-06T09:07:52.904Z"
   },
   {
    "duration": 5,
    "start_time": "2023-04-06T09:07:54.921Z"
   },
   {
    "duration": 5,
    "start_time": "2023-04-06T09:07:56.641Z"
   },
   {
    "duration": 55,
    "start_time": "2023-04-06T09:07:58.895Z"
   },
   {
    "duration": 12,
    "start_time": "2023-04-06T09:08:26.117Z"
   },
   {
    "duration": 13,
    "start_time": "2023-04-06T09:13:09.841Z"
   },
   {
    "duration": 13,
    "start_time": "2023-04-06T09:13:26.113Z"
   },
   {
    "duration": 14,
    "start_time": "2023-04-06T09:14:17.829Z"
   },
   {
    "duration": 14,
    "start_time": "2023-04-06T09:16:21.772Z"
   },
   {
    "duration": 50,
    "start_time": "2023-04-06T09:18:04.721Z"
   },
   {
    "duration": 13,
    "start_time": "2023-04-06T09:18:12.300Z"
   },
   {
    "duration": 13,
    "start_time": "2023-04-06T09:19:03.118Z"
   },
   {
    "duration": 60,
    "start_time": "2023-04-06T09:38:50.996Z"
   },
   {
    "duration": 28,
    "start_time": "2023-04-06T09:39:00.584Z"
   },
   {
    "duration": 27,
    "start_time": "2023-04-06T09:40:44.496Z"
   },
   {
    "duration": 26,
    "start_time": "2023-04-06T09:41:08.412Z"
   },
   {
    "duration": 2965,
    "start_time": "2023-04-06T09:42:16.395Z"
   },
   {
    "duration": 122771,
    "start_time": "2023-04-06T09:42:53.587Z"
   },
   {
    "duration": 18218,
    "start_time": "2023-04-06T09:44:56.360Z"
   },
   {
    "duration": 1423,
    "start_time": "2023-04-06T09:50:09.186Z"
   },
   {
    "duration": 39,
    "start_time": "2023-04-06T09:50:10.611Z"
   },
   {
    "duration": 5,
    "start_time": "2023-04-06T09:50:10.652Z"
   },
   {
    "duration": 21,
    "start_time": "2023-04-06T09:50:10.665Z"
   },
   {
    "duration": 6,
    "start_time": "2023-04-06T09:50:10.687Z"
   },
   {
    "duration": 7,
    "start_time": "2023-04-06T09:50:10.694Z"
   },
   {
    "duration": 6,
    "start_time": "2023-04-06T09:50:10.824Z"
   },
   {
    "duration": 126,
    "start_time": "2023-04-06T09:50:11.054Z"
   },
   {
    "duration": 3199,
    "start_time": "2023-04-06T09:50:11.314Z"
   },
   {
    "duration": 8,
    "start_time": "2023-04-06T09:50:14.516Z"
   },
   {
    "duration": 11,
    "start_time": "2023-04-06T09:50:14.875Z"
   },
   {
    "duration": 4,
    "start_time": "2023-04-06T09:50:18.009Z"
   },
   {
    "duration": 5,
    "start_time": "2023-04-06T09:50:19.330Z"
   },
   {
    "duration": 5,
    "start_time": "2023-04-06T09:50:20.810Z"
   },
   {
    "duration": 19138,
    "start_time": "2023-04-06T09:50:21.354Z"
   },
   {
    "duration": 120957,
    "start_time": "2023-04-06T09:50:40.494Z"
   },
   {
    "duration": 18736,
    "start_time": "2023-04-06T09:52:41.453Z"
   },
   {
    "duration": 16255,
    "start_time": "2023-04-06T09:54:23.439Z"
   },
   {
    "duration": 20072,
    "start_time": "2023-04-06T09:55:00.933Z"
   },
   {
    "duration": 119,
    "start_time": "2023-04-06T09:58:35.480Z"
   },
   {
    "duration": 24,
    "start_time": "2023-04-06T09:58:54.752Z"
   },
   {
    "duration": 31,
    "start_time": "2023-04-06T09:59:11.916Z"
   },
   {
    "duration": 7,
    "start_time": "2023-04-06T10:05:56.708Z"
   },
   {
    "duration": 17,
    "start_time": "2023-04-06T10:10:11.494Z"
   },
   {
    "duration": 169,
    "start_time": "2023-04-06T10:10:24.416Z"
   },
   {
    "duration": 2084,
    "start_time": "2023-04-06T10:28:58.244Z"
   },
   {
    "duration": 47,
    "start_time": "2023-04-06T10:29:00.331Z"
   },
   {
    "duration": 5,
    "start_time": "2023-04-06T10:29:00.381Z"
   },
   {
    "duration": 39,
    "start_time": "2023-04-06T10:29:00.388Z"
   },
   {
    "duration": 12,
    "start_time": "2023-04-06T10:29:00.430Z"
   },
   {
    "duration": 30,
    "start_time": "2023-04-06T10:29:00.444Z"
   },
   {
    "duration": 45,
    "start_time": "2023-04-06T10:29:00.477Z"
   },
   {
    "duration": 131,
    "start_time": "2023-04-06T10:29:00.524Z"
   },
   {
    "duration": 3135,
    "start_time": "2023-04-06T10:29:00.656Z"
   },
   {
    "duration": 13,
    "start_time": "2023-04-06T10:29:03.793Z"
   },
   {
    "duration": 16,
    "start_time": "2023-04-06T10:29:03.808Z"
   },
   {
    "duration": 32,
    "start_time": "2023-04-06T10:29:03.826Z"
   },
   {
    "duration": 21,
    "start_time": "2023-04-06T10:29:03.859Z"
   },
   {
    "duration": 6,
    "start_time": "2023-04-06T10:29:03.883Z"
   },
   {
    "duration": 14503,
    "start_time": "2023-04-06T10:29:03.892Z"
   },
   {
    "duration": 117190,
    "start_time": "2023-04-06T10:29:18.466Z"
   },
   {
    "duration": 15938,
    "start_time": "2023-04-06T10:31:15.658Z"
   },
   {
    "duration": 24,
    "start_time": "2023-04-06T10:31:31.598Z"
   },
   {
    "duration": 57,
    "start_time": "2023-04-06T10:31:31.623Z"
   },
   {
    "duration": 176,
    "start_time": "2023-04-06T10:31:31.682Z"
   }
  ],
  "kernelspec": {
   "display_name": "Python 3 (ipykernel)",
   "language": "python",
   "name": "python3"
  },
  "language_info": {
   "codemirror_mode": {
    "name": "ipython",
    "version": 3
   },
   "file_extension": ".py",
   "mimetype": "text/x-python",
   "name": "python",
   "nbconvert_exporter": "python",
   "pygments_lexer": "ipython3",
   "version": "3.9.5"
  },
  "toc": {
   "base_numbering": 1,
   "nav_menu": {},
   "number_sections": true,
   "sideBar": true,
   "skip_h1_title": true,
   "title_cell": "Table of Contents",
   "title_sidebar": "Contents",
   "toc_cell": false,
   "toc_position": {},
   "toc_section_display": true,
   "toc_window_display": false
  }
 },
 "nbformat": 4,
 "nbformat_minor": 4
}
