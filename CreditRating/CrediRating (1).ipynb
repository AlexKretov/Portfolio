{
 "cells": [
  {
   "cell_type": "markdown",
   "id": "a21b3a25-8cc6-4111-9eac-7c0a14692200",
   "metadata": {
    "tags": []
   },
   "source": [
    "# Описание проекта  \n",
    "Заказчик — кредитный отдел банка. Нужно разобраться, влияет ли семейное положение и количество детей клиента на факт погашения кредита в срок. Входные данные от банка — статистика о платёжеспособности клиентов.  \n",
    "Результаты исследования будут учтены при построении модели кредитного скоринга — специальной системы, которая оценивает способность потенциального заёмщика вернуть кредит банку.\n",
    "# Описание данных\n",
    "Описание данных\n",
    "- children — количество детей в семье\n",
    "- days_employed — общий трудовой стаж в днях\n",
    "- job_years — возраст клиента в годах\n",
    "- education — уровень образования клиента\n",
    "- education_id — идентификатор уровня образования\n",
    "- family_status — семейное положение\n",
    "- family_status_id — идентификатор семейного положения\n",
    "- gender — пол клиента\n",
    "- income_type — тип занятости\n",
    "- debt — имел ли задолженность по возврату кредитов\n",
    "- total_income — ежемесячный доход\n",
    "- purpose — цель получения кредита"
   ]
  },
  {
   "cell_type": "markdown",
   "id": "3202ad2c-17cc-492e-9a9c-6c508b4ae5df",
   "metadata": {},
   "source": [
    "# План выполнения проекта\n",
    "\n",
    "- [Знакомство с базой данных](#chapter0)  \n",
    "- [Предобработка данных](#chapter1)\n",
    "    - [Удаление пропусков](#chapter11)\n",
    "    - [Обработка аномальных значений](#chapter12)\n",
    "    - [Удаление пропусков (продолжение)](#chapter13)\n",
    "    - [Изменение типов данных](#chapter14)\n",
    "    - [Обработка дубликатов](#chapter15)\n",
    "    - [Категоризация данных](#chapter16)\n",
    "- [Исследование данных](#chapter2)\n",
    "- [Общий вывод](#chapter2)"
   ]
  },
  {
   "cell_type": "markdown",
   "id": "3d80043d",
   "metadata": {},
   "source": [
    "## Знакомство с базой данных <a name=\"chapter0\"></a>"
   ]
  },
  {
   "cell_type": "code",
   "execution_count": 64,
   "id": "46aef4cf",
   "metadata": {},
   "outputs": [
    {
     "data": {
      "text/html": [
       "        <script type=\"text/javascript\">\n",
       "        window.PlotlyConfig = {MathJaxConfig: 'local'};\n",
       "        if (window.MathJax && window.MathJax.Hub && window.MathJax.Hub.Config) {window.MathJax.Hub.Config({SVG: {font: \"STIX-Web\"}});}\n",
       "        if (typeof require !== 'undefined') {\n",
       "        require.undef(\"plotly\");\n",
       "        requirejs.config({\n",
       "            paths: {\n",
       "                'plotly': ['https://cdn.plot.ly/plotly-2.27.0.min']\n",
       "            }\n",
       "        });\n",
       "        require(['plotly'], function(Plotly) {\n",
       "            window._Plotly = Plotly;\n",
       "        });\n",
       "        }\n",
       "        </script>\n",
       "        "
      ]
     },
     "metadata": {},
     "output_type": "display_data"
    }
   ],
   "source": [
    "import pandas as pd\n",
    "#загрузим библиотеки для визуализации, они нам понадобятся ближе к концу, когда будем строить графики\n",
    "import seaborn as sns\n",
    "import plotly.express as px\n",
    "from plotly.offline import download_plotlyjs, init_notebook_mode, plot, iplot\n",
    "import plotly\n",
    "import plotly.graph_objs as go\n",
    "import plotly.io as pio\n",
    "pio.renderers.default = \"svg\"\n",
    "import matplotlib.pyplot as plt\n",
    "import numpy as np\n",
    "from matplotlib.pyplot import figure\n",
    "\n",
    "init_notebook_mode(connected=True)"
   ]
  },
  {
   "cell_type": "code",
   "execution_count": 32,
   "id": "a33b8359-fd93-4930-97c7-683977445912",
   "metadata": {},
   "outputs": [],
   "source": [
    "data=pd.read_csv('E:\\\\Data\\\\Git\\\\Портфолио\\\\CreditRating\\\\data.csv')"
   ]
  },
  {
   "cell_type": "code",
   "execution_count": 33,
   "id": "9c425792",
   "metadata": {},
   "outputs": [
    {
     "name": "stdout",
     "output_type": "stream",
     "text": [
      "    children  days_employed  dob_years            education  education_id  \\\n",
      "0          1   -8437.673028         42               высшее             0   \n",
      "1          1   -4024.803754         36              среднее             1   \n",
      "2          0   -5623.422610         33              Среднее             1   \n",
      "3          3   -4124.747207         32              среднее             1   \n",
      "4          0  340266.072047         53              среднее             1   \n",
      "5          0    -926.185831         27               высшее             0   \n",
      "6          0   -2879.202052         43               высшее             0   \n",
      "7          0    -152.779569         50              СРЕДНЕЕ             1   \n",
      "8          2   -6929.865299         35               ВЫСШЕЕ             0   \n",
      "9          0   -2188.756445         41              среднее             1   \n",
      "10         2   -4171.483647         36               высшее             0   \n",
      "11         0    -792.701887         40              среднее             1   \n",
      "12         0            NaN         65              среднее             1   \n",
      "13         0   -1846.641941         54  неоконченное высшее             2   \n",
      "14         0   -1844.956182         56               высшее             0   \n",
      "15         1    -972.364419         26              среднее             1   \n",
      "16         0   -1719.934226         35              среднее             1   \n",
      "17         0   -2369.999720         33               высшее             0   \n",
      "18         0  400281.136913         53              среднее             1   \n",
      "19         0  -10038.818549         48              СРЕДНЕЕ             1   \n",
      "\n",
      "       family_status  family_status_id gender income_type  debt  \\\n",
      "0    женат / замужем                 0      F   сотрудник     0   \n",
      "1    женат / замужем                 0      F   сотрудник     0   \n",
      "2    женат / замужем                 0      M   сотрудник     0   \n",
      "3    женат / замужем                 0      M   сотрудник     0   \n",
      "4   гражданский брак                 1      F   пенсионер     0   \n",
      "5   гражданский брак                 1      M   компаньон     0   \n",
      "6    женат / замужем                 0      F   компаньон     0   \n",
      "7    женат / замужем                 0      M   сотрудник     0   \n",
      "8   гражданский брак                 1      F   сотрудник     0   \n",
      "9    женат / замужем                 0      M   сотрудник     0   \n",
      "10   женат / замужем                 0      M   компаньон     0   \n",
      "11   женат / замужем                 0      F   сотрудник     0   \n",
      "12  гражданский брак                 1      M   пенсионер     0   \n",
      "13   женат / замужем                 0      F   сотрудник     0   \n",
      "14  гражданский брак                 1      F   компаньон     1   \n",
      "15   женат / замужем                 0      F   сотрудник     0   \n",
      "16   женат / замужем                 0      F   сотрудник     0   \n",
      "17  гражданский брак                 1      M   сотрудник     0   \n",
      "18    вдовец / вдова                 2      F   пенсионер     0   \n",
      "19         в разводе                 3      F   сотрудник     0   \n",
      "\n",
      "     total_income                                 purpose  \n",
      "0   253875.639453                           покупка жилья  \n",
      "1   112080.014102                 приобретение автомобиля  \n",
      "2   145885.952297                           покупка жилья  \n",
      "3   267628.550329              дополнительное образование  \n",
      "4   158616.077870                         сыграть свадьбу  \n",
      "5   255763.565419                           покупка жилья  \n",
      "6   240525.971920                       операции с жильем  \n",
      "7   135823.934197                             образование  \n",
      "8    95856.832424                   на проведение свадьбы  \n",
      "9   144425.938277                 покупка жилья для семьи  \n",
      "10  113943.491460                    покупка недвижимости  \n",
      "11   77069.234271       покупка коммерческой недвижимости  \n",
      "12            NaN                         сыграть свадьбу  \n",
      "13  130458.228857                 приобретение автомобиля  \n",
      "14  165127.911772              покупка жилой недвижимости  \n",
      "15  116820.904450  строительство собственной недвижимости  \n",
      "16  289202.704229                            недвижимость  \n",
      "17   90410.586745              строительство недвижимости  \n",
      "18   56823.777243      на покупку подержанного автомобиля  \n",
      "19  242831.107982            на покупку своего автомобиля  \n"
     ]
    }
   ],
   "source": [
    "print(data.head(20))"
   ]
  },
  {
   "cell_type": "code",
   "execution_count": 34,
   "id": "bdb3ee16",
   "metadata": {},
   "outputs": [
    {
     "name": "stdout",
     "output_type": "stream",
     "text": [
      "<class 'pandas.core.frame.DataFrame'>\n",
      "RangeIndex: 21525 entries, 0 to 21524\n",
      "Data columns (total 12 columns):\n",
      " #   Column            Non-Null Count  Dtype  \n",
      "---  ------            --------------  -----  \n",
      " 0   children          21525 non-null  int64  \n",
      " 1   days_employed     19351 non-null  float64\n",
      " 2   dob_years         21525 non-null  int64  \n",
      " 3   education         21525 non-null  object \n",
      " 4   education_id      21525 non-null  int64  \n",
      " 5   family_status     21525 non-null  object \n",
      " 6   family_status_id  21525 non-null  int64  \n",
      " 7   gender            21525 non-null  object \n",
      " 8   income_type       21525 non-null  object \n",
      " 9   debt              21525 non-null  int64  \n",
      " 10  total_income      19351 non-null  float64\n",
      " 11  purpose           21525 non-null  object \n",
      "dtypes: float64(2), int64(5), object(5)\n",
      "memory usage: 2.0+ MB\n",
      "None\n"
     ]
    }
   ],
   "source": [
    "print(data.info())"
   ]
  },
  {
   "cell_type": "markdown",
   "id": "c469b20b",
   "metadata": {},
   "source": [
    "##  Предобработка данных <a name=\"chapter1\"></a>"
   ]
  },
  {
   "cell_type": "markdown",
   "id": "3fb2362a",
   "metadata": {},
   "source": [
    "###  Удаление пропусков <a name=\"chapter11\"></a>"
   ]
  },
  {
   "cell_type": "code",
   "execution_count": 35,
   "id": "3e7e894f",
   "metadata": {},
   "outputs": [
    {
     "name": "stdout",
     "output_type": "stream",
     "text": [
      "children               0\n",
      "days_employed       2174\n",
      "dob_years              0\n",
      "education              0\n",
      "education_id           0\n",
      "family_status          0\n",
      "family_status_id       0\n",
      "gender                 0\n",
      "income_type            0\n",
      "debt                   0\n",
      "total_income        2174\n",
      "purpose                0\n",
      "dtype: int64\n"
     ]
    }
   ],
   "source": [
    "print(data.isna().sum())"
   ]
  },
  {
   "cell_type": "markdown",
   "id": "37d85f3e",
   "metadata": {},
   "source": [
    "Данные в целом неплохие, пропуски по доходу и количенству дней работы объяснимы, но могут повлиять на наш результат."
   ]
  },
  {
   "cell_type": "markdown",
   "id": "1f9fab5e",
   "metadata": {},
   "source": [
    "Один из пропусков — days_employed. Пропуски в этом столбце мы обработаем на следующем этапе. Другой столбец с пропущенными значениями — total_income — хранит данные о доходах. На сумму дохода сильнее всего влияет тип занятости, поэтому заполнить пропуски в этом столбце нужно медианным значением по каждому типу из столбца income_type. Например, у человека с типом занятости сотрудник пропуск в столбце total_income должен быть заполнен медианным доходом среди всех записей с тем же типом."
   ]
  },
  {
   "cell_type": "code",
   "execution_count": 36,
   "id": "9dcef9fb",
   "metadata": {},
   "outputs": [
    {
     "name": "stdout",
     "output_type": "stream",
     "text": [
      "0\n"
     ]
    }
   ],
   "source": [
    "#Посчитаем сначала медианные значения дохода по каждой категории занятых.\n",
    "med_income=data.groupby(['income_type'])['total_income'].median()\n",
    "#Теперь заменим пропуски в столюце с доходами на полученные медианы\n",
    "\n",
    "for d in data['income_type'].unique():\n",
    "    # на каждом шаге цикла с помощью атрибута loc выбираем строки,\n",
    "    # в которых в income_type текущий тип дохода (d) и есть пропуски в total_income \n",
    "    data.loc[(data['income_type'] == d) & (data['total_income'].isna()), 'total_income'] = med_income[d]\n",
    "    # и записываем в них медианное значение total_income среди строк с текущим типом дохода (d)\n",
    "\n",
    "# проверяем, что все пропуски заполнены\n",
    "print(data['total_income'].isna().sum())"
   ]
  },
  {
   "cell_type": "markdown",
   "id": "dad5227a",
   "metadata": {},
   "source": [
    "###  Обработка аномальных значений <a name=\"chapter12\"></a>\n",
    "\n",
    "В данных могут встречаться артефакты (аномалии) — значения, которые не отражают действительность и появились по какой-то ошибке. Таким артефактом будет отрицательное количество дней трудового стажа в столбце days_employed. Для реальных данных это нормально. Обработаем значения в этом столбце: заменим все отрицательные значения положительными с помощью метода abs()."
   ]
  },
  {
   "cell_type": "code",
   "execution_count": 37,
   "id": "ff78e105",
   "metadata": {},
   "outputs": [
    {
     "name": "stdout",
     "output_type": "stream",
     "text": [
      "Empty DataFrame\n",
      "Columns: [children, days_employed, dob_years, education, education_id, family_status, family_status_id, gender, income_type, debt, total_income, purpose]\n",
      "Index: []\n"
     ]
    }
   ],
   "source": [
    "data['days_employed'] = data['days_employed'].abs()\n",
    "print(data[data['days_employed']<0])#выполним проверку, не осталось ли отрицательных трудовых стажей\n"
   ]
  },
  {
   "cell_type": "code",
   "execution_count": 38,
   "id": "e4feec0d",
   "metadata": {},
   "outputs": [
    {
     "name": "stdout",
     "output_type": "stream",
     "text": [
      "income_type\n",
      "безработный        366413.652744\n",
      "в декрете            3296.759962\n",
      "госслужащий          2689.368353\n",
      "компаньон            1547.382223\n",
      "пенсионер          365213.306266\n",
      "предприниматель       520.848083\n",
      "сотрудник            1574.202821\n",
      "студент               578.751554\n",
      "Name: days_employed, dtype: float64\n"
     ]
    }
   ],
   "source": [
    "#Для каждого типа занятости вывем медианное значение трудового стажа days_employed в днях.\n",
    "print(data.groupby(['income_type'])['days_employed'].median())"
   ]
  },
  {
   "cell_type": "markdown",
   "id": "a7eb198c",
   "metadata": {},
   "source": [
    "Бросается в глаза, что безработные и пенсионеры имеют \"страж\" больше тысячи лет, что резко выделяется на общем фоне. Исправить такие значения сложно, поэтому оставим их как есть. Тем более этот столбец не понадобится нам для исследования."
   ]
  },
  {
   "cell_type": "code",
   "execution_count": 39,
   "id": "de851fea",
   "metadata": {},
   "outputs": [
    {
     "name": "stdout",
     "output_type": "stream",
     "text": [
      "[ 1  0  3  2 -1  4 20  5]\n"
     ]
    }
   ],
   "source": [
    "#Выведите перечень уникальных значений столбца children.\n",
    "print(data['children'].unique())"
   ]
  },
  {
   "cell_type": "markdown",
   "id": "81c8b45b",
   "metadata": {},
   "source": [
    "Очень интересно, 20 детей выглядит как артефакт, а -1 это очень грустная история."
   ]
  },
  {
   "cell_type": "markdown",
   "id": "21c48492",
   "metadata": {},
   "source": [
    "Удалим строки, в которых встречаются такие аномальные значения из датафрейма data."
   ]
  },
  {
   "cell_type": "code",
   "execution_count": 40,
   "id": "9373bbf7",
   "metadata": {},
   "outputs": [
    {
     "name": "stdout",
     "output_type": "stream",
     "text": [
      "[1 0 3 2 4 5]\n"
     ]
    }
   ],
   "source": [
    "#Удалим строки с аномальными значениями в указанном столбце\n",
    "data = data[data.children != -1 ]\n",
    "data = data[data.children != 20 ]\n",
    "#Ещё раз вывем перечень уникальных значений столбца children, чтобы убедиться, что артефакты удалены.\n",
    "print(data['children'].unique())"
   ]
  },
  {
   "cell_type": "markdown",
   "id": "e56bbeec",
   "metadata": {},
   "source": [
    "### Удаление пропусков (продолжение) <a name=\"chapter13\"></a>\n"
   ]
  },
  {
   "cell_type": "code",
   "execution_count": 41,
   "id": "81652cc7",
   "metadata": {},
   "outputs": [],
   "source": [
    "#Посчитаем сначала медианные значения срока занятости по каждой категории занятых.\n",
    "med_days_employed=data.groupby(['income_type'])['days_employed'].median()\n",
    "#Теперь заменим пропуски в столюце с days_employed на полученные медианы\n",
    "\n",
    "for d in data['income_type'].unique():\n",
    "    # на каждом шаге цикла с помощью атрибута loc выбираем строки,\n",
    "    # в которых в income_type текущий тип дохода (d) и есть пропуски в days_employed \n",
    "    data.loc[(data['income_type'] == d) & (data['days_employed'].isna()), 'days_employed'] = med_days_employed[d]\n",
    "    # и записываем в них медианное значение days_employed среди строк с текущим типом дохода (d)\n"
   ]
  },
  {
   "cell_type": "markdown",
   "id": "33ea5104",
   "metadata": {},
   "source": [
    "Проверка - ещё раз выведем количество пропущенных значений для каждого столбца с помощью двух методов."
   ]
  },
  {
   "cell_type": "code",
   "execution_count": 42,
   "id": "ea24bee3",
   "metadata": {},
   "outputs": [
    {
     "name": "stdout",
     "output_type": "stream",
     "text": [
      "0\n"
     ]
    }
   ],
   "source": [
    "# проверяем, что все пропуски заполнены\n",
    "print(data['days_employed'].isna().sum())"
   ]
  },
  {
   "cell_type": "markdown",
   "id": "a5d83b8b",
   "metadata": {},
   "source": [
    "###  Изменение типов данных <a name=\"chapter14\"></a>\n",
    "Заменим вещественный тип данных в столбце total_income на целочисленный с помощью метода astype()."
   ]
  },
  {
   "cell_type": "code",
   "execution_count": 43,
   "id": "f947cd36",
   "metadata": {},
   "outputs": [
    {
     "name": "stdout",
     "output_type": "stream",
     "text": [
      "<class 'pandas.core.frame.DataFrame'>\n",
      "Int64Index: 21402 entries, 0 to 21524\n",
      "Data columns (total 12 columns):\n",
      " #   Column            Non-Null Count  Dtype  \n",
      "---  ------            --------------  -----  \n",
      " 0   children          21402 non-null  int64  \n",
      " 1   days_employed     21402 non-null  float64\n",
      " 2   dob_years         21402 non-null  int64  \n",
      " 3   education         21402 non-null  object \n",
      " 4   education_id      21402 non-null  int64  \n",
      " 5   family_status     21402 non-null  object \n",
      " 6   family_status_id  21402 non-null  int64  \n",
      " 7   gender            21402 non-null  object \n",
      " 8   income_type       21402 non-null  object \n",
      " 9   debt              21402 non-null  int64  \n",
      " 10  total_income      21402 non-null  int32  \n",
      " 11  purpose           21402 non-null  object \n",
      "dtypes: float64(1), int32(1), int64(5), object(5)\n",
      "memory usage: 2.0+ MB\n"
     ]
    }
   ],
   "source": [
    "data['total_income']=data['total_income'].astype(int)\n",
    "data.info()"
   ]
  },
  {
   "cell_type": "markdown",
   "id": "3eed965b",
   "metadata": {},
   "source": [
    "###  Обработка дубликатов <a name=\"chapter15\"></a>\n",
    "\n",
    "Обработаем неявные дубликаты в столбце education. \n",
    "В этом столбце есть одни и те же значения, но записанные по-разному: с использованием заглавных и строчных букв. Приведите их к нижнему регистру."
   ]
  },
  {
   "cell_type": "code",
   "execution_count": 44,
   "id": "0fd9a637",
   "metadata": {},
   "outputs": [],
   "source": [
    "data['education']=data['education'].str.lower()"
   ]
  },
  {
   "cell_type": "markdown",
   "id": "4c52ff53",
   "metadata": {},
   "source": [
    "Выведем на экран количество строк-дубликатов в данных. \n",
    "Если такие строки присутствуют, удалим их. Сбрасывать индексы после удаления строк дубликатов с помощью reset_index(drop=True) здесь не требуется."
   ]
  },
  {
   "cell_type": "code",
   "execution_count": 45,
   "id": "6738b81f",
   "metadata": {},
   "outputs": [
    {
     "data": {
      "text/plain": [
       "71"
      ]
     },
     "execution_count": 45,
     "metadata": {},
     "output_type": "execute_result"
    }
   ],
   "source": [
    "# посчитайте дубликаты\n",
    "data.duplicated().sum()"
   ]
  },
  {
   "cell_type": "code",
   "execution_count": 46,
   "id": "616e668e",
   "metadata": {},
   "outputs": [
    {
     "data": {
      "text/plain": [
       "0"
      ]
     },
     "execution_count": 46,
     "metadata": {},
     "output_type": "execute_result"
    }
   ],
   "source": [
    "# удалите дубликаты\n",
    "data=data.drop_duplicates()\n",
    "data.duplicated().sum() #проверка, что ничего не осталось"
   ]
  },
  {
   "cell_type": "markdown",
   "id": "9fe0136e",
   "metadata": {},
   "source": [
    "### Категоризация данных <a name=\"chapter16\"></a>\n",
    "\n",
    "На основании диапазонов, указанных ниже, создадим в датафрейме data столбец total_income_category с категориями:\n",
    "\n",
    "0–30000 — 'E';\n",
    "30001–50000 — 'D';\n",
    "50001–200000 — 'C';\n",
    "200001–1000000 — 'B';\n",
    "1000001 и выше — 'A'.  \n",
    "Например, кредитополучателю с доходом 25000 нужно назначить категорию 'E', а клиенту, получающему 235000, — 'B'. \n",
    "\n",
    "Используем собственную функцию с именем categorize_income() и метод apply()."
   ]
  },
  {
   "cell_type": "code",
   "execution_count": 47,
   "id": "f89ae31e",
   "metadata": {},
   "outputs": [],
   "source": [
    "def categorize_income(row):# создайте функцию categorize_income()\n",
    "    income=row['total_income']\n",
    "    if income>=0 and income<=30000:\n",
    "        return \"E\"\n",
    "    elif income>=30001 and income<=50000:\n",
    "        return \"D\"\n",
    "    elif income>=50001 and income<=200000:\n",
    "        return \"C\"\n",
    "    elif income>=200001 and income<=1000000:\n",
    "        return \"B\"\n",
    "    elif income>=1000001 :\n",
    "        return \"A\"\n",
    "    else:\n",
    "        print('Incorrect income data in row:', income)\n",
    "# примените функцию методом apply()\n",
    "data['total_income_category'] = data.apply(categorize_income, axis=1)"
   ]
  },
  {
   "cell_type": "markdown",
   "id": "097d524e",
   "metadata": {},
   "source": [
    "Выведем на экран перечень уникальных целей взятия кредита из столбца purpose."
   ]
  },
  {
   "cell_type": "code",
   "execution_count": 48,
   "id": "9d0264bc",
   "metadata": {},
   "outputs": [
    {
     "name": "stdout",
     "output_type": "stream",
     "text": [
      "['покупка жилья' 'приобретение автомобиля' 'дополнительное образование'\n",
      " 'сыграть свадьбу' 'операции с жильем' 'образование'\n",
      " 'на проведение свадьбы' 'покупка жилья для семьи' 'покупка недвижимости'\n",
      " 'покупка коммерческой недвижимости' 'покупка жилой недвижимости'\n",
      " 'строительство собственной недвижимости' 'недвижимость'\n",
      " 'строительство недвижимости' 'на покупку подержанного автомобиля'\n",
      " 'на покупку своего автомобиля' 'операции с коммерческой недвижимостью'\n",
      " 'строительство жилой недвижимости' 'жилье'\n",
      " 'операции со своей недвижимостью' 'автомобили' 'заняться образованием'\n",
      " 'сделка с подержанным автомобилем' 'получение образования' 'автомобиль'\n",
      " 'свадьба' 'получение дополнительного образования' 'покупка своего жилья'\n",
      " 'операции с недвижимостью' 'получение высшего образования'\n",
      " 'свой автомобиль' 'сделка с автомобилем' 'профильное образование'\n",
      " 'высшее образование' 'покупка жилья для сдачи' 'на покупку автомобиля'\n",
      " 'ремонт жилью' 'заняться высшим образованием']\n"
     ]
    }
   ],
   "source": [
    "print(data['purpose'].unique())"
   ]
  },
  {
   "cell_type": "markdown",
   "id": "1b32f315",
   "metadata": {},
   "source": [
    "Создадим функцию, которая на основании данных из столбца purpose сформирует новый столбец purpose_category,\n",
    "\n",
    "в который войдут следующие категории:\n",
    "\n",
    "'операции с автомобилем',\n",
    "'операции с недвижимостью',\n",
    "'проведение свадьбы',\n",
    "'получение образования'.\n",
    "Например, если в столбце purpose находится подстрока 'на покупку автомобиля', то в столбце purpose_category должна появиться строка 'операции с автомобилем'.\n"
   ]
  },
  {
   "cell_type": "code",
   "execution_count": 49,
   "id": "2de1b7d3",
   "metadata": {},
   "outputs": [],
   "source": [
    "# создайте функцию categorize_purpose()\n",
    "def categorize_purpose(row):# создайте функцию categorize_income()\n",
    "    purp=row['purpose']\n",
    "    if \"авто\" in purp:\n",
    "        return \"операции с автомобилем\"\n",
    "    elif \"недви\" in purp or \"жиль\" in purp:\n",
    "        return \"операции с недвижимостью\"\n",
    "    elif \"свад\" in purp:\n",
    "        return \"проведение свадьбы\"\n",
    "    elif \"образ\" in purp:\n",
    "        return \"получение образования\"\n",
    "    else:\n",
    "        print('Incorrect income data in row:', purp)\n",
    "\n",
    "# примените функцию методом apply()\n",
    "data['purpose_category'] = data.apply(categorize_purpose, axis=1)"
   ]
  },
  {
   "cell_type": "markdown",
   "id": "277c94d3",
   "metadata": {},
   "source": [
    "## Исследование данных <a name=\"chapter2\"></a>"
   ]
  },
  {
   "cell_type": "code",
   "execution_count": 91,
   "id": "86d0f245-c226-498f-a86c-8bb34fa20fa4",
   "metadata": {},
   "outputs": [],
   "source": [
    "# Визуализируем долю невозвратных кредитов в зависимости от выбранного фактора\n",
    "def pivot(data, index):\n",
    "    pivot = data.pivot_table(index = index, values = 'debt', aggfunc = ['count', 'sum', 'mean']).reset_index()\n",
    "    pivot.columns = [index, 'Кол-во клиентов', 'Кол-во должников', 'Доля невозврата']\n",
    "    display(pivot.sort_values('Доля невозврата', ascending = False))\n",
    "    figure(figsize=(20, 6), dpi=80)\n",
    "    # Create bars and choose color\n",
    "    y=pivot['Доля невозврата']\n",
    "    plt.bar(np.arange(len(pivot[index])), y)\n",
    "    max_value = max(y)\n",
    "    max_index = np.argmax(y)\n",
    "    #Выделение красным цветом\n",
    "    plt.bar(max_index, max_value, color='r')\n",
    "    # Add title and axis names\n",
    "    plt.title('Доля невозврата по ' + index)\n",
    "    plt.xlabel(index)\n",
    "    plt.ylabel('Доля невозврата')\n",
    "    \n",
    "    # Create names on the x axis\n",
    "    plt.xticks(np.arange(len(pivot[index])), pivot[index])\n",
    " \n",
    "    # Text on the top of each bar\n",
    "    for i in range(len(y)):\n",
    "        p=round(y[i],3)\n",
    "        plt.text(x = i-0.05 , y = y[i]+0.001, s = p, size = 14)\n",
    "    plt.show()\n"
   ]
  },
  {
   "cell_type": "markdown",
   "id": "ae4653f3",
   "metadata": {},
   "source": [
    "# Есть ли зависимость между количеством детей и возвратом кредита в срок?\n",
    "Чтобы ответить на этот вопрос мы построим график, который будет показывать как изменяется доля кредитов вышедших на просрочку при увеличении количества детей. Но для начала эту долю надо посчитать."
   ]
  },
  {
   "cell_type": "code",
   "execution_count": 92,
   "id": "5cffea01-d70c-4f1d-8a97-143b373670bb",
   "metadata": {},
   "outputs": [
    {
     "data": {
      "text/html": [
       "<div>\n",
       "<style scoped>\n",
       "    .dataframe tbody tr th:only-of-type {\n",
       "        vertical-align: middle;\n",
       "    }\n",
       "\n",
       "    .dataframe tbody tr th {\n",
       "        vertical-align: top;\n",
       "    }\n",
       "\n",
       "    .dataframe thead th {\n",
       "        text-align: right;\n",
       "    }\n",
       "</style>\n",
       "<table border=\"1\" class=\"dataframe\">\n",
       "  <thead>\n",
       "    <tr style=\"text-align: right;\">\n",
       "      <th></th>\n",
       "      <th>children</th>\n",
       "      <th>Кол-во клиентов</th>\n",
       "      <th>Кол-во должников</th>\n",
       "      <th>Доля невозврата</th>\n",
       "    </tr>\n",
       "  </thead>\n",
       "  <tbody>\n",
       "    <tr>\n",
       "      <th>4</th>\n",
       "      <td>4</td>\n",
       "      <td>41</td>\n",
       "      <td>4</td>\n",
       "      <td>0.097561</td>\n",
       "    </tr>\n",
       "    <tr>\n",
       "      <th>2</th>\n",
       "      <td>2</td>\n",
       "      <td>2052</td>\n",
       "      <td>194</td>\n",
       "      <td>0.094542</td>\n",
       "    </tr>\n",
       "    <tr>\n",
       "      <th>1</th>\n",
       "      <td>1</td>\n",
       "      <td>4808</td>\n",
       "      <td>444</td>\n",
       "      <td>0.092346</td>\n",
       "    </tr>\n",
       "    <tr>\n",
       "      <th>3</th>\n",
       "      <td>3</td>\n",
       "      <td>330</td>\n",
       "      <td>27</td>\n",
       "      <td>0.081818</td>\n",
       "    </tr>\n",
       "    <tr>\n",
       "      <th>0</th>\n",
       "      <td>0</td>\n",
       "      <td>14091</td>\n",
       "      <td>1063</td>\n",
       "      <td>0.075438</td>\n",
       "    </tr>\n",
       "    <tr>\n",
       "      <th>5</th>\n",
       "      <td>5</td>\n",
       "      <td>9</td>\n",
       "      <td>0</td>\n",
       "      <td>0.000000</td>\n",
       "    </tr>\n",
       "  </tbody>\n",
       "</table>\n",
       "</div>"
      ],
      "text/plain": [
       "   children  Кол-во клиентов  Кол-во должников  Доля невозврата\n",
       "4         4               41                 4         0.097561\n",
       "2         2             2052               194         0.094542\n",
       "1         1             4808               444         0.092346\n",
       "3         3              330                27         0.081818\n",
       "0         0            14091              1063         0.075438\n",
       "5         5                9                 0         0.000000"
      ]
     },
     "metadata": {},
     "output_type": "display_data"
    },
    {
     "data": {
      "image/png": "[encoded data removed]",
      "text/plain": [
       "<Figure size 1600x480 with 1 Axes>"
      ]
     },
     "metadata": {
      "needs_background": "light"
     },
     "output_type": "display_data"
    }
   ],
   "source": [
    "pivot(data,'children')"
   ]
  },
  {
   "cell_type": "markdown",
   "id": "e1148c84",
   "metadata": {},
   "source": [
    "**Вывод напрашивается сам собой** - когда у тебя есть дети, платить по кредиту становится сложнее, причём с каждым новым ребёнком - доля просрочки растёт, исключение составляют семьи с тремя детьми, но они не ломают тренда. **Количество заёмщиков с 4  и 5 детьми настолько ничтожно, что их рассмотрение непоказательно. Даже семей с 3 детьми на порядок меньше, чем менее многодетных семей, так что и их более низкий уровень просрочек не факт что показателен.**"
   ]
  },
  {
   "cell_type": "markdown",
   "id": "4acc86e3",
   "metadata": {},
   "source": [
    "# Есть ли зависимость между семейным положением и возвратом кредита в срок?\n",
    "Здесь мы будем действовать аналогично. Посчитаем долю неплательщиков по каждому типу семейного положения и посмотрим как это будет выглядеть на графике."
   ]
  },
  {
   "cell_type": "code",
   "execution_count": 95,
   "id": "330a3d35-3cc5-4892-a7f8-0adf7c6d2d87",
   "metadata": {},
   "outputs": [
    {
     "data": {
      "text/html": [
       "<div>\n",
       "<style scoped>\n",
       "    .dataframe tbody tr th:only-of-type {\n",
       "        vertical-align: middle;\n",
       "    }\n",
       "\n",
       "    .dataframe tbody tr th {\n",
       "        vertical-align: top;\n",
       "    }\n",
       "\n",
       "    .dataframe thead th {\n",
       "        text-align: right;\n",
       "    }\n",
       "</style>\n",
       "<table border=\"1\" class=\"dataframe\">\n",
       "  <thead>\n",
       "    <tr style=\"text-align: right;\">\n",
       "      <th></th>\n",
       "      <th>family_status</th>\n",
       "      <th>Кол-во клиентов</th>\n",
       "      <th>Кол-во должников</th>\n",
       "      <th>Доля невозврата</th>\n",
       "    </tr>\n",
       "  </thead>\n",
       "  <tbody>\n",
       "    <tr>\n",
       "      <th>0</th>\n",
       "      <td>Не женат / не замужем</td>\n",
       "      <td>2796</td>\n",
       "      <td>273</td>\n",
       "      <td>0.097639</td>\n",
       "    </tr>\n",
       "    <tr>\n",
       "      <th>3</th>\n",
       "      <td>гражданский брак</td>\n",
       "      <td>4134</td>\n",
       "      <td>385</td>\n",
       "      <td>0.093130</td>\n",
       "    </tr>\n",
       "    <tr>\n",
       "      <th>4</th>\n",
       "      <td>женат / замужем</td>\n",
       "      <td>12261</td>\n",
       "      <td>927</td>\n",
       "      <td>0.075606</td>\n",
       "    </tr>\n",
       "    <tr>\n",
       "      <th>1</th>\n",
       "      <td>в разводе</td>\n",
       "      <td>1189</td>\n",
       "      <td>84</td>\n",
       "      <td>0.070648</td>\n",
       "    </tr>\n",
       "    <tr>\n",
       "      <th>2</th>\n",
       "      <td>вдовец / вдова</td>\n",
       "      <td>951</td>\n",
       "      <td>63</td>\n",
       "      <td>0.066246</td>\n",
       "    </tr>\n",
       "  </tbody>\n",
       "</table>\n",
       "</div>"
      ],
      "text/plain": [
       "           family_status  Кол-во клиентов  Кол-во должников  Доля невозврата\n",
       "0  Не женат / не замужем             2796               273         0.097639\n",
       "3       гражданский брак             4134               385         0.093130\n",
       "4        женат / замужем            12261               927         0.075606\n",
       "1              в разводе             1189                84         0.070648\n",
       "2         вдовец / вдова              951                63         0.066246"
      ]
     },
     "metadata": {},
     "output_type": "display_data"
    },
    {
     "data": {
      "image/png": "[encoded data removed]",
      "text/plain": [
       "<Figure size 1600x480 with 1 Axes>"
      ]
     },
     "metadata": {
      "needs_background": "light"
     },
     "output_type": "display_data"
    }
   ],
   "source": [
    "pivot(data,'family_status')"
   ]
  },
  {
   "cell_type": "markdown",
   "id": "53606c54",
   "metadata": {},
   "source": [
    "**Здесь вывод более однозначный.**\n",
    "Есть небольшой блок условно одиноких людей, овдовевших или находящихся в разводе. Видимо эти битые жизнью люди привыкли осторожно обходиться с кредитами и их просрочки крайне редки. Те у кого официальный брак или хуже того - гражданский брак - имеют высокий рейтинг просрочников. Ну а неженатые/незамужние - абсолютные лидеры по просрочке. Вырисовывается такая картина, что только пройдя через горнило семейной жизни человек становится хорошим заёмщиком. **Но, есть также вероятность что тут больше влияет возраст, чем семейное положение, хорошая мысль для последующего более глубокого анализа.**"
   ]
  },
  {
   "cell_type": "markdown",
   "id": "a557b600",
   "metadata": {},
   "source": [
    "#### Есть ли зависимость между уровнем дохода и возвратом кредита в срок?\n",
    "Тут нам пригодятся категории дохода, которые мы присвоили ранее. Давайте посмторим как по ним распределяется процент неплательщиков."
   ]
  },
  {
   "cell_type": "code",
   "execution_count": 96,
   "id": "4001d172-92d4-45ba-a0e5-11950a9ea734",
   "metadata": {},
   "outputs": [
    {
     "data": {
      "text/html": [
       "<div>\n",
       "<style scoped>\n",
       "    .dataframe tbody tr th:only-of-type {\n",
       "        vertical-align: middle;\n",
       "    }\n",
       "\n",
       "    .dataframe tbody tr th {\n",
       "        vertical-align: top;\n",
       "    }\n",
       "\n",
       "    .dataframe thead th {\n",
       "        text-align: right;\n",
       "    }\n",
       "</style>\n",
       "<table border=\"1\" class=\"dataframe\">\n",
       "  <thead>\n",
       "    <tr style=\"text-align: right;\">\n",
       "      <th></th>\n",
       "      <th>total_income_category</th>\n",
       "      <th>Кол-во клиентов</th>\n",
       "      <th>Кол-во должников</th>\n",
       "      <th>Доля невозврата</th>\n",
       "    </tr>\n",
       "  </thead>\n",
       "  <tbody>\n",
       "    <tr>\n",
       "      <th>4</th>\n",
       "      <td>E</td>\n",
       "      <td>22</td>\n",
       "      <td>2</td>\n",
       "      <td>0.090909</td>\n",
       "    </tr>\n",
       "    <tr>\n",
       "      <th>2</th>\n",
       "      <td>C</td>\n",
       "      <td>15921</td>\n",
       "      <td>1353</td>\n",
       "      <td>0.084982</td>\n",
       "    </tr>\n",
       "    <tr>\n",
       "      <th>0</th>\n",
       "      <td>A</td>\n",
       "      <td>25</td>\n",
       "      <td>2</td>\n",
       "      <td>0.080000</td>\n",
       "    </tr>\n",
       "    <tr>\n",
       "      <th>1</th>\n",
       "      <td>B</td>\n",
       "      <td>5014</td>\n",
       "      <td>354</td>\n",
       "      <td>0.070602</td>\n",
       "    </tr>\n",
       "    <tr>\n",
       "      <th>3</th>\n",
       "      <td>D</td>\n",
       "      <td>349</td>\n",
       "      <td>21</td>\n",
       "      <td>0.060172</td>\n",
       "    </tr>\n",
       "  </tbody>\n",
       "</table>\n",
       "</div>"
      ],
      "text/plain": [
       "  total_income_category  Кол-во клиентов  Кол-во должников  Доля невозврата\n",
       "4                     E               22                 2         0.090909\n",
       "2                     C            15921              1353         0.084982\n",
       "0                     A               25                 2         0.080000\n",
       "1                     B             5014               354         0.070602\n",
       "3                     D              349                21         0.060172"
      ]
     },
     "metadata": {},
     "output_type": "display_data"
    },
    {
     "data": {
      "image/png": "[encoded data removed]",
      "text/plain": [
       "<Figure size 1600x480 with 1 Axes>"
      ]
     },
     "metadata": {
      "needs_background": "light"
     },
     "output_type": "display_data"
    }
   ],
   "source": [
    "pivot(data,'total_income_category')"
   ]
  },
  {
   "cell_type": "markdown",
   "id": "aeae4a89",
   "metadata": {},
   "source": [
    "**Вывод** К сожалению, предоставленная нам выборка, не позволяет сделать чётких выводов по категориям дохода А, D и E, так как количество таких заёмщиков слишком мало, и выбросы оказывают слишком сильное влияние.\n",
    "По категориям В и С всё очевидно, со снижением уровня дохода, растёт количество невозвратов."
   ]
  },
  {
   "cell_type": "markdown",
   "id": "6a329402",
   "metadata": {},
   "source": [
    "#### Как разные цели кредита влияют на его возврат в срок?"
   ]
  },
  {
   "cell_type": "code",
   "execution_count": 97,
   "id": "50207188-cb41-446b-b397-7c412fc509ca",
   "metadata": {},
   "outputs": [
    {
     "data": {
      "text/html": [
       "<div>\n",
       "<style scoped>\n",
       "    .dataframe tbody tr th:only-of-type {\n",
       "        vertical-align: middle;\n",
       "    }\n",
       "\n",
       "    .dataframe tbody tr th {\n",
       "        vertical-align: top;\n",
       "    }\n",
       "\n",
       "    .dataframe thead th {\n",
       "        text-align: right;\n",
       "    }\n",
       "</style>\n",
       "<table border=\"1\" class=\"dataframe\">\n",
       "  <thead>\n",
       "    <tr style=\"text-align: right;\">\n",
       "      <th></th>\n",
       "      <th>purpose_category</th>\n",
       "      <th>Кол-во клиентов</th>\n",
       "      <th>Кол-во должников</th>\n",
       "      <th>Доля невозврата</th>\n",
       "    </tr>\n",
       "  </thead>\n",
       "  <tbody>\n",
       "    <tr>\n",
       "      <th>0</th>\n",
       "      <td>операции с автомобилем</td>\n",
       "      <td>4279</td>\n",
       "      <td>400</td>\n",
       "      <td>0.093480</td>\n",
       "    </tr>\n",
       "    <tr>\n",
       "      <th>2</th>\n",
       "      <td>получение образования</td>\n",
       "      <td>3988</td>\n",
       "      <td>369</td>\n",
       "      <td>0.092528</td>\n",
       "    </tr>\n",
       "    <tr>\n",
       "      <th>3</th>\n",
       "      <td>проведение свадьбы</td>\n",
       "      <td>2313</td>\n",
       "      <td>183</td>\n",
       "      <td>0.079118</td>\n",
       "    </tr>\n",
       "    <tr>\n",
       "      <th>1</th>\n",
       "      <td>операции с недвижимостью</td>\n",
       "      <td>10751</td>\n",
       "      <td>780</td>\n",
       "      <td>0.072551</td>\n",
       "    </tr>\n",
       "  </tbody>\n",
       "</table>\n",
       "</div>"
      ],
      "text/plain": [
       "           purpose_category  Кол-во клиентов  Кол-во должников  \\\n",
       "0    операции с автомобилем             4279               400   \n",
       "2     получение образования             3988               369   \n",
       "3        проведение свадьбы             2313               183   \n",
       "1  операции с недвижимостью            10751               780   \n",
       "\n",
       "   Доля невозврата  \n",
       "0         0.093480  \n",
       "2         0.092528  \n",
       "3         0.079118  \n",
       "1         0.072551  "
      ]
     },
     "metadata": {},
     "output_type": "display_data"
    },
    {
     "data": {
      "image/png": "[encoded data removed]",
      "text/plain": [
       "<Figure size 1600x480 with 1 Axes>"
      ]
     },
     "metadata": {
      "needs_background": "light"
     },
     "output_type": "display_data"
    }
   ],
   "source": [
    "pivot(data,'purpose_category')"
   ]
  },
  {
   "cell_type": "markdown",
   "id": "b412afa8",
   "metadata": {},
   "source": [
    "**Вывод** невооруженным глазом видно два кластера - более рискованные цели и менее рискованные. Риск в операциях с автомобилем высок по причине того, что всё что связано с машинами это постоянно растущая статья затрат, и на кредит может не хватить. С образованием ещё грустнее - по статистике лишь 45% поступивших в ВУЗ заканчивают обучение, и уж тем более нет никакой корреляции с академической успешностью и уровнем дохода. Отсюда и проблемы с кредитами на образование. Свадьба и операции с недвижимостью - тесно коррелируют с российской системой ценностей - создать семью, построить дом, посадить дерево... Заёмщики взявшие ипотеку, будут до последнего расплачиваться, чтобы не оказаться зимой на улице, а на свадьбу обычно дарят деньги, которые частно направляются на погашение кредита, вдобавок при умелом ведении хозяйства в рамках семьи, расходы на 1 члена ниже, чем у двух одиночек. Это имеет внутреннюю логику. Для банка важно, что проценты по кредитам на свадьбы и недвижку можно делать пониже, а по автокредам и кредитам на образование, ставочку лучше приподнять. Ну и к оценке заёмщиков по этой целёвке подходить более взвешенно."
   ]
  },
  {
   "cell_type": "markdown",
   "id": "9eb895f1",
   "metadata": {},
   "source": [
    "#### Возможные причины появления пропусков в исходных данных."
   ]
  },
  {
   "cell_type": "markdown",
   "id": "681df658",
   "metadata": {},
   "source": [
    "Традиционными причинами, приводящими к появлению пропусков, являются:\n",
    "- невозможность получения или обработки данных;\n",
    "- искажение или сокрытие информации;\n",
    "- всевозможные поломки технического оборудования;\n",
    "- природные явления;\n",
    "- экономические причины (слишком дорого)."
   ]
  },
  {
   "cell_type": "markdown",
   "id": "5847e013",
   "metadata": {},
   "source": [
    "## Общий вывод <a name=\"chapter3\"></a>"
   ]
  },
  {
   "cell_type": "markdown",
   "id": "812ceb01",
   "metadata": {},
   "source": [
    "- 1) Качество данных, предоставленных для анализа можно оценить как \"хорошее\", пропуски и дубликаты не встречаются в угрожающих количествах, доля \"мусорных\" данных, способных вызвать критическую ошибку в обработке минимальна.\n",
    "- 2) Ни один из предложенных факторов не даёт высокой корреляции с возвратом кредита, и не может быть использован единолично для принятия кредитного решения.\n",
    "- 3) Проведённый анализ данных позволяет выделить группу факторов повышающих кредитный риск: наличие детей (уже сам факт повышает процент неплатежей минимум на 0,7%), семейное положение отличное от \"разведен/вдовец\", а если \"не замужем/холост\" - то значительный прирост кредитного риска. Низкий уровень дохода - тоже можно рассматривать как риск-фактор, ну и наконец, цель кредита - операции с автомобилями или с образованием - тоже повышают кредитный риск.\n",
    "- 4) В качестве митигантов кредитного риска можно признать факторы: отсутствие детей, семейное положение: разведён/вдовец, более выхокий доход  и цель кредита - свадьба или операции с недвижимостью.\n",
    "- 5) Одетльно следует сказать о доходе - предоставленных данных по категориям с самым высоким и самым низким доходом, недостаточно, чтобы оценить уровень просрочки с достаточно низкой статистической погрешностью. Необходимо расширить выборку для получения более тончых результатов.\n",
    "\n",
    "**Справочно: Над данными были проведены следующие операции:**\n",
    "- 1) Были выявлены пропуске в столбце со сведениями о доходах. Они были заменены медианными значениями по каждому типу занятости.\n",
    "- 2) Были вявлены пропуски в столбце с данными о количестве дней занятости. Некоторые значения почему-то оказались отрицательными, они были заменены на такие же, но положительные. Ещё бросается в глаза, что безработные и пенсионеры имеют \"страж\" больше тысячи лет, что резко выделяется на общем фоне. Эти артефакты не исправлялись, так как не использовались в дальнейших вычислениях.\n",
    "- 3) Встречалось анамальное количество детей (-1) и 20, данные строки были исключены из анализа.\n",
    "- 4) В столбце с образованием имелись дубликаты, различавшиеся только регистром. Они были исключены из анализа.\n",
    "- 5) Была произведена категоризация данных о дохода по предложенной шкале и целей использования кредита по укрупнённым группировкам по смыслу.\n",
    "\n",
    "**Рекомендации закачику:**\n",
    "- Расширить выборку.\n",
    "- Выяснить почему некорректно отражается трудовой стаж у пенсионеров и безработных.\n",
    "- Выяснить причины пропусков в столбце с величиной доходов.\n",
    "- Составить таблицы со словарями целевого использования и уровня образования."
   ]
  }
 ],
 "metadata": {
  "ExecuteTimeLog": [
   {
    "duration": 799,
    "start_time": "2023-01-10T16:14:11.560Z"
   },
   {
    "duration": 12,
    "start_time": "2023-01-10T16:14:12.362Z"
   },
   {
    "duration": 27,
    "start_time": "2023-01-10T16:14:12.376Z"
   },
   {
    "duration": 18,
    "start_time": "2023-01-10T16:14:12.405Z"
   },
   {
    "duration": 41,
    "start_time": "2023-01-10T16:14:12.425Z"
   },
   {
    "duration": 12,
    "start_time": "2023-01-10T16:14:12.468Z"
   },
   {
    "duration": 25,
    "start_time": "2023-01-10T16:14:12.482Z"
   },
   {
    "duration": 15,
    "start_time": "2023-01-10T16:14:12.509Z"
   },
   {
    "duration": 25,
    "start_time": "2023-01-10T16:14:12.526Z"
   },
   {
    "duration": 12,
    "start_time": "2023-01-10T16:14:12.554Z"
   },
   {
    "duration": 38,
    "start_time": "2023-01-10T16:14:12.568Z"
   },
   {
    "duration": 6,
    "start_time": "2023-01-10T16:14:12.608Z"
   },
   {
    "duration": 30,
    "start_time": "2023-01-10T16:14:12.615Z"
   },
   {
    "duration": 12,
    "start_time": "2023-01-10T16:14:12.647Z"
   },
   {
    "duration": 42,
    "start_time": "2023-01-10T16:14:12.661Z"
   },
   {
    "duration": 36,
    "start_time": "2023-01-10T16:14:12.705Z"
   },
   {
    "duration": 153,
    "start_time": "2023-01-10T16:14:12.743Z"
   },
   {
    "duration": 6,
    "start_time": "2023-01-10T16:14:12.898Z"
   },
   {
    "duration": 162,
    "start_time": "2023-01-10T16:14:12.906Z"
   },
   {
    "duration": 32,
    "start_time": "2023-01-10T16:14:13.069Z"
   },
   {
    "duration": 1228,
    "start_time": "2023-01-10T16:14:13.103Z"
   },
   {
    "duration": 43,
    "start_time": "2023-01-10T16:14:14.333Z"
   },
   {
    "duration": 28,
    "start_time": "2023-01-10T16:14:14.377Z"
   },
   {
    "duration": 51,
    "start_time": "2023-01-10T16:14:14.406Z"
   },
   {
    "duration": 30,
    "start_time": "2023-01-10T16:14:14.459Z"
   },
   {
    "duration": 49,
    "start_time": "2023-01-10T16:14:14.491Z"
   },
   {
    "duration": 33,
    "start_time": "2023-01-10T16:14:14.554Z"
   },
   {
    "duration": 606,
    "start_time": "2023-01-10T16:53:38.239Z"
   },
   {
    "duration": 10,
    "start_time": "2023-01-10T16:53:38.847Z"
   },
   {
    "duration": 22,
    "start_time": "2023-01-10T16:53:38.859Z"
   },
   {
    "duration": 27,
    "start_time": "2023-01-10T16:53:38.884Z"
   },
   {
    "duration": 30,
    "start_time": "2023-01-10T16:53:38.913Z"
   },
   {
    "duration": 8,
    "start_time": "2023-01-10T16:53:38.955Z"
   },
   {
    "duration": 8,
    "start_time": "2023-01-10T16:53:38.966Z"
   },
   {
    "duration": 10,
    "start_time": "2023-01-10T16:53:38.976Z"
   },
   {
    "duration": 25,
    "start_time": "2023-01-10T16:53:38.988Z"
   },
   {
    "duration": 4,
    "start_time": "2023-01-10T16:53:39.016Z"
   },
   {
    "duration": 53,
    "start_time": "2023-01-10T16:53:39.023Z"
   },
   {
    "duration": 5,
    "start_time": "2023-01-10T16:53:39.078Z"
   },
   {
    "duration": 58,
    "start_time": "2023-01-10T16:53:39.085Z"
   },
   {
    "duration": 14,
    "start_time": "2023-01-10T16:53:39.145Z"
   },
   {
    "duration": 48,
    "start_time": "2023-01-10T16:53:39.162Z"
   },
   {
    "duration": 36,
    "start_time": "2023-01-10T16:53:39.212Z"
   },
   {
    "duration": 159,
    "start_time": "2023-01-10T16:53:39.254Z"
   },
   {
    "duration": 6,
    "start_time": "2023-01-10T16:53:39.416Z"
   },
   {
    "duration": 169,
    "start_time": "2023-01-10T16:53:39.424Z"
   },
   {
    "duration": 33,
    "start_time": "2023-01-10T16:53:39.595Z"
   },
   {
    "duration": 1095,
    "start_time": "2023-01-10T16:53:39.630Z"
   },
   {
    "duration": 36,
    "start_time": "2023-01-10T16:53:40.727Z"
   },
   {
    "duration": 27,
    "start_time": "2023-01-10T16:53:40.765Z"
   },
   {
    "duration": 31,
    "start_time": "2023-01-10T16:53:40.794Z"
   },
   {
    "duration": 24,
    "start_time": "2023-01-10T16:53:40.855Z"
   },
   {
    "duration": 30,
    "start_time": "2023-01-10T16:53:40.881Z"
   },
   {
    "duration": 48,
    "start_time": "2023-01-10T16:53:40.912Z"
   },
   {
    "duration": 22,
    "start_time": "2023-01-10T16:57:14.665Z"
   },
   {
    "duration": 11,
    "start_time": "2023-01-10T16:57:23.477Z"
   },
   {
    "duration": 5,
    "start_time": "2023-01-10T16:57:52.119Z"
   },
   {
    "duration": 8,
    "start_time": "2023-01-10T16:57:55.696Z"
   },
   {
    "duration": 7,
    "start_time": "2023-01-10T17:02:13.335Z"
   },
   {
    "duration": 11,
    "start_time": "2023-01-10T17:02:15.802Z"
   },
   {
    "duration": 573,
    "start_time": "2023-01-12T06:53:19.292Z"
   },
   {
    "duration": 0,
    "start_time": "2023-01-12T06:53:19.867Z"
   },
   {
    "duration": 0,
    "start_time": "2023-01-12T06:53:19.868Z"
   },
   {
    "duration": 0,
    "start_time": "2023-01-12T06:53:19.869Z"
   },
   {
    "duration": 0,
    "start_time": "2023-01-12T06:53:19.870Z"
   },
   {
    "duration": 0,
    "start_time": "2023-01-12T06:53:19.871Z"
   },
   {
    "duration": 0,
    "start_time": "2023-01-12T06:53:19.872Z"
   },
   {
    "duration": 0,
    "start_time": "2023-01-12T06:53:19.873Z"
   },
   {
    "duration": 0,
    "start_time": "2023-01-12T06:53:19.874Z"
   },
   {
    "duration": 0,
    "start_time": "2023-01-12T06:53:19.875Z"
   },
   {
    "duration": 0,
    "start_time": "2023-01-12T06:53:19.876Z"
   },
   {
    "duration": 0,
    "start_time": "2023-01-12T06:53:19.877Z"
   },
   {
    "duration": 1,
    "start_time": "2023-01-12T06:53:19.877Z"
   },
   {
    "duration": 0,
    "start_time": "2023-01-12T06:53:19.878Z"
   },
   {
    "duration": 0,
    "start_time": "2023-01-12T06:53:19.879Z"
   },
   {
    "duration": 0,
    "start_time": "2023-01-12T06:53:19.904Z"
   },
   {
    "duration": 0,
    "start_time": "2023-01-12T06:53:19.906Z"
   },
   {
    "duration": 0,
    "start_time": "2023-01-12T06:53:19.908Z"
   },
   {
    "duration": 0,
    "start_time": "2023-01-12T06:53:19.910Z"
   },
   {
    "duration": 0,
    "start_time": "2023-01-12T06:53:19.915Z"
   },
   {
    "duration": 0,
    "start_time": "2023-01-12T06:53:19.918Z"
   },
   {
    "duration": 0,
    "start_time": "2023-01-12T06:53:19.920Z"
   },
   {
    "duration": 0,
    "start_time": "2023-01-12T06:53:19.921Z"
   },
   {
    "duration": 0,
    "start_time": "2023-01-12T06:53:19.922Z"
   },
   {
    "duration": 0,
    "start_time": "2023-01-12T06:53:19.924Z"
   },
   {
    "duration": 0,
    "start_time": "2023-01-12T06:53:19.925Z"
   },
   {
    "duration": 0,
    "start_time": "2023-01-12T06:53:19.926Z"
   },
   {
    "duration": 0,
    "start_time": "2023-01-12T06:53:19.927Z"
   },
   {
    "duration": 0,
    "start_time": "2023-01-12T06:53:19.928Z"
   },
   {
    "duration": 165,
    "start_time": "2023-01-12T06:54:27.857Z"
   },
   {
    "duration": 510,
    "start_time": "2023-01-12T06:54:43.397Z"
   },
   {
    "duration": 1027,
    "start_time": "2023-01-12T06:54:43.910Z"
   },
   {
    "duration": 18,
    "start_time": "2023-01-12T06:54:44.940Z"
   },
   {
    "duration": 29,
    "start_time": "2023-01-12T06:54:44.961Z"
   },
   {
    "duration": 20,
    "start_time": "2023-01-12T06:54:44.993Z"
   },
   {
    "duration": 46,
    "start_time": "2023-01-12T06:54:45.015Z"
   },
   {
    "duration": 8,
    "start_time": "2023-01-12T06:54:45.063Z"
   },
   {
    "duration": 29,
    "start_time": "2023-01-12T06:54:45.074Z"
   },
   {
    "duration": 16,
    "start_time": "2023-01-12T06:54:45.105Z"
   },
   {
    "duration": 32,
    "start_time": "2023-01-12T06:54:45.123Z"
   },
   {
    "duration": 23,
    "start_time": "2023-01-12T06:54:45.157Z"
   },
   {
    "duration": 38,
    "start_time": "2023-01-12T06:54:45.182Z"
   },
   {
    "duration": 13,
    "start_time": "2023-01-12T06:54:45.222Z"
   },
   {
    "duration": 45,
    "start_time": "2023-01-12T06:54:45.240Z"
   },
   {
    "duration": 21,
    "start_time": "2023-01-12T06:54:45.287Z"
   },
   {
    "duration": 35,
    "start_time": "2023-01-12T06:54:45.310Z"
   },
   {
    "duration": 33,
    "start_time": "2023-01-12T06:54:45.346Z"
   },
   {
    "duration": 211,
    "start_time": "2023-01-12T06:54:45.381Z"
   },
   {
    "duration": 12,
    "start_time": "2023-01-12T06:54:45.594Z"
   },
   {
    "duration": 169,
    "start_time": "2023-01-12T06:54:45.608Z"
   },
   {
    "duration": 50,
    "start_time": "2023-01-12T06:54:45.779Z"
   },
   {
    "duration": 5,
    "start_time": "2023-01-12T06:54:45.830Z"
   },
   {
    "duration": 241,
    "start_time": "2023-01-12T06:54:45.837Z"
   },
   {
    "duration": 40,
    "start_time": "2023-01-12T06:54:46.080Z"
   },
   {
    "duration": 28,
    "start_time": "2023-01-12T06:54:46.121Z"
   },
   {
    "duration": 53,
    "start_time": "2023-01-12T06:54:46.152Z"
   },
   {
    "duration": 38,
    "start_time": "2023-01-12T06:54:46.207Z"
   },
   {
    "duration": 71,
    "start_time": "2023-01-12T06:54:46.248Z"
   },
   {
    "duration": 29,
    "start_time": "2023-01-12T06:54:46.321Z"
   },
   {
    "duration": 25,
    "start_time": "2023-01-12T06:56:54.474Z"
   },
   {
    "duration": 543,
    "start_time": "2023-01-12T12:53:49.891Z"
   },
   {
    "duration": 1292,
    "start_time": "2023-01-12T12:53:50.436Z"
   },
   {
    "duration": 20,
    "start_time": "2023-01-12T12:53:51.731Z"
   },
   {
    "duration": 26,
    "start_time": "2023-01-12T12:53:51.755Z"
   },
   {
    "duration": 11,
    "start_time": "2023-01-12T12:53:51.783Z"
   },
   {
    "duration": 45,
    "start_time": "2023-01-12T12:53:51.796Z"
   },
   {
    "duration": 16,
    "start_time": "2023-01-12T12:53:51.844Z"
   },
   {
    "duration": 12,
    "start_time": "2023-01-12T12:53:51.861Z"
   },
   {
    "duration": 6,
    "start_time": "2023-01-12T12:53:51.875Z"
   },
   {
    "duration": 15,
    "start_time": "2023-01-12T12:53:51.883Z"
   },
   {
    "duration": 11,
    "start_time": "2023-01-12T12:53:51.899Z"
   },
   {
    "duration": 58,
    "start_time": "2023-01-12T12:53:51.912Z"
   },
   {
    "duration": 12,
    "start_time": "2023-01-12T12:53:51.973Z"
   },
   {
    "duration": 19,
    "start_time": "2023-01-12T12:53:51.987Z"
   },
   {
    "duration": 12,
    "start_time": "2023-01-12T12:53:52.008Z"
   },
   {
    "duration": 49,
    "start_time": "2023-01-12T12:53:52.021Z"
   },
   {
    "duration": 35,
    "start_time": "2023-01-12T12:53:52.072Z"
   },
   {
    "duration": 175,
    "start_time": "2023-01-12T12:53:52.109Z"
   },
   {
    "duration": 6,
    "start_time": "2023-01-12T12:53:52.286Z"
   },
   {
    "duration": 171,
    "start_time": "2023-01-12T12:53:52.293Z"
   },
   {
    "duration": 37,
    "start_time": "2023-01-12T12:53:52.466Z"
   },
   {
    "duration": 4,
    "start_time": "2023-01-12T12:53:52.505Z"
   },
   {
    "duration": 237,
    "start_time": "2023-01-12T12:53:52.511Z"
   },
   {
    "duration": 36,
    "start_time": "2023-01-12T12:53:52.750Z"
   },
   {
    "duration": 25,
    "start_time": "2023-01-12T12:53:52.788Z"
   },
   {
    "duration": 37,
    "start_time": "2023-01-12T12:53:52.840Z"
   },
   {
    "duration": 26,
    "start_time": "2023-01-12T12:53:52.878Z"
   },
   {
    "duration": 66,
    "start_time": "2023-01-12T12:53:52.907Z"
   },
   {
    "duration": 24,
    "start_time": "2023-01-12T12:53:52.975Z"
   },
   {
    "duration": 534,
    "start_time": "2023-01-12T12:58:51.171Z"
   },
   {
    "duration": 1064,
    "start_time": "2023-01-12T12:58:51.707Z"
   },
   {
    "duration": 14,
    "start_time": "2023-01-12T12:58:52.773Z"
   },
   {
    "duration": 17,
    "start_time": "2023-01-12T12:58:52.790Z"
   },
   {
    "duration": 11,
    "start_time": "2023-01-12T12:58:52.808Z"
   },
   {
    "duration": 44,
    "start_time": "2023-01-12T12:58:52.821Z"
   },
   {
    "duration": 7,
    "start_time": "2023-01-12T12:58:52.867Z"
   },
   {
    "duration": 8,
    "start_time": "2023-01-12T12:58:52.875Z"
   },
   {
    "duration": 4,
    "start_time": "2023-01-12T12:58:52.884Z"
   },
   {
    "duration": 11,
    "start_time": "2023-01-12T12:58:52.891Z"
   },
   {
    "duration": 43,
    "start_time": "2023-01-12T12:58:52.903Z"
   },
   {
    "duration": 31,
    "start_time": "2023-01-12T12:58:52.951Z"
   },
   {
    "duration": 4,
    "start_time": "2023-01-12T12:58:52.984Z"
   },
   {
    "duration": 41,
    "start_time": "2023-01-12T12:58:52.990Z"
   },
   {
    "duration": 23,
    "start_time": "2023-01-12T12:58:53.033Z"
   },
   {
    "duration": 56,
    "start_time": "2023-01-12T12:58:53.058Z"
   },
   {
    "duration": 46,
    "start_time": "2023-01-12T12:58:53.116Z"
   },
   {
    "duration": 167,
    "start_time": "2023-01-12T12:58:53.164Z"
   },
   {
    "duration": 8,
    "start_time": "2023-01-12T12:58:53.333Z"
   },
   {
    "duration": 185,
    "start_time": "2023-01-12T12:58:53.344Z"
   },
   {
    "duration": 411,
    "start_time": "2023-01-12T12:58:53.531Z"
   },
   {
    "duration": 44,
    "start_time": "2023-01-12T12:58:53.945Z"
   },
   {
    "duration": 4,
    "start_time": "2023-01-12T12:58:53.990Z"
   },
   {
    "duration": 56,
    "start_time": "2023-01-12T12:58:53.997Z"
   },
   {
    "duration": 57,
    "start_time": "2023-01-12T12:58:54.056Z"
   },
   {
    "duration": 34,
    "start_time": "2023-01-12T12:58:54.115Z"
   },
   {
    "duration": 54,
    "start_time": "2023-01-12T12:58:54.152Z"
   },
   {
    "duration": 44,
    "start_time": "2023-01-12T12:58:54.210Z"
   },
   {
    "duration": 39,
    "start_time": "2023-01-12T12:58:54.256Z"
   },
   {
    "duration": 49,
    "start_time": "2023-01-12T12:58:54.298Z"
   }
  ],
  "kernelspec": {
   "display_name": "Python 3 (ipykernel)",
   "language": "python",
   "name": "python3"
  },
  "language_info": {
   "codemirror_mode": {
    "name": "ipython",
    "version": 3
   },
   "file_extension": ".py",
   "mimetype": "text/x-python",
   "name": "python",
   "nbconvert_exporter": "python",
   "pygments_lexer": "ipython3",
   "version": "3.9.5"
  },
  "toc": {
   "base_numbering": 1,
   "nav_menu": {},
   "number_sections": true,
   "sideBar": true,
   "skip_h1_title": true,
   "title_cell": "Table of Contents",
   "title_sidebar": "Contents",
   "toc_cell": true,
   "toc_position": {},
   "toc_section_display": true,
   "toc_window_display": false
  }
 },
 "nbformat": 4,
 "nbformat_minor": 5
}
