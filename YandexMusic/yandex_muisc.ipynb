{
  "cells": [
    {
      "cell_type": "markdown",
      "metadata": {
        "deletable": false,
        "editable": false,
        "id": "E0vqbgi9ay0H"
      },
      "source": [
        "# Яндекс Музыка"
      ]
    },
    {
      "cell_type": "markdown",
      "metadata": {
        "deletable": false,
        "editable": false,
        "id": "VUC88oWjTJw2"
      },
      "source": [
        "Сравнение Москвы и Петербурга окружено мифами. Например:\n",
        " * Москва — мегаполис, подчинённый жёсткому ритму рабочей недели;\n",
        " * Петербург — культурная столица, со своими вкусами.\n",
        "\n",
        "На данных Яндекс Музыки мы сравним поведение пользователей двух столиц.\n",
        "\n",
        "**Цель исследования** — проверьте три гипотезы:\n",
        "1. Активность пользователей зависит от дня недели. Причём в Москве и Петербурге это проявляется по-разному.\n",
        "2. В понедельник утром в Москве преобладают одни жанры, а в Петербурге — другие. Так же и вечером пятницы преобладают разные жанры — в зависимости от города.\n",
        "3. Москва и Петербург предпочитают разные жанры музыки. В Москве чаще слушают поп-музыку, в Петербурге — русский рэп.\n",
        "\n",
        "**Ход исследования**\n",
        "\n",
        "Данные о поведении пользователей возьмём из файла `yandex_music_project.csv`. О качестве данных ничего не известно. Поэтому перед проверкой гипотез понадобится обзор данных.\n",
        "\n",
        "Проверим данные на ошибки и оцените их влияние на исследование. Затем, на этапе предобработки поищем возможность исправить самые критичные ошибки данных.\n",
        "\n",
        "Таким образом, исследование пройдёт в три этапа:\n",
        " 1. Обзор данных.\n",
        " 2. Предобработка данных.\n",
        " 3. Проверка гипотез.\n",
        "\n"
      ]
    },
    {
      "cell_type": "markdown",
      "metadata": {
        "deletable": false,
        "editable": false,
        "id": "Ml1hmfXC_Zcs"
      },
      "source": [
        "## Обзор данных\n",
        "\n",
        "Составим первое представление о данных Яндекс Музыки.\n",
        "\n",
        "\n"
      ]
    },
    {
      "cell_type": "code",
      "execution_count": null,
      "metadata": {
        "deletable": false,
        "id": "AXN7PHPN_Zcs"
      },
      "outputs": [],
      "source": [
        "# импорт библиотеки pandas\n",
        "import pandas as pd\n",
        "from IPython.display import display"
      ]
    },
    {
      "cell_type": "code",
      "execution_count": null,
      "metadata": {
        "deletable": false,
        "id": "fFVu7vqh_Zct"
      },
      "outputs": [],
      "source": [
        "# чтение файла с данными и сохранение в df\n",
        "df=pd.read_csv('/datasets/yandex_music_project.csv')\n"
      ]
    },
    {
      "cell_type": "code",
      "execution_count": null,
      "metadata": {
        "deletable": false,
        "id": "oWTVX3gW_Zct",
        "outputId": "b590978f-2a44-43aa-f341-7d1303d6af7e"
      },
      "outputs": [
        {
          "data": {
            "text/html": [
              "<div>\n",
              "<style scoped>\n",
              "    .dataframe tbody tr th:only-of-type {\n",
              "        vertical-align: middle;\n",
              "    }\n",
              "\n",
              "    .dataframe tbody tr th {\n",
              "        vertical-align: top;\n",
              "    }\n",
              "\n",
              "    .dataframe thead th {\n",
              "        text-align: right;\n",
              "    }\n",
              "</style>\n",
              "<table border=\"1\" class=\"dataframe\">\n",
              "  <thead>\n",
              "    <tr style=\"text-align: right;\">\n",
              "      <th></th>\n",
              "      <th>userID</th>\n",
              "      <th>Track</th>\n",
              "      <th>artist</th>\n",
              "      <th>genre</th>\n",
              "      <th>City</th>\n",
              "      <th>time</th>\n",
              "      <th>Day</th>\n",
              "    </tr>\n",
              "  </thead>\n",
              "  <tbody>\n",
              "    <tr>\n",
              "      <th>0</th>\n",
              "      <td>FFB692EC</td>\n",
              "      <td>Kamigata To Boots</td>\n",
              "      <td>The Mass Missile</td>\n",
              "      <td>rock</td>\n",
              "      <td>Saint-Petersburg</td>\n",
              "      <td>20:28:33</td>\n",
              "      <td>Wednesday</td>\n",
              "    </tr>\n",
              "    <tr>\n",
              "      <th>1</th>\n",
              "      <td>55204538</td>\n",
              "      <td>Delayed Because of Accident</td>\n",
              "      <td>Andreas Rönnberg</td>\n",
              "      <td>rock</td>\n",
              "      <td>Moscow</td>\n",
              "      <td>14:07:09</td>\n",
              "      <td>Friday</td>\n",
              "    </tr>\n",
              "    <tr>\n",
              "      <th>2</th>\n",
              "      <td>20EC38</td>\n",
              "      <td>Funiculì funiculà</td>\n",
              "      <td>Mario Lanza</td>\n",
              "      <td>pop</td>\n",
              "      <td>Saint-Petersburg</td>\n",
              "      <td>20:58:07</td>\n",
              "      <td>Wednesday</td>\n",
              "    </tr>\n",
              "    <tr>\n",
              "      <th>3</th>\n",
              "      <td>A3DD03C9</td>\n",
              "      <td>Dragons in the Sunset</td>\n",
              "      <td>Fire + Ice</td>\n",
              "      <td>folk</td>\n",
              "      <td>Saint-Petersburg</td>\n",
              "      <td>08:37:09</td>\n",
              "      <td>Monday</td>\n",
              "    </tr>\n",
              "    <tr>\n",
              "      <th>4</th>\n",
              "      <td>E2DC1FAE</td>\n",
              "      <td>Soul People</td>\n",
              "      <td>Space Echo</td>\n",
              "      <td>dance</td>\n",
              "      <td>Moscow</td>\n",
              "      <td>08:34:34</td>\n",
              "      <td>Monday</td>\n",
              "    </tr>\n",
              "    <tr>\n",
              "      <th>5</th>\n",
              "      <td>842029A1</td>\n",
              "      <td>Преданная</td>\n",
              "      <td>IMPERVTOR</td>\n",
              "      <td>rusrap</td>\n",
              "      <td>Saint-Petersburg</td>\n",
              "      <td>13:09:41</td>\n",
              "      <td>Friday</td>\n",
              "    </tr>\n",
              "    <tr>\n",
              "      <th>6</th>\n",
              "      <td>4CB90AA5</td>\n",
              "      <td>True</td>\n",
              "      <td>Roman Messer</td>\n",
              "      <td>dance</td>\n",
              "      <td>Moscow</td>\n",
              "      <td>13:00:07</td>\n",
              "      <td>Wednesday</td>\n",
              "    </tr>\n",
              "    <tr>\n",
              "      <th>7</th>\n",
              "      <td>F03E1C1F</td>\n",
              "      <td>Feeling This Way</td>\n",
              "      <td>Polina Griffith</td>\n",
              "      <td>dance</td>\n",
              "      <td>Moscow</td>\n",
              "      <td>20:47:49</td>\n",
              "      <td>Wednesday</td>\n",
              "    </tr>\n",
              "    <tr>\n",
              "      <th>8</th>\n",
              "      <td>8FA1D3BE</td>\n",
              "      <td>И вновь продолжается бой</td>\n",
              "      <td>NaN</td>\n",
              "      <td>ruspop</td>\n",
              "      <td>Moscow</td>\n",
              "      <td>09:17:40</td>\n",
              "      <td>Friday</td>\n",
              "    </tr>\n",
              "    <tr>\n",
              "      <th>9</th>\n",
              "      <td>E772D5C0</td>\n",
              "      <td>Pessimist</td>\n",
              "      <td>NaN</td>\n",
              "      <td>dance</td>\n",
              "      <td>Saint-Petersburg</td>\n",
              "      <td>21:20:49</td>\n",
              "      <td>Wednesday</td>\n",
              "    </tr>\n",
              "  </tbody>\n",
              "</table>\n",
              "</div>"
            ],
            "text/plain": [
              "     userID                        Track            artist   genre  \\\n",
              "0  FFB692EC            Kamigata To Boots  The Mass Missile    rock   \n",
              "1  55204538  Delayed Because of Accident  Andreas Rönnberg    rock   \n",
              "2    20EC38            Funiculì funiculà       Mario Lanza     pop   \n",
              "3  A3DD03C9        Dragons in the Sunset        Fire + Ice    folk   \n",
              "4  E2DC1FAE                  Soul People        Space Echo   dance   \n",
              "5  842029A1                    Преданная         IMPERVTOR  rusrap   \n",
              "6  4CB90AA5                         True      Roman Messer   dance   \n",
              "7  F03E1C1F             Feeling This Way   Polina Griffith   dance   \n",
              "8  8FA1D3BE     И вновь продолжается бой               NaN  ruspop   \n",
              "9  E772D5C0                    Pessimist               NaN   dance   \n",
              "\n",
              "             City        time        Day  \n",
              "0  Saint-Petersburg  20:28:33  Wednesday  \n",
              "1            Moscow  14:07:09     Friday  \n",
              "2  Saint-Petersburg  20:58:07  Wednesday  \n",
              "3  Saint-Petersburg  08:37:09     Monday  \n",
              "4            Moscow  08:34:34     Monday  \n",
              "5  Saint-Petersburg  13:09:41     Friday  \n",
              "6            Moscow  13:00:07  Wednesday  \n",
              "7            Moscow  20:47:49  Wednesday  \n",
              "8            Moscow  09:17:40     Friday  \n",
              "9  Saint-Petersburg  21:20:49  Wednesday  "
            ]
          },
          "execution_count": 81,
          "metadata": {},
          "output_type": "execute_result"
        }
      ],
      "source": [
        "# получение первых 10 строк таблицы df\n",
        "df.head(10)"
      ]
    },
    {
      "cell_type": "code",
      "execution_count": null,
      "metadata": {
        "deletable": false,
        "id": "DSf2kIb-_Zct",
        "outputId": "7289773d-3b86-473a-8f81-75dab74aeec6"
      },
      "outputs": [
        {
          "name": "stdout",
          "output_type": "stream",
          "text": [
            "<class 'pandas.core.frame.DataFrame'>\n",
            "RangeIndex: 65079 entries, 0 to 65078\n",
            "Data columns (total 7 columns):\n",
            " #   Column    Non-Null Count  Dtype \n",
            "---  ------    --------------  ----- \n",
            " 0     userID  65079 non-null  object\n",
            " 1   Track     63848 non-null  object\n",
            " 2   artist    57876 non-null  object\n",
            " 3   genre     63881 non-null  object\n",
            " 4     City    65079 non-null  object\n",
            " 5   time      65079 non-null  object\n",
            " 6   Day       65079 non-null  object\n",
            "dtypes: object(7)\n",
            "memory usage: 3.5+ MB\n"
          ]
        }
      ],
      "source": [
        "# получение общей информации о данных в таблице df\n",
        "df.info()"
      ]
    },
    {
      "cell_type": "markdown",
      "metadata": {
        "deletable": false,
        "editable": false,
        "id": "TaQ2Iwbr_Zct"
      },
      "source": [
        "Итак, в таблице семь столбцов. Тип данных во всех столбцах — `object`.\n",
        "\n",
        "Согласно документации к данным:\n",
        "* `userID` — идентификатор пользователя;\n",
        "* `Track` — название трека;  \n",
        "* `artist` — имя исполнителя;\n",
        "* `genre` — название жанра;\n",
        "* `City` — город пользователя;\n",
        "* `time` — время начала прослушивания;\n",
        "* `Day` — день недели.\n",
        "\n",
        "Количество значений в столбцах различается. Значит, в данных есть пропущенные значения."
      ]
    },
    {
      "cell_type": "markdown",
      "metadata": {
        "deletable": false,
        "editable": false,
        "id": "MCB6-dXG_Zct"
      },
      "source": [
        "**Выводы**\n",
        "\n",
        "В каждой строке таблицы — данные о прослушанном треке. Часть колонок описывает саму композицию: название, исполнителя и жанр. Остальные данные рассказывают о пользователе: из какого он города, когда он слушал музыку.\n",
        "\n",
        "Предварительно можно утверждать, что данных достаточно для проверки гипотез. Но встречаются пропуски в данных, а в названиях колонок — расхождения с хорошим стилем.\n",
        "\n",
        "Чтобы двигаться дальше, нужно устранить проблемы в данных."
      ]
    },
    {
      "cell_type": "markdown",
      "metadata": {
        "deletable": false,
        "editable": false,
        "id": "SjYF6Ub9_Zct"
      },
      "source": [
        "## Предобработка данных\n"
      ]
    },
    {
      "cell_type": "code",
      "execution_count": null,
      "metadata": {
        "deletable": false,
        "id": "oKOTdF_Q_Zct",
        "outputId": "ac3058c7-4098-4d14-927e-c74dbc45607c"
      },
      "outputs": [
        {
          "data": {
            "text/plain": [
              "Index(['  userID', 'Track', 'artist', 'genre', '  City  ', 'time', 'Day'], dtype='object')"
            ]
          },
          "execution_count": 84,
          "metadata": {},
          "output_type": "execute_result"
        }
      ],
      "source": [
        "# перечень названий столбцов таблицы df\n",
        "df.columns"
      ]
    },
    {
      "cell_type": "code",
      "execution_count": null,
      "metadata": {
        "deletable": false,
        "id": "ISlFqs5y_Zct"
      },
      "outputs": [],
      "source": [
        "# переименование столбцов\n",
        "df = df.rename(columns={'  userID' : 'user_id','Track' : 'track','  City  ' : 'city','Day' : 'day'})\n",
        "\n"
      ]
    },
    {
      "cell_type": "code",
      "execution_count": null,
      "metadata": {
        "deletable": false,
        "id": "d4NOAmTW_Zct",
        "outputId": "b9607ffb-64b2-4ee1-c524-ee28d3a0ba3e"
      },
      "outputs": [
        {
          "data": {
            "text/plain": [
              "Index(['user_id', 'track', 'artist', 'genre', 'city', 'time', 'day'], dtype='object')"
            ]
          },
          "execution_count": 86,
          "metadata": {},
          "output_type": "execute_result"
        }
      ],
      "source": [
        "# проверка результатов - перечень названий столбцов\n",
        "df.columns"
      ]
    },
    {
      "cell_type": "code",
      "execution_count": null,
      "metadata": {
        "deletable": false,
        "id": "RskX29qr_Zct",
        "outputId": "851c61fa-d3ed-41bd-f87a-9a2ea293e1a9"
      },
      "outputs": [
        {
          "name": "stdout",
          "output_type": "stream",
          "text": [
            "user_id       0\n",
            "track      1231\n",
            "artist     7203\n",
            "genre      1198\n",
            "city          0\n",
            "time          0\n",
            "day           0\n",
            "dtype: int64\n"
          ]
        }
      ],
      "source": [
        "# подсчёт пропусков\n",
        "print(df.isna().sum())"
      ]
    },
    {
      "cell_type": "markdown",
      "metadata": {
        "deletable": false,
        "editable": false,
        "id": "qubhgnlO_Zct"
      },
      "source": [
        "Не все пропущенные значения влияют на исследование. Так в `track` и `artist` пропуски не важны для нашей работы. Достаточно заменить их явными обозначениями.\n",
        "\n",
        "Но пропуски в `genre` могут помешать сравнению музыкальных вкусов в Москве и Санкт-Петербурге. На практике было бы правильно установить причину пропусков и восстановить данные. Такой возможности нет в учебном проекте. Придётся:\n",
        "* заполнить и эти пропуски явными обозначениями;\n",
        "* оценить, насколько они повредят расчётам."
      ]
    },
    {
      "cell_type": "code",
      "execution_count": null,
      "metadata": {
        "deletable": false,
        "id": "KplB5qWs_Zct"
      },
      "outputs": [],
      "source": [
        "# перебор названий столбцов в цикле и замена пропущенных значений на 'unknown'\n",
        "columns_to_replace=['artist','track','genre']\n",
        "#проводим замену пропусков\n",
        "for i in columns_to_replace:\n",
        "    df[i] = df[i].fillna('unknown')"
      ]
    },
    {
      "cell_type": "code",
      "execution_count": null,
      "metadata": {
        "deletable": false,
        "id": "Tq4nYRX4_Zct",
        "outputId": "6502ffc3-f30a-4045-8a09-0d999a332ef5"
      },
      "outputs": [
        {
          "data": {
            "text/plain": [
              "user_id    0\n",
              "track      0\n",
              "artist     0\n",
              "genre      0\n",
              "city       0\n",
              "time       0\n",
              "day        0\n",
              "dtype: int64"
            ]
          },
          "execution_count": 89,
          "metadata": {},
          "output_type": "execute_result"
        }
      ],
      "source": [
        "# подсчёт пропусков\n",
        "df.isna().sum()"
      ]
    },
    {
      "cell_type": "markdown",
      "metadata": {
        "deletable": false,
        "editable": false,
        "id": "BWKRtBJ3_Zct",
        "tags": [
          "start_task"
        ]
      },
      "source": [
        "### Дубликаты\n"
      ]
    },
    {
      "cell_type": "code",
      "execution_count": null,
      "metadata": {
        "deletable": false,
        "id": "36eES_S0_Zct",
        "outputId": "101b1f3c-8dbd-4217-9c89-bc80c1321698"
      },
      "outputs": [
        {
          "data": {
            "text/plain": [
              "3826"
            ]
          },
          "execution_count": 90,
          "metadata": {},
          "output_type": "execute_result"
        }
      ],
      "source": [
        "# подсчёт явных дубликатов\n",
        "df.duplicated().sum()"
      ]
    },
    {
      "cell_type": "code",
      "execution_count": null,
      "metadata": {
        "deletable": false,
        "id": "exFHq6tt_Zct"
      },
      "outputs": [],
      "source": [
        "# удаление явных дубликатов\n",
        "df = df.drop_duplicates()"
      ]
    },
    {
      "cell_type": "code",
      "execution_count": null,
      "metadata": {
        "deletable": false,
        "id": "-8PuNWQ0_Zct",
        "outputId": "21129a2f-5b4e-4907-f5a1-d7d03513129f"
      },
      "outputs": [
        {
          "data": {
            "text/plain": [
              "0"
            ]
          },
          "execution_count": 92,
          "metadata": {},
          "output_type": "execute_result"
        }
      ],
      "source": [
        "# проверка на отсутствие дубликатов\n",
        "df.duplicated().sum()"
      ]
    },
    {
      "cell_type": "markdown",
      "metadata": {
        "deletable": false,
        "editable": false,
        "id": "QlFBsxAr_Zct"
      },
      "source": [
        "Теперь избавимся от неявных дубликатов в колонке `genre`. Например, название одного и того же жанра может быть записано немного по-разному. Такие ошибки тоже повлияют на результат исследования."
      ]
    },
    {
      "cell_type": "code",
      "execution_count": null,
      "metadata": {
        "deletable": false,
        "id": "JIUcqzZN_Zct",
        "outputId": "7fd0549e-87ee-47d5-fe82-e7c5d55780a4"
      },
      "outputs": [
        {
          "data": {
            "text/plain": [
              "array(['acid', 'acoustic', 'action', 'adult', 'africa', 'afrikaans',\n",
              "       'alternative', 'alternativepunk', 'ambient', 'americana',\n",
              "       'animated', 'anime', 'arabesk', 'arabic', 'arena',\n",
              "       'argentinetango', 'art', 'audiobook', 'author', 'avantgarde',\n",
              "       'axé', 'baile', 'balkan', 'beats', 'bigroom', 'black', 'bluegrass',\n",
              "       'blues', 'bollywood', 'bossa', 'brazilian', 'breakbeat', 'breaks',\n",
              "       'broadway', 'cantautori', 'cantopop', 'canzone', 'caribbean',\n",
              "       'caucasian', 'celtic', 'chamber', 'chanson', 'children', 'chill',\n",
              "       'chinese', 'choral', 'christian', 'christmas', 'classical',\n",
              "       'classicmetal', 'club', 'colombian', 'comedy', 'conjazz',\n",
              "       'contemporary', 'country', 'cuban', 'dance', 'dancehall',\n",
              "       'dancepop', 'dark', 'death', 'deep', 'deutschrock', 'deutschspr',\n",
              "       'dirty', 'disco', 'dnb', 'documentary', 'downbeat', 'downtempo',\n",
              "       'drum', 'dub', 'dubstep', 'eastern', 'easy', 'electronic',\n",
              "       'electropop', 'emo', 'entehno', 'epicmetal', 'estrada', 'ethnic',\n",
              "       'eurofolk', 'european', 'experimental', 'extrememetal', 'fado',\n",
              "       'fairytail', 'film', 'fitness', 'flamenco', 'folk', 'folklore',\n",
              "       'folkmetal', 'folkrock', 'folktronica', 'forró', 'frankreich',\n",
              "       'französisch', 'french', 'funk', 'future', 'gangsta', 'garage',\n",
              "       'german', 'ghazal', 'gitarre', 'glitch', 'gospel', 'gothic',\n",
              "       'grime', 'grunge', 'gypsy', 'handsup', \"hard'n'heavy\", 'hardcore',\n",
              "       'hardstyle', 'hardtechno', 'hip', 'hip-hop', 'hiphop',\n",
              "       'historisch', 'holiday', 'hop', 'horror', 'house', 'hymn', 'idm',\n",
              "       'independent', 'indian', 'indie', 'indipop', 'industrial',\n",
              "       'inspirational', 'instrumental', 'international', 'irish', 'jam',\n",
              "       'japanese', 'jazz', 'jewish', 'jpop', 'jungle', 'k-pop',\n",
              "       'karadeniz', 'karaoke', 'kayokyoku', 'korean', 'laiko', 'latin',\n",
              "       'latino', 'leftfield', 'local', 'lounge', 'loungeelectronic',\n",
              "       'lovers', 'malaysian', 'mandopop', 'marschmusik', 'meditative',\n",
              "       'mediterranean', 'melodic', 'metal', 'metalcore', 'mexican',\n",
              "       'middle', 'minimal', 'miscellaneous', 'modern', 'mood', 'mpb',\n",
              "       'muslim', 'native', 'neoklassik', 'neue', 'new', 'newage',\n",
              "       'newwave', 'nu', 'nujazz', 'numetal', 'oceania', 'old', 'opera',\n",
              "       'orchestral', 'other', 'piano', 'podcasts', 'pop', 'popdance',\n",
              "       'popelectronic', 'popeurodance', 'poprussian', 'post',\n",
              "       'posthardcore', 'postrock', 'power', 'progmetal', 'progressive',\n",
              "       'psychedelic', 'punjabi', 'punk', 'quebecois', 'ragga', 'ram',\n",
              "       'rancheras', 'rap', 'rave', 'reggae', 'reggaeton', 'regional',\n",
              "       'relax', 'religious', 'retro', 'rhythm', 'rnb', 'rnr', 'rock',\n",
              "       'rockabilly', 'rockalternative', 'rockindie', 'rockother',\n",
              "       'romance', 'roots', 'ruspop', 'rusrap', 'rusrock', 'russian',\n",
              "       'salsa', 'samba', 'scenic', 'schlager', 'self', 'sertanejo',\n",
              "       'shanson', 'shoegazing', 'showtunes', 'singer', 'ska', 'skarock',\n",
              "       'slow', 'smooth', 'soft', 'soul', 'soulful', 'sound', 'soundtrack',\n",
              "       'southern', 'specialty', 'speech', 'spiritual', 'sport',\n",
              "       'stonerrock', 'surf', 'swing', 'synthpop', 'synthrock',\n",
              "       'sängerportrait', 'tango', 'tanzorchester', 'taraftar', 'tatar',\n",
              "       'tech', 'techno', 'teen', 'thrash', 'top', 'traditional',\n",
              "       'tradjazz', 'trance', 'tribal', 'trip', 'triphop', 'tropical',\n",
              "       'türk', 'türkçe', 'ukrrock', 'unknown', 'urban', 'uzbek',\n",
              "       'variété', 'vi', 'videogame', 'vocal', 'western', 'world',\n",
              "       'worldbeat', 'ïîï', 'электроника'], dtype=object)"
            ]
          },
          "execution_count": 93,
          "metadata": {},
          "output_type": "execute_result"
        }
      ],
      "source": [
        "# Просмотр уникальных названий жанров\n",
        "unique_genre = df['genre']\n",
        "unique_genre = unique_genre.sort_values()\n",
        "unique_genre.unique()"
      ]
    },
    {
      "cell_type": "code",
      "execution_count": null,
      "metadata": {
        "deletable": false,
        "id": "ErNDkmns_Zct"
      },
      "outputs": [],
      "source": [
        "# Устранение неявных дубликатов\n",
        "duplicates = ['hip', 'hop', 'hip-hop']\n",
        "name='hiphop'\n",
        "df['genre'] = df['genre'].replace(duplicates, name)"
      ]
    },
    {
      "cell_type": "code",
      "execution_count": null,
      "metadata": {
        "deletable": false,
        "id": "wvixALnFG15m",
        "outputId": "ddf5866d-3ad5-4046-822a-f37a4dc168d6"
      },
      "outputs": [
        {
          "name": "stdout",
          "output_type": "stream",
          "text": [
            "['acid' 'acoustic' 'action' 'adult' 'africa' 'afrikaans' 'alternative'\n",
            " 'alternativepunk' 'ambient' 'americana' 'animated' 'anime' 'arabesk'\n",
            " 'arabic' 'arena' 'argentinetango' 'art' 'audiobook' 'author' 'avantgarde'\n",
            " 'axé' 'baile' 'balkan' 'beats' 'bigroom' 'black' 'bluegrass' 'blues'\n",
            " 'bollywood' 'bossa' 'brazilian' 'breakbeat' 'breaks' 'broadway'\n",
            " 'cantautori' 'cantopop' 'canzone' 'caribbean' 'caucasian' 'celtic'\n",
            " 'chamber' 'chanson' 'children' 'chill' 'chinese' 'choral' 'christian'\n",
            " 'christmas' 'classical' 'classicmetal' 'club' 'colombian' 'comedy'\n",
            " 'conjazz' 'contemporary' 'country' 'cuban' 'dance' 'dancehall' 'dancepop'\n",
            " 'dark' 'death' 'deep' 'deutschrock' 'deutschspr' 'dirty' 'disco' 'dnb'\n",
            " 'documentary' 'downbeat' 'downtempo' 'drum' 'dub' 'dubstep' 'eastern'\n",
            " 'easy' 'electronic' 'electropop' 'emo' 'entehno' 'epicmetal' 'estrada'\n",
            " 'ethnic' 'eurofolk' 'european' 'experimental' 'extrememetal' 'fado'\n",
            " 'fairytail' 'film' 'fitness' 'flamenco' 'folk' 'folklore' 'folkmetal'\n",
            " 'folkrock' 'folktronica' 'forró' 'frankreich' 'französisch' 'french'\n",
            " 'funk' 'future' 'gangsta' 'garage' 'german' 'ghazal' 'gitarre' 'glitch'\n",
            " 'gospel' 'gothic' 'grime' 'grunge' 'gypsy' 'handsup' \"hard'n'heavy\"\n",
            " 'hardcore' 'hardstyle' 'hardtechno' 'hiphop' 'historisch' 'holiday'\n",
            " 'horror' 'house' 'hymn' 'idm' 'independent' 'indian' 'indie' 'indipop'\n",
            " 'industrial' 'inspirational' 'instrumental' 'international' 'irish' 'jam'\n",
            " 'japanese' 'jazz' 'jewish' 'jpop' 'jungle' 'k-pop' 'karadeniz' 'karaoke'\n",
            " 'kayokyoku' 'korean' 'laiko' 'latin' 'latino' 'leftfield' 'local'\n",
            " 'lounge' 'loungeelectronic' 'lovers' 'malaysian' 'mandopop' 'marschmusik'\n",
            " 'meditative' 'mediterranean' 'melodic' 'metal' 'metalcore' 'mexican'\n",
            " 'middle' 'minimal' 'miscellaneous' 'modern' 'mood' 'mpb' 'muslim'\n",
            " 'native' 'neoklassik' 'neue' 'new' 'newage' 'newwave' 'nu' 'nujazz'\n",
            " 'numetal' 'oceania' 'old' 'opera' 'orchestral' 'other' 'piano' 'podcasts'\n",
            " 'pop' 'popdance' 'popelectronic' 'popeurodance' 'poprussian' 'post'\n",
            " 'posthardcore' 'postrock' 'power' 'progmetal' 'progressive' 'psychedelic'\n",
            " 'punjabi' 'punk' 'quebecois' 'ragga' 'ram' 'rancheras' 'rap' 'rave'\n",
            " 'reggae' 'reggaeton' 'regional' 'relax' 'religious' 'retro' 'rhythm'\n",
            " 'rnb' 'rnr' 'rock' 'rockabilly' 'rockalternative' 'rockindie' 'rockother'\n",
            " 'romance' 'roots' 'ruspop' 'rusrap' 'rusrock' 'russian' 'salsa' 'samba'\n",
            " 'scenic' 'schlager' 'self' 'sertanejo' 'shanson' 'shoegazing' 'showtunes'\n",
            " 'singer' 'ska' 'skarock' 'slow' 'smooth' 'soft' 'soul' 'soulful' 'sound'\n",
            " 'soundtrack' 'southern' 'specialty' 'speech' 'spiritual' 'sport'\n",
            " 'stonerrock' 'surf' 'swing' 'synthpop' 'synthrock' 'sängerportrait'\n",
            " 'tango' 'tanzorchester' 'taraftar' 'tatar' 'tech' 'techno' 'teen'\n",
            " 'thrash' 'top' 'traditional' 'tradjazz' 'trance' 'tribal' 'trip'\n",
            " 'triphop' 'tropical' 'türk' 'türkçe' 'ukrrock' 'unknown' 'urban' 'uzbek'\n",
            " 'variété' 'vi' 'videogame' 'vocal' 'western' 'world' 'worldbeat' 'ïîï'\n",
            " 'электроника']\n"
          ]
        }
      ],
      "source": [
        "# Проверка на неявные дубликаты\n",
        "unique_genre = df['genre']\n",
        "unique_genre = unique_genre.sort_values()\n",
        "print(unique_genre.unique())"
      ]
    },
    {
      "cell_type": "markdown",
      "metadata": {
        "deletable": false,
        "editable": false,
        "id": "jz6a9-7HQUDd"
      },
      "source": [
        "**Выводы**\n",
        "\n",
        "Предобработка обнаружила три проблемы в данных:\n",
        "\n",
        "- нарушения в стиле заголовков,\n",
        "- пропущенные значения,\n",
        "- дубликаты — явные и неявные.\n",
        "\n",
        "Мы исправили заголовки, чтобы упростить работу с таблицей. Без дубликатов исследование станет более точным.\n",
        "\n",
        "Пропущенные значения мы заменили на `'unknown'`. Ещё предстоит увидеть, не повредят ли исследованию пропуски в колонке `genre`.\n",
        "\n",
        "Теперь можно перейти к проверке гипотез."
      ]
    },
    {
      "cell_type": "markdown",
      "metadata": {
        "deletable": false,
        "editable": false,
        "id": "WttZHXH0SqKk"
      },
      "source": [
        "## Проверка гипотез"
      ]
    },
    {
      "cell_type": "markdown",
      "metadata": {
        "deletable": false,
        "editable": false,
        "id": "Im936VVi_Zcu"
      },
      "source": [
        "### Сравнение поведения пользователей двух столиц"
      ]
    },
    {
      "cell_type": "markdown",
      "metadata": {
        "deletable": false,
        "editable": false,
        "id": "nwt_MuaL_Zcu"
      },
      "source": [
        "Первая гипотеза утверждает, что пользователи по-разному слушают музыку в Москве и Санкт-Петербурге. Проверим это предположение по данным о трёх днях недели — понедельнике, среде и пятнице. Для этого:\n",
        "\n",
        "* Разделим пользователей Москвы и Санкт-Петербурга.\n",
        "* Сравним, сколько треков послушала каждая группа пользователей в понедельник, среду и пятницу.\n"
      ]
    },
    {
      "cell_type": "code",
      "execution_count": null,
      "metadata": {
        "deletable": false,
        "id": "0_Qs96oh_Zcu",
        "outputId": "413097d0-ef14-4852-ac30-d8031944b6bb"
      },
      "outputs": [
        {
          "data": {
            "text/plain": [
              "city\n",
              "Moscow              42741\n",
              "Saint-Petersburg    18512\n",
              "Name: genre, dtype: int64"
            ]
          },
          "execution_count": 96,
          "metadata": {},
          "output_type": "execute_result"
        }
      ],
      "source": [
        "# Подсчёт прослушиваний в каждом городе\n",
        "df.groupby('city')['genre'].count()"
      ]
    },
    {
      "cell_type": "code",
      "execution_count": null,
      "metadata": {
        "deletable": false,
        "id": "uZMKjiJz_Zcu",
        "outputId": "b910270c-8635-4f3a-8db9-7770cfd2461e"
      },
      "outputs": [
        {
          "data": {
            "text/plain": [
              "day\n",
              "Friday       21840\n",
              "Monday       21354\n",
              "Wednesday    18059\n",
              "Name: genre, dtype: int64"
            ]
          },
          "execution_count": 97,
          "metadata": {},
          "output_type": "execute_result"
        }
      ],
      "source": [
        "# Подсчёт прослушиваний в каждый из трёх дней\n",
        "df.groupby('day')['genre'].count()"
      ]
    },
    {
      "cell_type": "markdown",
      "metadata": {
        "deletable": false,
        "editable": false,
        "id": "cC2tNrlL_Zcu"
      },
      "source": [
        "В среднем пользователи из двух городов менее активны по средам. Но картина может измениться, если рассмотреть каждый город в отдельности."
      ]
    },
    {
      "cell_type": "code",
      "execution_count": null,
      "metadata": {
        "deletable": false,
        "id": "Nz3GdQB1_Zcu"
      },
      "outputs": [],
      "source": [
        "# <создание функции number_tracks()>\n",
        "def number_tracks(day, city):# Объявляется функция с двумя параметрами: day, city.\n",
        "    track_list = df[df['day']==day]\n",
        "    track_list = track_list[track_list['city']==city]\n",
        "    track_list_count = track_list['user_id'].count()\n",
        "    return track_list_count # Функция возвращает число - значение track_list_count."
      ]
    },
    {
      "cell_type": "code",
      "execution_count": null,
      "metadata": {
        "deletable": false,
        "id": "rJcRATNQ_Zcu",
        "outputId": "99a39748-ba93-4e71-a956-941c8a533e13"
      },
      "outputs": [
        {
          "data": {
            "text/plain": [
              "15740"
            ]
          },
          "execution_count": 99,
          "metadata": {},
          "output_type": "execute_result"
        }
      ],
      "source": [
        "# количество прослушиваний в Москве по понедельникам\n",
        "number_tracks('Monday', 'Moscow')"
      ]
    },
    {
      "cell_type": "code",
      "execution_count": null,
      "metadata": {
        "deletable": false,
        "id": "hq_ncZ5T_Zcu",
        "outputId": "6f4129e0-3789-4c49-b596-0dbc84a886a6"
      },
      "outputs": [
        {
          "data": {
            "text/plain": [
              "5614"
            ]
          },
          "execution_count": 100,
          "metadata": {},
          "output_type": "execute_result"
        }
      ],
      "source": [
        "# количество прослушиваний в Санкт-Петербурге по понедельникам\n",
        "number_tracks('Monday', 'Saint-Petersburg')"
      ]
    },
    {
      "cell_type": "code",
      "execution_count": null,
      "metadata": {
        "deletable": false,
        "id": "_NTy2VPU_Zcu",
        "outputId": "b0b30204-46b9-400f-ea82-75e8f0d8f49c"
      },
      "outputs": [
        {
          "data": {
            "text/plain": [
              "11056"
            ]
          },
          "execution_count": 101,
          "metadata": {},
          "output_type": "execute_result"
        }
      ],
      "source": [
        "# количество прослушиваний в Москве по средам\n",
        "number_tracks('Wednesday', 'Moscow')"
      ]
    },
    {
      "cell_type": "code",
      "execution_count": null,
      "metadata": {
        "deletable": false,
        "id": "j2y3TAwo_Zcu",
        "outputId": "6d67dccc-34a8-4954-b975-a857c07ccb26"
      },
      "outputs": [
        {
          "data": {
            "text/plain": [
              "7003"
            ]
          },
          "execution_count": 102,
          "metadata": {},
          "output_type": "execute_result"
        }
      ],
      "source": [
        "# количество прослушиваний в Санкт-Петербурге по средам\n",
        "number_tracks('Wednesday', 'Saint-Petersburg')"
      ]
    },
    {
      "cell_type": "code",
      "execution_count": null,
      "metadata": {
        "deletable": false,
        "id": "vYDw5u_K_Zcu",
        "outputId": "c6f71590-9fef-46ff-a406-3ac440234186"
      },
      "outputs": [
        {
          "data": {
            "text/plain": [
              "15945"
            ]
          },
          "execution_count": 103,
          "metadata": {},
          "output_type": "execute_result"
        }
      ],
      "source": [
        "# количество прослушиваний в Москве по пятницам\n",
        "number_tracks('Friday', 'Moscow')"
      ]
    },
    {
      "cell_type": "code",
      "execution_count": null,
      "metadata": {
        "deletable": false,
        "id": "8_yzFtW3_Zcu",
        "outputId": "e0203699-f8f4-4452-fba7-ea83290b7915"
      },
      "outputs": [
        {
          "data": {
            "text/plain": [
              "5895"
            ]
          },
          "execution_count": 104,
          "metadata": {},
          "output_type": "execute_result"
        }
      ],
      "source": [
        "# количество прослушиваний в Санкт-Петербурге по пятницам\n",
        "number_tracks('Friday', 'Saint-Petersburg')"
      ]
    },
    {
      "cell_type": "code",
      "execution_count": null,
      "metadata": {
        "deletable": false,
        "id": "APAcLpOr_Zcu",
        "outputId": "2dee6b50-261a-4d28-d97d-26f159603eca"
      },
      "outputs": [
        {
          "data": {
            "text/html": [
              "<div>\n",
              "<style scoped>\n",
              "    .dataframe tbody tr th:only-of-type {\n",
              "        vertical-align: middle;\n",
              "    }\n",
              "\n",
              "    .dataframe tbody tr th {\n",
              "        vertical-align: top;\n",
              "    }\n",
              "\n",
              "    .dataframe thead th {\n",
              "        text-align: right;\n",
              "    }\n",
              "</style>\n",
              "<table border=\"1\" class=\"dataframe\">\n",
              "  <thead>\n",
              "    <tr style=\"text-align: right;\">\n",
              "      <th></th>\n",
              "      <th>city</th>\n",
              "      <th>monday</th>\n",
              "      <th>wednesday</th>\n",
              "      <th>friday</th>\n",
              "    </tr>\n",
              "  </thead>\n",
              "  <tbody>\n",
              "    <tr>\n",
              "      <th>0</th>\n",
              "      <td>Moscow</td>\n",
              "      <td>15740</td>\n",
              "      <td>11056</td>\n",
              "      <td>15945</td>\n",
              "    </tr>\n",
              "    <tr>\n",
              "      <th>1</th>\n",
              "      <td>Saint-Petersburg</td>\n",
              "      <td>5614</td>\n",
              "      <td>7003</td>\n",
              "      <td>5895</td>\n",
              "    </tr>\n",
              "  </tbody>\n",
              "</table>\n",
              "</div>"
            ],
            "text/plain": [
              "               city  monday  wednesday  friday\n",
              "0            Moscow   15740      11056   15945\n",
              "1  Saint-Petersburg    5614       7003    5895"
            ]
          },
          "metadata": {},
          "output_type": "display_data"
        }
      ],
      "source": [
        "# Таблица с результатами\n",
        "number_tracks_moscow=['Moscow']\n",
        "number_tracks_spb=['Saint-Petersburg']\n",
        "number_tracks_moscow.append(number_tracks('Monday', 'Moscow'))\n",
        "number_tracks_spb.append(number_tracks('Monday', 'Saint-Petersburg'))\n",
        "number_tracks_moscow.append(number_tracks('Wednesday', 'Moscow'))\n",
        "number_tracks_spb.append(number_tracks('Wednesday', 'Saint-Petersburg'))\n",
        "number_tracks_moscow.append(number_tracks('Friday', 'Moscow'))\n",
        "number_tracks_spb.append(number_tracks('Friday', 'Saint-Petersburg'))\n",
        "number_tracks_array=[number_tracks_moscow,number_tracks_spb]\n",
        "info = pd.DataFrame(data=number_tracks_array, columns=['city', 'monday', 'wednesday', 'friday'])\n",
        "\n",
        "display(info)"
      ]
    },
    {
      "cell_type": "markdown",
      "metadata": {
        "deletable": false,
        "editable": false,
        "id": "-EgPIHYu_Zcu"
      },
      "source": [
        "**Выводы**\n",
        "\n",
        "Данные показывают разницу поведения пользователей:\n",
        "\n",
        "- В Москве пик прослушиваний приходится на понедельник и пятницу, а в среду заметен спад.\n",
        "- В Петербурге, наоборот, больше слушают музыку по средам. Активность в понедельник и пятницу здесь почти в равной мере уступает среде.\n",
        "\n",
        "Значит, данные говорят в пользу первой гипотезы."
      ]
    },
    {
      "cell_type": "markdown",
      "metadata": {
        "deletable": false,
        "editable": false,
        "id": "atZAxtq4_Zcu"
      },
      "source": [
        "### Музыка в начале и в конце недели"
      ]
    },
    {
      "cell_type": "markdown",
      "metadata": {
        "deletable": false,
        "editable": false,
        "id": "eXrQqXFH_Zcu"
      },
      "source": [
        "Согласно второй гипотезе, утром в понедельник в Москве преобладают одни жанры, а в Петербурге — другие. Так же и вечером пятницы преобладают разные жанры — в зависимости от города."
      ]
    },
    {
      "cell_type": "code",
      "execution_count": null,
      "metadata": {
        "deletable": false,
        "id": "qeaFfM_P_Zcu"
      },
      "outputs": [],
      "source": [
        "# получение таблицы moscow_general из тех строк таблицы df,\n",
        "# для которых значение в столбце 'city' равно 'Moscow'\n",
        "moscow_general=df[df['city']=='Moscow']\n"
      ]
    },
    {
      "cell_type": "code",
      "execution_count": null,
      "metadata": {
        "deletable": false,
        "id": "ORaVRKto_Zcu"
      },
      "outputs": [],
      "source": [
        "# получение таблицы spb_general из тех строк таблицы df,\n",
        "# для которых значение в столбце 'city' равно 'Saint-Petersburg'\n",
        "spb_general=df[df['city']=='Saint-Petersburg']"
      ]
    },
    {
      "cell_type": "code",
      "execution_count": null,
      "metadata": {
        "deletable": false,
        "id": "laJT9BYl_Zcu"
      },
      "outputs": [],
      "source": [
        "# Объявление функции genre_weekday() с параметрами table, day, time1, time2,\n",
        "\n",
        "\n",
        "def genre_weekday(df, day, time1, time2):\n",
        "    # последовательная фильтрация\n",
        "    # оставляем в genre_df только те строки df, у которых день равен day\n",
        "    genre_df=df[df['day']==day]\n",
        "    # оставляем в genre_df только те строки genre_df, у которых время меньше time2\n",
        "    genre_df=genre_df[genre_df['time']>time1]\n",
        "    # оставляем в genre_df только те строки genre_df, у которых время больше time1\n",
        "    genre_df=genre_df[genre_df['time']<time2]\n",
        "    # сгруппируем отфильтрованный датафрейм по столбцу с названиями жанров, возьмём столбец genre и посчитаем кол-во строк для каждого жанра методом count()\n",
        "    genre_df_count=genre_df.groupby('genre')['genre'].count()\n",
        "    # отсортируем результат по убыванию (чтобы в начале Series оказались самые популярные жанры)\n",
        "    genre_df_sorted=genre_df_count.sort_values(ascending=False)\n",
        "    # вернём Series с 10 самыми популярными жанрами в указанный отрезок времени заданного дня\n",
        "    return genre_df_sorted[:10]\n"
      ]
    },
    {
      "cell_type": "code",
      "execution_count": null,
      "metadata": {
        "deletable": false,
        "id": "yz7itPUQ_Zcu",
        "outputId": "ae8d6c24-7582-4bcd-a844-3cce96250e28"
      },
      "outputs": [
        {
          "data": {
            "text/plain": [
              "genre\n",
              "pop            781\n",
              "dance          549\n",
              "electronic     480\n",
              "rock           474\n",
              "hiphop         286\n",
              "ruspop         186\n",
              "world          181\n",
              "rusrap         175\n",
              "alternative    164\n",
              "unknown        161\n",
              "Name: genre, dtype: int64"
            ]
          },
          "execution_count": 109,
          "metadata": {},
          "output_type": "execute_result"
        }
      ],
      "source": [
        "# вызов функции для утра понедельника в Москве (вместо df — таблица moscow_general)\n",
        "# объекты, хранящие время, являются строками и сравниваются как строки\n",
        "# пример вызова: genre_weekday(moscow_general, 'Monday', '07:00', '11:00')\n",
        "genre_weekday(moscow_general, 'Monday', '07:00', '11:00')"
      ]
    },
    {
      "cell_type": "code",
      "execution_count": null,
      "metadata": {
        "deletable": false,
        "id": "kwUcHPdy_Zcu",
        "outputId": "25995920-0339-4254-ead5-7502156cf63f"
      },
      "outputs": [
        {
          "data": {
            "text/plain": [
              "genre\n",
              "pop            218\n",
              "dance          182\n",
              "rock           162\n",
              "electronic     147\n",
              "hiphop          80\n",
              "ruspop          64\n",
              "alternative     58\n",
              "rusrap          55\n",
              "jazz            44\n",
              "classical       40\n",
              "Name: genre, dtype: int64"
            ]
          },
          "execution_count": 110,
          "metadata": {},
          "output_type": "execute_result"
        }
      ],
      "source": [
        "# вызов функции для утра понедельника в Петербурге (вместо df — таблица spb_general)\n",
        "genre_weekday(spb_general, 'Monday', '07:00', '11:00')"
      ]
    },
    {
      "cell_type": "code",
      "execution_count": null,
      "metadata": {
        "deletable": false,
        "id": "EzXVRE1o_Zcu",
        "outputId": "e1d40a54-7a6d-4907-ea56-a21adfacdc4d"
      },
      "outputs": [
        {
          "data": {
            "text/plain": [
              "genre\n",
              "pop            713\n",
              "rock           517\n",
              "dance          495\n",
              "electronic     482\n",
              "hiphop         273\n",
              "world          208\n",
              "ruspop         170\n",
              "alternative    163\n",
              "classical      163\n",
              "rusrap         142\n",
              "Name: genre, dtype: int64"
            ]
          },
          "execution_count": 111,
          "metadata": {},
          "output_type": "execute_result"
        }
      ],
      "source": [
        "# вызов функции для вечера пятницы в Москве\n",
        "genre_weekday(moscow_general, 'Friday', '17:00', '23:00')"
      ]
    },
    {
      "cell_type": "code",
      "execution_count": null,
      "metadata": {
        "deletable": false,
        "id": "JZaEKu5v_Zcu",
        "outputId": "1b55c961-6694-4741-b30c-200b15ceea98"
      },
      "outputs": [
        {
          "data": {
            "text/plain": [
              "genre\n",
              "pop            256\n",
              "electronic     216\n",
              "rock           216\n",
              "dance          210\n",
              "hiphop          97\n",
              "alternative     63\n",
              "jazz            61\n",
              "classical       60\n",
              "rusrap          59\n",
              "world           54\n",
              "Name: genre, dtype: int64"
            ]
          },
          "execution_count": 112,
          "metadata": {},
          "output_type": "execute_result"
        }
      ],
      "source": [
        "# вызов функции для вечера пятницы в Петербурге\n",
        "genre_weekday(spb_general, 'Friday', '17:00', '23:00')"
      ]
    },
    {
      "cell_type": "markdown",
      "metadata": {
        "deletable": false,
        "editable": false,
        "id": "wrCe4MNX_Zcu"
      },
      "source": [
        "**Выводы**\n",
        "\n",
        "Если сравнить топ-10 жанров в понедельник утром, можно сделать такие выводы:\n",
        "\n",
        "1. В Москве и Петербурге слушают похожую музыку. Единственное отличие — в московский рейтинг вошёл жанр “world”, а в петербургский — джаз и классика.\n",
        "\n",
        "2. В Москве пропущенных значений оказалось так много, что значение `'unknown'` заняло десятое место среди самых популярных жанров. Значит, пропущенные значения занимают существенную долю в данных и угрожают достоверности исследования.\n",
        "\n",
        "Вечер пятницы не меняет эту картину. Некоторые жанры поднимаются немного выше, другие спускаются, но в целом топ-10 остаётся тем же самым.\n",
        "\n",
        "Таким образом, вторая гипотеза подтвердилась лишь частично:\n",
        "* Пользователи слушают похожую музыку в начале недели и в конце.\n",
        "* Разница между Москвой и Петербургом не слишком выражена. В Москве чаще слушают русскую популярную музыку, в Петербурге — джаз.\n",
        "\n",
        "Однако пропуски в данных ставят под сомнение этот результат. В Москве их так много, что рейтинг топ-10 мог бы выглядеть иначе, если бы не утерянные  данные о жанрах."
      ]
    },
    {
      "cell_type": "markdown",
      "metadata": {
        "deletable": false,
        "editable": false,
        "id": "JolODAqr_Zcu"
      },
      "source": [
        "### Жанровые предпочтения в Москве и Петербурге\n",
        "\n",
        "Гипотеза: Петербург — столица рэпа, музыку этого жанра там слушают чаще, чем в Москве.  А Москва — город контрастов, в котором, тем не менее, преобладает поп-музыка."
      ]
    },
    {
      "cell_type": "code",
      "execution_count": null,
      "metadata": {
        "deletable": false,
        "id": "r19lIPke_Zcu"
      },
      "outputs": [],
      "source": [
        "# одной строкой: группировка таблицы moscow_general по столбцу 'genre',\n",
        "# подсчёт числа значений 'genre' в этой группировке методом count(),\n",
        "# сортировка получившегося Series в порядке убывания и сохранение в moscow_genres\n",
        "moscow_genres = (moscow_general.groupby('genre')['genre'].count().sort_values(ascending=False))\n",
        "\n"
      ]
    },
    {
      "cell_type": "code",
      "execution_count": null,
      "metadata": {
        "deletable": false,
        "id": "WhCSooF8_Zcv",
        "outputId": "cca61eb2-4796-4ea8-a043-d5d63e8c950c"
      },
      "outputs": [
        {
          "data": {
            "text/plain": [
              "genre\n",
              "pop            5892\n",
              "dance          4435\n",
              "rock           3965\n",
              "electronic     3786\n",
              "hiphop         2096\n",
              "classical      1616\n",
              "world          1432\n",
              "alternative    1379\n",
              "ruspop         1372\n",
              "rusrap         1161\n",
              "Name: genre, dtype: int64"
            ]
          },
          "execution_count": 114,
          "metadata": {},
          "output_type": "execute_result"
        }
      ],
      "source": [
        "# просмотр первых 10 строк moscow_genres\n",
        "moscow_genres[:10]"
      ]
    },
    {
      "cell_type": "code",
      "execution_count": null,
      "metadata": {
        "deletable": false,
        "id": "gluLIpE7_Zcv"
      },
      "outputs": [],
      "source": [
        "# одной строкой: группировка таблицы spb_general по столбцу 'genre',\n",
        "# подсчёт числа значений 'genre' в этой группировке методом count(),\n",
        "# сортировка получившегося Series в порядке убывания и сохранение в spb_genres\n",
        "spb_genres = (spb_general.groupby('genre')['genre'].count().sort_values(ascending=False))"
      ]
    },
    {
      "cell_type": "code",
      "execution_count": null,
      "metadata": {
        "deletable": false,
        "id": "uaGJHjVU_Zcv"
      },
      "outputs": [],
      "source": [
        "# просмотр первых 10 строк spb_genres\n",
        "spb_genres[:10]"
      ]
    },
    {
      "cell_type": "markdown",
      "metadata": {
        "deletable": false,
        "editable": false,
        "id": "RY51YJYu_Zcv"
      },
      "source": [
        "**Выводы**"
      ]
    },
    {
      "cell_type": "markdown",
      "metadata": {
        "deletable": false,
        "editable": false,
        "id": "nVhnJEm__Zcv"
      },
      "source": [
        "Гипотеза частично подтвердилась:\n",
        "* Поп-музыка — самый популярный жанр в Москве, как и предполагала гипотеза. Более того, в топ-10 жанров встречается близкий жанр — русская популярная музыка.\n",
        "* Вопреки ожиданиям, рэп одинаково популярен в Москве и Петербурге.\n"
      ]
    },
    {
      "cell_type": "markdown",
      "metadata": {
        "deletable": false,
        "editable": false,
        "id": "ykKQ0N65_Zcv"
      },
      "source": [
        "## Итоги исследования"
      ]
    },
    {
      "cell_type": "markdown",
      "metadata": {
        "deletable": false,
        "editable": false,
        "id": "tjUwbHb3_Zcv"
      },
      "source": [
        "Мы проверили три гипотезы и установили:\n",
        "\n",
        "1. День недели по-разному влияет на активность пользователей в Москве и Петербурге.\n",
        "\n",
        "Первая гипотеза полностью подтвердилась.\n",
        "\n",
        "2. Музыкальные предпочтения не сильно меняются в течение недели — будь то Москва или Петербург. Небольшие различия заметны в начале недели, по понедельникам:\n",
        "* в Москве слушают музыку жанра “world”,\n",
        "* в Петербурге — джаз и классику.\n",
        "\n",
        "Таким образом, вторая гипотеза подтвердилась лишь отчасти. Этот результат мог оказаться иным, если бы не пропуски в данных.\n",
        "\n",
        "3. Во вкусах пользователей Москвы и Петербурга больше общего чем различий. Вопреки ожиданиям, предпочтения жанров в Петербурге напоминают московские.\n",
        "\n",
        "Третья гипотеза не подтвердилась. Если различия в предпочтениях и существуют, на основной массе пользователей они незаметны.\n",
        "\n",
        "**На практике исследования содержат проверки статистических гипотез.**\n",
        "Из данных одного сервиса не всегда можно сделать вывод о всех жителях города.\n",
        "Проверки статистических гипотез покажут, насколько они достоверны, исходя из имеющихся данных.\n"
      ]
    }
  ],
  "metadata": {
    "ExecuteTimeLog": [
      {
        "duration": 47,
        "start_time": "2022-12-19T07:04:58.968Z"
      },
      {
        "duration": 4,
        "start_time": "2022-12-19T07:05:11.517Z"
      },
      {
        "duration": 12,
        "start_time": "2022-12-19T07:05:23.101Z"
      },
      {
        "duration": 10,
        "start_time": "2022-12-19T07:05:38.704Z"
      },
      {
        "duration": 397,
        "start_time": "2022-12-19T07:05:59.923Z"
      },
      {
        "duration": 233,
        "start_time": "2022-12-19T07:06:00.322Z"
      },
      {
        "duration": 17,
        "start_time": "2022-12-19T07:06:00.556Z"
      },
      {
        "duration": 34,
        "start_time": "2022-12-19T07:06:00.576Z"
      },
      {
        "duration": 11,
        "start_time": "2022-12-19T07:06:00.612Z"
      },
      {
        "duration": 23,
        "start_time": "2022-12-19T07:06:00.624Z"
      },
      {
        "duration": 54,
        "start_time": "2022-12-19T07:06:00.649Z"
      },
      {
        "duration": 24,
        "start_time": "2022-12-19T07:06:00.704Z"
      },
      {
        "duration": 59,
        "start_time": "2022-12-19T07:06:00.730Z"
      },
      {
        "duration": 35,
        "start_time": "2022-12-19T07:06:00.793Z"
      },
      {
        "duration": 57,
        "start_time": "2022-12-19T07:06:00.829Z"
      },
      {
        "duration": 93,
        "start_time": "2022-12-19T07:06:00.888Z"
      },
      {
        "duration": 73,
        "start_time": "2022-12-19T07:06:00.983Z"
      },
      {
        "duration": 76,
        "start_time": "2022-12-19T07:06:01.058Z"
      },
      {
        "duration": 40,
        "start_time": "2022-12-19T07:06:01.136Z"
      },
      {
        "duration": 18,
        "start_time": "2022-12-19T07:06:01.177Z"
      },
      {
        "duration": 52,
        "start_time": "2022-12-19T07:06:01.196Z"
      },
      {
        "duration": 13,
        "start_time": "2022-12-19T07:06:01.249Z"
      },
      {
        "duration": 16,
        "start_time": "2022-12-19T07:06:01.263Z"
      },
      {
        "duration": 6,
        "start_time": "2022-12-19T07:06:01.281Z"
      },
      {
        "duration": 37,
        "start_time": "2022-12-19T07:06:01.288Z"
      },
      {
        "duration": 16,
        "start_time": "2022-12-19T07:06:01.327Z"
      },
      {
        "duration": 29,
        "start_time": "2022-12-19T07:06:01.344Z"
      },
      {
        "duration": 25,
        "start_time": "2022-12-19T07:06:01.374Z"
      },
      {
        "duration": 26,
        "start_time": "2022-12-19T07:06:01.400Z"
      },
      {
        "duration": 22,
        "start_time": "2022-12-19T07:06:01.428Z"
      },
      {
        "duration": 83,
        "start_time": "2022-12-19T07:06:01.451Z"
      },
      {
        "duration": 2,
        "start_time": "2022-12-19T07:06:01.537Z"
      },
      {
        "duration": 19,
        "start_time": "2022-12-19T07:06:01.540Z"
      },
      {
        "duration": 45,
        "start_time": "2022-12-19T07:06:01.561Z"
      },
      {
        "duration": 0,
        "start_time": "2022-12-19T07:06:01.608Z"
      },
      {
        "duration": 0,
        "start_time": "2022-12-19T07:06:01.609Z"
      },
      {
        "duration": 0,
        "start_time": "2022-12-19T07:06:01.610Z"
      },
      {
        "duration": 0,
        "start_time": "2022-12-19T07:06:01.611Z"
      },
      {
        "duration": 0,
        "start_time": "2022-12-19T07:06:01.612Z"
      },
      {
        "duration": 0,
        "start_time": "2022-12-19T07:06:01.613Z"
      },
      {
        "duration": 0,
        "start_time": "2022-12-19T07:06:01.615Z"
      },
      {
        "duration": 0,
        "start_time": "2022-12-19T07:06:01.616Z"
      },
      {
        "duration": 4,
        "start_time": "2022-12-19T07:10:25.992Z"
      },
      {
        "duration": 4,
        "start_time": "2022-12-19T07:15:29.964Z"
      },
      {
        "duration": 29,
        "start_time": "2022-12-19T07:16:03.177Z"
      },
      {
        "duration": 2,
        "start_time": "2022-12-19T07:16:21.532Z"
      },
      {
        "duration": 174,
        "start_time": "2022-12-19T07:16:21.536Z"
      },
      {
        "duration": 11,
        "start_time": "2022-12-19T07:16:21.712Z"
      },
      {
        "duration": 31,
        "start_time": "2022-12-19T07:16:21.725Z"
      },
      {
        "duration": 3,
        "start_time": "2022-12-19T07:16:21.757Z"
      },
      {
        "duration": 10,
        "start_time": "2022-12-19T07:16:21.761Z"
      },
      {
        "duration": 12,
        "start_time": "2022-12-19T07:16:21.773Z"
      },
      {
        "duration": 7,
        "start_time": "2022-12-19T07:16:21.786Z"
      },
      {
        "duration": 45,
        "start_time": "2022-12-19T07:16:21.795Z"
      },
      {
        "duration": 20,
        "start_time": "2022-12-19T07:16:21.841Z"
      },
      {
        "duration": 24,
        "start_time": "2022-12-19T07:16:21.862Z"
      },
      {
        "duration": 95,
        "start_time": "2022-12-19T07:16:21.887Z"
      },
      {
        "duration": 71,
        "start_time": "2022-12-19T07:16:21.984Z"
      },
      {
        "duration": 76,
        "start_time": "2022-12-19T07:16:22.057Z"
      },
      {
        "duration": 43,
        "start_time": "2022-12-19T07:16:22.135Z"
      },
      {
        "duration": 11,
        "start_time": "2022-12-19T07:16:22.179Z"
      },
      {
        "duration": 53,
        "start_time": "2022-12-19T07:16:22.191Z"
      },
      {
        "duration": 10,
        "start_time": "2022-12-19T07:16:22.246Z"
      },
      {
        "duration": 10,
        "start_time": "2022-12-19T07:16:22.258Z"
      },
      {
        "duration": 4,
        "start_time": "2022-12-19T07:16:22.269Z"
      },
      {
        "duration": 44,
        "start_time": "2022-12-19T07:16:22.274Z"
      },
      {
        "duration": 15,
        "start_time": "2022-12-19T07:16:22.320Z"
      },
      {
        "duration": 14,
        "start_time": "2022-12-19T07:16:22.337Z"
      },
      {
        "duration": 13,
        "start_time": "2022-12-19T07:16:22.355Z"
      },
      {
        "duration": 48,
        "start_time": "2022-12-19T07:16:22.369Z"
      },
      {
        "duration": 16,
        "start_time": "2022-12-19T07:16:22.419Z"
      },
      {
        "duration": 82,
        "start_time": "2022-12-19T07:16:22.437Z"
      },
      {
        "duration": 10,
        "start_time": "2022-12-19T07:16:22.521Z"
      },
      {
        "duration": 10,
        "start_time": "2022-12-19T07:16:22.532Z"
      },
      {
        "duration": 23,
        "start_time": "2022-12-19T07:16:22.543Z"
      },
      {
        "duration": 3,
        "start_time": "2022-12-19T07:16:22.567Z"
      },
      {
        "duration": 7,
        "start_time": "2022-12-19T07:16:22.571Z"
      },
      {
        "duration": 14,
        "start_time": "2022-12-19T07:16:22.580Z"
      },
      {
        "duration": 9,
        "start_time": "2022-12-19T07:16:22.596Z"
      },
      {
        "duration": 2,
        "start_time": "2022-12-19T07:16:22.616Z"
      },
      {
        "duration": 5,
        "start_time": "2022-12-19T07:16:22.620Z"
      },
      {
        "duration": 7,
        "start_time": "2022-12-19T07:16:22.626Z"
      },
      {
        "duration": 11,
        "start_time": "2022-12-19T07:16:22.635Z"
      },
      {
        "duration": 45,
        "start_time": "2022-12-19T07:19:29.538Z"
      },
      {
        "duration": 45,
        "start_time": "2022-12-19T07:19:42.622Z"
      },
      {
        "duration": 6,
        "start_time": "2022-12-19T07:19:47.486Z"
      },
      {
        "duration": 2,
        "start_time": "2022-12-19T07:20:03.643Z"
      },
      {
        "duration": 187,
        "start_time": "2022-12-19T07:20:03.648Z"
      },
      {
        "duration": 10,
        "start_time": "2022-12-19T07:20:03.837Z"
      },
      {
        "duration": 31,
        "start_time": "2022-12-19T07:20:03.849Z"
      },
      {
        "duration": 3,
        "start_time": "2022-12-19T07:20:03.882Z"
      },
      {
        "duration": 9,
        "start_time": "2022-12-19T07:20:03.886Z"
      },
      {
        "duration": 11,
        "start_time": "2022-12-19T07:20:03.916Z"
      },
      {
        "duration": 6,
        "start_time": "2022-12-19T07:20:03.928Z"
      },
      {
        "duration": 26,
        "start_time": "2022-12-19T07:20:03.937Z"
      },
      {
        "duration": 19,
        "start_time": "2022-12-19T07:20:03.965Z"
      },
      {
        "duration": 42,
        "start_time": "2022-12-19T07:20:03.986Z"
      },
      {
        "duration": 64,
        "start_time": "2022-12-19T07:20:04.030Z"
      },
      {
        "duration": 80,
        "start_time": "2022-12-19T07:20:04.095Z"
      },
      {
        "duration": 65,
        "start_time": "2022-12-19T07:20:04.176Z"
      },
      {
        "duration": 40,
        "start_time": "2022-12-19T07:20:04.243Z"
      },
      {
        "duration": 11,
        "start_time": "2022-12-19T07:20:04.284Z"
      },
      {
        "duration": 53,
        "start_time": "2022-12-19T07:20:04.296Z"
      },
      {
        "duration": 12,
        "start_time": "2022-12-19T07:20:04.352Z"
      },
      {
        "duration": 11,
        "start_time": "2022-12-19T07:20:04.365Z"
      },
      {
        "duration": 4,
        "start_time": "2022-12-19T07:20:04.377Z"
      },
      {
        "duration": 54,
        "start_time": "2022-12-19T07:20:04.383Z"
      },
      {
        "duration": 18,
        "start_time": "2022-12-19T07:20:04.438Z"
      },
      {
        "duration": 19,
        "start_time": "2022-12-19T07:20:04.458Z"
      },
      {
        "duration": 14,
        "start_time": "2022-12-19T07:20:04.480Z"
      },
      {
        "duration": 34,
        "start_time": "2022-12-19T07:20:04.495Z"
      },
      {
        "duration": 15,
        "start_time": "2022-12-19T07:20:04.531Z"
      },
      {
        "duration": 93,
        "start_time": "2022-12-19T07:20:04.547Z"
      },
      {
        "duration": 12,
        "start_time": "2022-12-19T07:20:04.642Z"
      },
      {
        "duration": 10,
        "start_time": "2022-12-19T07:20:04.655Z"
      },
      {
        "duration": 4,
        "start_time": "2022-12-19T07:20:04.667Z"
      },
      {
        "duration": 30,
        "start_time": "2022-12-19T07:20:04.673Z"
      },
      {
        "duration": 22,
        "start_time": "2022-12-19T07:20:04.705Z"
      },
      {
        "duration": 16,
        "start_time": "2022-12-19T07:20:04.728Z"
      },
      {
        "duration": 11,
        "start_time": "2022-12-19T07:20:04.745Z"
      },
      {
        "duration": 8,
        "start_time": "2022-12-19T07:20:04.757Z"
      },
      {
        "duration": 7,
        "start_time": "2022-12-19T07:20:04.767Z"
      },
      {
        "duration": 14,
        "start_time": "2022-12-19T07:20:04.776Z"
      },
      {
        "duration": 9,
        "start_time": "2022-12-19T07:20:04.815Z"
      }
    ],
    "colab": {
      "collapsed_sections": [
        "E0vqbgi9ay0H",
        "VUC88oWjTJw2"
      ],
      "provenance": []
    },
    "kernelspec": {
      "display_name": "Python 3 (ipykernel)",
      "language": "python",
      "name": "python3"
    },
    "language_info": {
      "codemirror_mode": {
        "name": "ipython",
        "version": 3
      },
      "file_extension": ".py",
      "mimetype": "text/x-python",
      "name": "python",
      "nbconvert_exporter": "python",
      "pygments_lexer": "ipython3",
      "version": "3.9.5"
    },
    "toc": {
      "base_numbering": 1,
      "nav_menu": {
        "height": "215px",
        "width": "403px"
      },
      "number_sections": true,
      "sideBar": true,
      "skip_h1_title": true,
      "title_cell": "Table of Contents",
      "title_sidebar": "Contents",
      "toc_cell": false,
      "toc_position": {
        "height": "calc(100% - 180px)",
        "left": "10px",
        "top": "150px",
        "width": "285.825px"
      },
      "toc_section_display": true,
      "toc_window_display": false
    }
  },
  "nbformat": 4,
  "nbformat_minor": 0
}
